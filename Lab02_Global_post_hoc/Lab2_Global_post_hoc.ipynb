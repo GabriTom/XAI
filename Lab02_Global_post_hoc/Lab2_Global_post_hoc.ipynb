{
  "cells": [
    {
      "cell_type": "markdown",
      "metadata": {
        "id": "YO0NhD6Q4BjE"
      },
      "source": [
        "# **Lab 2 - Explainable and Trustworthy AI**\n",
        "\n",
        "\n",
        "---\n",
        "\n"
      ]
    },
    {
      "cell_type": "markdown",
      "metadata": {
        "id": "ZZLb6zMxU0KA"
      },
      "source": [
        "**Eleonora Poeta** (eleonora.poeta@polito.it)"
      ]
    },
    {
      "cell_type": "markdown",
      "metadata": {
        "id": "tmMAwr1FVAXC"
      },
      "source": [
        "**Lab 2:** Global post-hoc explainable models on structured data"
      ]
    },
    {
      "cell_type": "markdown",
      "metadata": {
        "id": "1Dsi41aUVEUH"
      },
      "source": [
        "# **Permutation Feature Importance**\n",
        "\n",
        "\n",
        "---\n",
        "\n"
      ]
    },
    {
      "cell_type": "markdown",
      "metadata": {
        "id": "3xhAN6SEZLir"
      },
      "source": [
        "*\tPermutation feature importance is a model inspection technique that measures the **contribution** of **each feature** to the **model's performances** on a  given tabular dataset.\n",
        "* A **feature** is **important** if shuffling its values, the ***model error increases***. So, the model relied on that feature for the prediction.\n"
      ]
    },
    {
      "cell_type": "markdown",
      "metadata": {
        "id": "rYaWUah5GbsM"
      },
      "source": [
        "Key **advantages** of Permutation Feature importance technique:\n",
        "\n",
        "\n",
        "> * Nice and **direct interpretation** of the model's behaviour.\n",
        "* It is **model-agnostic**.\n",
        "* It does **not require retraining the model**.\n",
        "\n"
      ]
    },
    {
      "cell_type": "markdown",
      "metadata": {
        "id": "fIY-N-6w8AuY"
      },
      "source": [
        "Main **disadvantages** of Permutation Feature importance technique:\n",
        "\n",
        "\n",
        "> * It assumes the **Feature independence**. If features are correlated, it can be biased by unrealistic data instances.\n",
        "* It is strictly linked to the **model performance measures**. In some cases other measures can be of interest.\n"
      ]
    },
    {
      "cell_type": "markdown",
      "metadata": {
        "id": "J8KLqcBDHEJ5"
      },
      "source": [
        "\n",
        "\n",
        "---\n",
        "\n",
        "\n",
        "## **Exercise 1**\n",
        "\n",
        "The [**Titanic**](https://www.openml.org/search?type=data&sort=runs&id=40945&status=active) dataset describes the survival status of individual passengers on the Titanic. In this exercise you have to:\n",
        "\n",
        "* **Preprocess** the Titanic dataset. You can follow these main steps:\n",
        "> * **Load** the dataset\n",
        "  * **Split** the dataset into training and test set using the **80/20** ratio. **Shuffle** the dataset and **stratify** it using the target variable.\n",
        "  * Fill **null** values. `age` column with the mean, `fare` with the median and `embarked` with the most frequent values.\n",
        "  * Encoding\n",
        "    * **Remove** columns that are *not informative for the final task*, or that *contain information about target variable*.\n",
        "    * Perform **OneHotEncoding** and **OrdinalEncoder**, where needed.\n",
        "    * Perform **MinMax** scaling, where needed,\n",
        "    * We suggest to use the **[ColumnTransformer](https://scikit-learn.org/stable/modules/generated/sklearn.compose.ColumnTransformer.html)** module\n",
        "\n",
        "* Fit a **[RandomForestClassifier](https://scikit-learn.org/stable/modules/generated/sklearn.ensemble.RandomForestClassifier.html)()** over the Titanic dataset. We suggest to use the **[Pipeline](https://scikit-learn.org/stable/modules/generated/sklearn.pipeline.Pipeline.html)** module\n",
        "* Inspect model's **accuracy** on training and test dataset.\n",
        "\n",
        "### **Exercise 1.1**\n",
        "* Calculate **Feature Importances** (as previously done in Lab 1):\n",
        "> * What can you infer? What is the most important feature? Is it categorical or numerical?\n",
        "> Note that you can aggregate (via sum) the feature importance for the feature value importance of the same categorical attribute to have the importance of the attribute\n",
        "\n",
        "### **Exercise 1.2**\n",
        "* Now, compute [**permutation_importance**](https://scikit-learn.org/stable/modules/generated/sklearn.inspection.permutation_importance.html).\n",
        ">   * **Firstly**, compute this for the **test set**. What are the most important features?\n",
        "    * Re-do the computation of permutation_importance, now **on the training set**. Did you obtain the same result as for the test set? If not, what can be the problem?\n",
        "\n",
        "### **Exercise 1.3**\n",
        "* Let's now instanciate another **RandomForestClassifier** with parameter `min_samples_leaf=20`.\n",
        "> * Repeat the steps for computing the permutation_importance on both training and test set.\n",
        "  * Has something changed? What can you infer about RandomForestClassifier's behaviour with respect to overfitting?\n",
        "\n",
        "\n",
        "***Hint***:\n",
        "\n",
        "> In the first case, the results of permutation_importance on the training and test set can be explained by overfitting of the RandomForestClassifier. So, the RF has capacity to use the feature `fare` to overfit.\n",
        "\n",
        "\n",
        "\n",
        "\n",
        "\n",
        "\n",
        "\n",
        "\n",
        "\n",
        "\n"
      ]
    },
    {
      "cell_type": "markdown",
      "metadata": {
        "id": "aPHcqXhqEfEj"
      },
      "source": [
        "## **Solution:**"
      ]
    },
    {
      "cell_type": "code",
      "execution_count": 1,
      "metadata": {
        "colab": {
          "base_uri": "https://localhost:8080/",
          "height": 369
        },
        "id": "OmzzWb24EfEk",
        "outputId": "4c8bd9c5-88b9-4a8d-8219-7f68a06d58ec"
      },
      "outputs": [
        {
          "output_type": "error",
          "ename": "MessageError",
          "evalue": "Error: credential propagation was unsuccessful",
          "traceback": [
            "\u001b[0;31m---------------------------------------------------------------------------\u001b[0m",
            "\u001b[0;31mMessageError\u001b[0m                              Traceback (most recent call last)",
            "\u001b[0;32m<ipython-input-1-17440a680c1c>\u001b[0m in \u001b[0;36m<cell line: 3>\u001b[0;34m()\u001b[0m\n\u001b[1;32m      1\u001b[0m \u001b[0;31m# If your dataset is stored on Google Drive, mount the drive before reading it\u001b[0m\u001b[0;34m\u001b[0m\u001b[0;34m\u001b[0m\u001b[0m\n\u001b[1;32m      2\u001b[0m \u001b[0;32mfrom\u001b[0m \u001b[0mgoogle\u001b[0m\u001b[0;34m.\u001b[0m\u001b[0mcolab\u001b[0m \u001b[0;32mimport\u001b[0m \u001b[0mdrive\u001b[0m\u001b[0;34m\u001b[0m\u001b[0;34m\u001b[0m\u001b[0m\n\u001b[0;32m----> 3\u001b[0;31m \u001b[0mdrive\u001b[0m\u001b[0;34m.\u001b[0m\u001b[0mmount\u001b[0m\u001b[0;34m(\u001b[0m\u001b[0;34m'/content/drive'\u001b[0m\u001b[0;34m)\u001b[0m\u001b[0;34m\u001b[0m\u001b[0;34m\u001b[0m\u001b[0m\n\u001b[0m\u001b[1;32m      4\u001b[0m \u001b[0;34m\u001b[0m\u001b[0m\n\u001b[1;32m      5\u001b[0m \u001b[0;32mfrom\u001b[0m \u001b[0msklearn\u001b[0m\u001b[0;34m.\u001b[0m\u001b[0mmodel_selection\u001b[0m \u001b[0;32mimport\u001b[0m \u001b[0mtrain_test_split\u001b[0m\u001b[0;34m\u001b[0m\u001b[0;34m\u001b[0m\u001b[0m\n",
            "\u001b[0;32m/usr/local/lib/python3.10/dist-packages/google/colab/drive.py\u001b[0m in \u001b[0;36mmount\u001b[0;34m(mountpoint, force_remount, timeout_ms, readonly)\u001b[0m\n\u001b[1;32m     98\u001b[0m \u001b[0;32mdef\u001b[0m \u001b[0mmount\u001b[0m\u001b[0;34m(\u001b[0m\u001b[0mmountpoint\u001b[0m\u001b[0;34m,\u001b[0m \u001b[0mforce_remount\u001b[0m\u001b[0;34m=\u001b[0m\u001b[0;32mFalse\u001b[0m\u001b[0;34m,\u001b[0m \u001b[0mtimeout_ms\u001b[0m\u001b[0;34m=\u001b[0m\u001b[0;36m120000\u001b[0m\u001b[0;34m,\u001b[0m \u001b[0mreadonly\u001b[0m\u001b[0;34m=\u001b[0m\u001b[0;32mFalse\u001b[0m\u001b[0;34m)\u001b[0m\u001b[0;34m:\u001b[0m\u001b[0;34m\u001b[0m\u001b[0;34m\u001b[0m\u001b[0m\n\u001b[1;32m     99\u001b[0m   \u001b[0;34m\"\"\"Mount your Google Drive at the specified mountpoint path.\"\"\"\u001b[0m\u001b[0;34m\u001b[0m\u001b[0;34m\u001b[0m\u001b[0m\n\u001b[0;32m--> 100\u001b[0;31m   return _mount(\n\u001b[0m\u001b[1;32m    101\u001b[0m       \u001b[0mmountpoint\u001b[0m\u001b[0;34m,\u001b[0m\u001b[0;34m\u001b[0m\u001b[0;34m\u001b[0m\u001b[0m\n\u001b[1;32m    102\u001b[0m       \u001b[0mforce_remount\u001b[0m\u001b[0;34m=\u001b[0m\u001b[0mforce_remount\u001b[0m\u001b[0;34m,\u001b[0m\u001b[0;34m\u001b[0m\u001b[0;34m\u001b[0m\u001b[0m\n",
            "\u001b[0;32m/usr/local/lib/python3.10/dist-packages/google/colab/drive.py\u001b[0m in \u001b[0;36m_mount\u001b[0;34m(mountpoint, force_remount, timeout_ms, ephemeral, readonly)\u001b[0m\n\u001b[1;32m    131\u001b[0m   )\n\u001b[1;32m    132\u001b[0m   \u001b[0;32mif\u001b[0m \u001b[0mephemeral\u001b[0m\u001b[0;34m:\u001b[0m\u001b[0;34m\u001b[0m\u001b[0;34m\u001b[0m\u001b[0m\n\u001b[0;32m--> 133\u001b[0;31m     _message.blocking_request(\n\u001b[0m\u001b[1;32m    134\u001b[0m         \u001b[0;34m'request_auth'\u001b[0m\u001b[0;34m,\u001b[0m \u001b[0mrequest\u001b[0m\u001b[0;34m=\u001b[0m\u001b[0;34m{\u001b[0m\u001b[0;34m'authType'\u001b[0m\u001b[0;34m:\u001b[0m \u001b[0;34m'dfs_ephemeral'\u001b[0m\u001b[0;34m}\u001b[0m\u001b[0;34m,\u001b[0m \u001b[0mtimeout_sec\u001b[0m\u001b[0;34m=\u001b[0m\u001b[0;32mNone\u001b[0m\u001b[0;34m\u001b[0m\u001b[0;34m\u001b[0m\u001b[0m\n\u001b[1;32m    135\u001b[0m     )\n",
            "\u001b[0;32m/usr/local/lib/python3.10/dist-packages/google/colab/_message.py\u001b[0m in \u001b[0;36mblocking_request\u001b[0;34m(request_type, request, timeout_sec, parent)\u001b[0m\n\u001b[1;32m    174\u001b[0m       \u001b[0mrequest_type\u001b[0m\u001b[0;34m,\u001b[0m \u001b[0mrequest\u001b[0m\u001b[0;34m,\u001b[0m \u001b[0mparent\u001b[0m\u001b[0;34m=\u001b[0m\u001b[0mparent\u001b[0m\u001b[0;34m,\u001b[0m \u001b[0mexpect_reply\u001b[0m\u001b[0;34m=\u001b[0m\u001b[0;32mTrue\u001b[0m\u001b[0;34m\u001b[0m\u001b[0;34m\u001b[0m\u001b[0m\n\u001b[1;32m    175\u001b[0m   )\n\u001b[0;32m--> 176\u001b[0;31m   \u001b[0;32mreturn\u001b[0m \u001b[0mread_reply_from_input\u001b[0m\u001b[0;34m(\u001b[0m\u001b[0mrequest_id\u001b[0m\u001b[0;34m,\u001b[0m \u001b[0mtimeout_sec\u001b[0m\u001b[0;34m)\u001b[0m\u001b[0;34m\u001b[0m\u001b[0;34m\u001b[0m\u001b[0m\n\u001b[0m",
            "\u001b[0;32m/usr/local/lib/python3.10/dist-packages/google/colab/_message.py\u001b[0m in \u001b[0;36mread_reply_from_input\u001b[0;34m(message_id, timeout_sec)\u001b[0m\n\u001b[1;32m    101\u001b[0m     ):\n\u001b[1;32m    102\u001b[0m       \u001b[0;32mif\u001b[0m \u001b[0;34m'error'\u001b[0m \u001b[0;32min\u001b[0m \u001b[0mreply\u001b[0m\u001b[0;34m:\u001b[0m\u001b[0;34m\u001b[0m\u001b[0;34m\u001b[0m\u001b[0m\n\u001b[0;32m--> 103\u001b[0;31m         \u001b[0;32mraise\u001b[0m \u001b[0mMessageError\u001b[0m\u001b[0;34m(\u001b[0m\u001b[0mreply\u001b[0m\u001b[0;34m[\u001b[0m\u001b[0;34m'error'\u001b[0m\u001b[0;34m]\u001b[0m\u001b[0;34m)\u001b[0m\u001b[0;34m\u001b[0m\u001b[0;34m\u001b[0m\u001b[0m\n\u001b[0m\u001b[1;32m    104\u001b[0m       \u001b[0;32mreturn\u001b[0m \u001b[0mreply\u001b[0m\u001b[0;34m.\u001b[0m\u001b[0mget\u001b[0m\u001b[0;34m(\u001b[0m\u001b[0;34m'data'\u001b[0m\u001b[0;34m,\u001b[0m \u001b[0;32mNone\u001b[0m\u001b[0;34m)\u001b[0m\u001b[0;34m\u001b[0m\u001b[0;34m\u001b[0m\u001b[0m\n\u001b[1;32m    105\u001b[0m \u001b[0;34m\u001b[0m\u001b[0m\n",
            "\u001b[0;31mMessageError\u001b[0m: Error: credential propagation was unsuccessful"
          ]
        }
      ],
      "source": [
        "# If your dataset is stored on Google Drive, mount the drive before reading it\n",
        "from google.colab import drive\n",
        "drive.mount('/content/drive')\n",
        "\n",
        "from sklearn.model_selection import train_test_split\n",
        "from sklearn.impute import SimpleImputer\n",
        "from sklearn.ensemble import RandomForestClassifier\n",
        "from sklearn.pipeline import Pipeline\n",
        "from sklearn.preprocessing import OneHotEncoder\n",
        "\n",
        "import pandas as pd\n",
        "import numpy as np"
      ]
    },
    {
      "cell_type": "markdown",
      "metadata": {
        "id": "eA6FurAIFboQ"
      },
      "source": [
        "### Data preprocessing - Titanic dataset"
      ]
    },
    {
      "cell_type": "code",
      "execution_count": 55,
      "metadata": {
        "id": "ZNMrg__hEfEq"
      },
      "outputs": [],
      "source": [
        "#Importing csv file\n",
        "df = pd.read_csv('./titanic.csv')\n",
        "\n",
        "#Splitting dataset\n",
        "df_train, df_test = train_test_split(df, test_size = 0.2, train_size = 0.8, shuffle = True, random_state=42, stratify = df['survived'])\n",
        "\n",
        "#Finding null-values and duplicates\n",
        "# print(f'Null vals train set: ', df_train.isna().sum()) #Some null values are present, filling them accordingly to the lab text\n",
        "# print(f'Null vals test set: ', df_test.isna().sum()) #Some null values are present, filling them accordingly to the lab text\n",
        "# print(f\"Number of duplicate rows train set: {df_train.duplicated(keep=False).sum()}\") #No duplicates in the dataframe\n",
        "# print(f\"Number of duplicate rows test set: {df_test.duplicated(keep=False).sum()}\") #No duplicates in the dataframe"
      ]
    },
    {
      "cell_type": "code",
      "source": [
        "#Filling null values\n",
        "df_train['age'].fillna(df_train['age'].mean(), inplace = True)\n",
        "df_test['age'].fillna(df_test['age'].mean(), inplace = True)\n",
        "\n",
        "df_train['fare'].fillna(df_train['fare'].median(), inplace = True)\n",
        "df_test['fare'].fillna(df_test['fare'].median(), inplace = True)\n",
        "\n",
        "# Filling with most_frequent value: METHOD 1\n",
        "df_train['embarked'].fillna(df_train['embarked'].mode()[0], inplace = True)\n",
        "df_test['embarked'].fillna(df_test['embarked'].mode()[0], inplace = True)\n",
        "\n",
        "# Filling with most_frequent value: METHOD 2\n",
        "# imp = SimpleImputer(missing_values = np.nan, strategy = 'most_frequent')\n",
        "# df_train[['embarked']] = imp.fit_transform(df_train[['embarked']])\n",
        "# df_test[['embarked']] = imp.transform(df_test[['embarked']])\n",
        "\n",
        "# print(f'Null vals train set: ', df_train.isna().sum())\n",
        "# print(f'Null vals test set: ', df_test.isna().sum())"
      ],
      "metadata": {
        "id": "fzqqN2K4HtBF"
      },
      "execution_count": 56,
      "outputs": []
    },
    {
      "cell_type": "code",
      "source": [
        "#Feature selection\n",
        "df_train.drop(columns = ['name', 'ticket', 'cabin', 'boat', 'body', 'home.dest'], inplace = True)\n",
        "df_test.drop(columns = ['name', 'ticket', 'cabin', 'boat', 'body', 'home.dest'], inplace = True)\n",
        "#If dataset same as Lab0, no correlation between features, so no other columns to drop"
      ],
      "metadata": {
        "id": "CaDkRecPrJBb"
      },
      "execution_count": 57,
      "outputs": []
    },
    {
      "cell_type": "code",
      "source": [
        "# FEATURE ENGINEERING\n",
        "\n",
        "# Discretization\n",
        "age_category = ['Child (0-14]', 'Young (14-24]', 'Adults (24-50]', 'Senior (50+]']\n",
        "\n",
        "df_train['age_disc'] = pd.cut(df_train['age'], bins = [0, 14, 24, 50, 150], labels = age_category)\n",
        "df_train.drop(columns = ['age'], inplace = True)\n",
        "df_test['age_disc'] = pd.cut(df_test['age'], bins = [0, 14, 24, 50, 150], labels = age_category)\n",
        "df_test.drop(columns = ['age'], inplace = True)\n",
        "\n",
        "# Encoding\n",
        "categorical_columns = ['sex', 'embarked']\n",
        "ohe = OneHotEncoder(handle_unknown = 'ignore')\n",
        "ohe.fit(df_train[categorical_columns])\n",
        "#Train\n",
        "tmp_df_train = pd.DataFrame(data = ohe.transform(df_train[categorical_columns]).toarray(), columns = ohe.get_feature_names_out())\n",
        "df_train_encoded = df_train.copy()\n",
        "df_train_encoded.drop(columns = categorical_columns, axis = 1, inplace = True)\n",
        "df_train_encoded = pd.concat([df_train_encoded.reset_index(drop = True), tmp_df_train], axis = 1)\n",
        "#Test\n",
        "tmp_df_test = pd.DataFrame(data = ohe.transform(df_test[categorical_columns]).toarray(), columns = ohe.get_feature_names_out())\n",
        "df_test_encoded = df_test.copy()\n",
        "df_test_encoded.drop(columns = categorical_columns, axis = 1, inplace = True)\n",
        "df_test_encoded = pd.concat([df_test_encoded.reset_index(drop = True), tmp_df_test], axis = 1)\n",
        "\n",
        "#TO DO: Encodeother features"
      ],
      "metadata": {
        "id": "1q80mA5-pTui"
      },
      "execution_count": 58,
      "outputs": []
    },
    {
      "cell_type": "code",
      "source": [
        "df_train.head()"
      ],
      "metadata": {
        "colab": {
          "base_uri": "https://localhost:8080/",
          "height": 206
        },
        "id": "eTW_tP3Jrl9Y",
        "outputId": "d20b38c9-cbec-4cad-c458-6fef9f8b3ad1"
      },
      "execution_count": 59,
      "outputs": [
        {
          "output_type": "execute_result",
          "data": {
            "text/plain": [
              "      pclass     sex  sibsp  parch     fare embarked  survived        age_disc\n",
              "999        3  female      0      0   7.7500        Q         1  Adults (24-50]\n",
              "392        2  female      1      0  27.7208        C         1   Young (14-24]\n",
              "628        3  female      4      2  31.2750        S         0    Child (0-14]\n",
              "1165       3    male      0      0   7.2250        C         0  Adults (24-50]\n",
              "604        3  female      0      0   7.6500        S         1   Young (14-24]"
            ],
            "text/html": [
              "\n",
              "  <div id=\"df-a8693dba-2823-47cc-b33c-b0254d81ea3f\" class=\"colab-df-container\">\n",
              "    <div>\n",
              "<style scoped>\n",
              "    .dataframe tbody tr th:only-of-type {\n",
              "        vertical-align: middle;\n",
              "    }\n",
              "\n",
              "    .dataframe tbody tr th {\n",
              "        vertical-align: top;\n",
              "    }\n",
              "\n",
              "    .dataframe thead th {\n",
              "        text-align: right;\n",
              "    }\n",
              "</style>\n",
              "<table border=\"1\" class=\"dataframe\">\n",
              "  <thead>\n",
              "    <tr style=\"text-align: right;\">\n",
              "      <th></th>\n",
              "      <th>pclass</th>\n",
              "      <th>sex</th>\n",
              "      <th>sibsp</th>\n",
              "      <th>parch</th>\n",
              "      <th>fare</th>\n",
              "      <th>embarked</th>\n",
              "      <th>survived</th>\n",
              "      <th>age_disc</th>\n",
              "    </tr>\n",
              "  </thead>\n",
              "  <tbody>\n",
              "    <tr>\n",
              "      <th>999</th>\n",
              "      <td>3</td>\n",
              "      <td>female</td>\n",
              "      <td>0</td>\n",
              "      <td>0</td>\n",
              "      <td>7.7500</td>\n",
              "      <td>Q</td>\n",
              "      <td>1</td>\n",
              "      <td>Adults (24-50]</td>\n",
              "    </tr>\n",
              "    <tr>\n",
              "      <th>392</th>\n",
              "      <td>2</td>\n",
              "      <td>female</td>\n",
              "      <td>1</td>\n",
              "      <td>0</td>\n",
              "      <td>27.7208</td>\n",
              "      <td>C</td>\n",
              "      <td>1</td>\n",
              "      <td>Young (14-24]</td>\n",
              "    </tr>\n",
              "    <tr>\n",
              "      <th>628</th>\n",
              "      <td>3</td>\n",
              "      <td>female</td>\n",
              "      <td>4</td>\n",
              "      <td>2</td>\n",
              "      <td>31.2750</td>\n",
              "      <td>S</td>\n",
              "      <td>0</td>\n",
              "      <td>Child (0-14]</td>\n",
              "    </tr>\n",
              "    <tr>\n",
              "      <th>1165</th>\n",
              "      <td>3</td>\n",
              "      <td>male</td>\n",
              "      <td>0</td>\n",
              "      <td>0</td>\n",
              "      <td>7.2250</td>\n",
              "      <td>C</td>\n",
              "      <td>0</td>\n",
              "      <td>Adults (24-50]</td>\n",
              "    </tr>\n",
              "    <tr>\n",
              "      <th>604</th>\n",
              "      <td>3</td>\n",
              "      <td>female</td>\n",
              "      <td>0</td>\n",
              "      <td>0</td>\n",
              "      <td>7.6500</td>\n",
              "      <td>S</td>\n",
              "      <td>1</td>\n",
              "      <td>Young (14-24]</td>\n",
              "    </tr>\n",
              "  </tbody>\n",
              "</table>\n",
              "</div>\n",
              "    <div class=\"colab-df-buttons\">\n",
              "\n",
              "  <div class=\"colab-df-container\">\n",
              "    <button class=\"colab-df-convert\" onclick=\"convertToInteractive('df-a8693dba-2823-47cc-b33c-b0254d81ea3f')\"\n",
              "            title=\"Convert this dataframe to an interactive table.\"\n",
              "            style=\"display:none;\">\n",
              "\n",
              "  <svg xmlns=\"http://www.w3.org/2000/svg\" height=\"24px\" viewBox=\"0 -960 960 960\">\n",
              "    <path d=\"M120-120v-720h720v720H120Zm60-500h600v-160H180v160Zm220 220h160v-160H400v160Zm0 220h160v-160H400v160ZM180-400h160v-160H180v160Zm440 0h160v-160H620v160ZM180-180h160v-160H180v160Zm440 0h160v-160H620v160Z\"/>\n",
              "  </svg>\n",
              "    </button>\n",
              "\n",
              "  <style>\n",
              "    .colab-df-container {\n",
              "      display:flex;\n",
              "      gap: 12px;\n",
              "    }\n",
              "\n",
              "    .colab-df-convert {\n",
              "      background-color: #E8F0FE;\n",
              "      border: none;\n",
              "      border-radius: 50%;\n",
              "      cursor: pointer;\n",
              "      display: none;\n",
              "      fill: #1967D2;\n",
              "      height: 32px;\n",
              "      padding: 0 0 0 0;\n",
              "      width: 32px;\n",
              "    }\n",
              "\n",
              "    .colab-df-convert:hover {\n",
              "      background-color: #E2EBFA;\n",
              "      box-shadow: 0px 1px 2px rgba(60, 64, 67, 0.3), 0px 1px 3px 1px rgba(60, 64, 67, 0.15);\n",
              "      fill: #174EA6;\n",
              "    }\n",
              "\n",
              "    .colab-df-buttons div {\n",
              "      margin-bottom: 4px;\n",
              "    }\n",
              "\n",
              "    [theme=dark] .colab-df-convert {\n",
              "      background-color: #3B4455;\n",
              "      fill: #D2E3FC;\n",
              "    }\n",
              "\n",
              "    [theme=dark] .colab-df-convert:hover {\n",
              "      background-color: #434B5C;\n",
              "      box-shadow: 0px 1px 3px 1px rgba(0, 0, 0, 0.15);\n",
              "      filter: drop-shadow(0px 1px 2px rgba(0, 0, 0, 0.3));\n",
              "      fill: #FFFFFF;\n",
              "    }\n",
              "  </style>\n",
              "\n",
              "    <script>\n",
              "      const buttonEl =\n",
              "        document.querySelector('#df-a8693dba-2823-47cc-b33c-b0254d81ea3f button.colab-df-convert');\n",
              "      buttonEl.style.display =\n",
              "        google.colab.kernel.accessAllowed ? 'block' : 'none';\n",
              "\n",
              "      async function convertToInteractive(key) {\n",
              "        const element = document.querySelector('#df-a8693dba-2823-47cc-b33c-b0254d81ea3f');\n",
              "        const dataTable =\n",
              "          await google.colab.kernel.invokeFunction('convertToInteractive',\n",
              "                                                    [key], {});\n",
              "        if (!dataTable) return;\n",
              "\n",
              "        const docLinkHtml = 'Like what you see? Visit the ' +\n",
              "          '<a target=\"_blank\" href=https://colab.research.google.com/notebooks/data_table.ipynb>data table notebook</a>'\n",
              "          + ' to learn more about interactive tables.';\n",
              "        element.innerHTML = '';\n",
              "        dataTable['output_type'] = 'display_data';\n",
              "        await google.colab.output.renderOutput(dataTable, element);\n",
              "        const docLink = document.createElement('div');\n",
              "        docLink.innerHTML = docLinkHtml;\n",
              "        element.appendChild(docLink);\n",
              "      }\n",
              "    </script>\n",
              "  </div>\n",
              "\n",
              "\n",
              "<div id=\"df-08419259-d86a-490e-bea5-b097aac06d52\">\n",
              "  <button class=\"colab-df-quickchart\" onclick=\"quickchart('df-08419259-d86a-490e-bea5-b097aac06d52')\"\n",
              "            title=\"Suggest charts\"\n",
              "            style=\"display:none;\">\n",
              "\n",
              "<svg xmlns=\"http://www.w3.org/2000/svg\" height=\"24px\"viewBox=\"0 0 24 24\"\n",
              "     width=\"24px\">\n",
              "    <g>\n",
              "        <path d=\"M19 3H5c-1.1 0-2 .9-2 2v14c0 1.1.9 2 2 2h14c1.1 0 2-.9 2-2V5c0-1.1-.9-2-2-2zM9 17H7v-7h2v7zm4 0h-2V7h2v10zm4 0h-2v-4h2v4z\"/>\n",
              "    </g>\n",
              "</svg>\n",
              "  </button>\n",
              "\n",
              "<style>\n",
              "  .colab-df-quickchart {\n",
              "      --bg-color: #E8F0FE;\n",
              "      --fill-color: #1967D2;\n",
              "      --hover-bg-color: #E2EBFA;\n",
              "      --hover-fill-color: #174EA6;\n",
              "      --disabled-fill-color: #AAA;\n",
              "      --disabled-bg-color: #DDD;\n",
              "  }\n",
              "\n",
              "  [theme=dark] .colab-df-quickchart {\n",
              "      --bg-color: #3B4455;\n",
              "      --fill-color: #D2E3FC;\n",
              "      --hover-bg-color: #434B5C;\n",
              "      --hover-fill-color: #FFFFFF;\n",
              "      --disabled-bg-color: #3B4455;\n",
              "      --disabled-fill-color: #666;\n",
              "  }\n",
              "\n",
              "  .colab-df-quickchart {\n",
              "    background-color: var(--bg-color);\n",
              "    border: none;\n",
              "    border-radius: 50%;\n",
              "    cursor: pointer;\n",
              "    display: none;\n",
              "    fill: var(--fill-color);\n",
              "    height: 32px;\n",
              "    padding: 0;\n",
              "    width: 32px;\n",
              "  }\n",
              "\n",
              "  .colab-df-quickchart:hover {\n",
              "    background-color: var(--hover-bg-color);\n",
              "    box-shadow: 0 1px 2px rgba(60, 64, 67, 0.3), 0 1px 3px 1px rgba(60, 64, 67, 0.15);\n",
              "    fill: var(--button-hover-fill-color);\n",
              "  }\n",
              "\n",
              "  .colab-df-quickchart-complete:disabled,\n",
              "  .colab-df-quickchart-complete:disabled:hover {\n",
              "    background-color: var(--disabled-bg-color);\n",
              "    fill: var(--disabled-fill-color);\n",
              "    box-shadow: none;\n",
              "  }\n",
              "\n",
              "  .colab-df-spinner {\n",
              "    border: 2px solid var(--fill-color);\n",
              "    border-color: transparent;\n",
              "    border-bottom-color: var(--fill-color);\n",
              "    animation:\n",
              "      spin 1s steps(1) infinite;\n",
              "  }\n",
              "\n",
              "  @keyframes spin {\n",
              "    0% {\n",
              "      border-color: transparent;\n",
              "      border-bottom-color: var(--fill-color);\n",
              "      border-left-color: var(--fill-color);\n",
              "    }\n",
              "    20% {\n",
              "      border-color: transparent;\n",
              "      border-left-color: var(--fill-color);\n",
              "      border-top-color: var(--fill-color);\n",
              "    }\n",
              "    30% {\n",
              "      border-color: transparent;\n",
              "      border-left-color: var(--fill-color);\n",
              "      border-top-color: var(--fill-color);\n",
              "      border-right-color: var(--fill-color);\n",
              "    }\n",
              "    40% {\n",
              "      border-color: transparent;\n",
              "      border-right-color: var(--fill-color);\n",
              "      border-top-color: var(--fill-color);\n",
              "    }\n",
              "    60% {\n",
              "      border-color: transparent;\n",
              "      border-right-color: var(--fill-color);\n",
              "    }\n",
              "    80% {\n",
              "      border-color: transparent;\n",
              "      border-right-color: var(--fill-color);\n",
              "      border-bottom-color: var(--fill-color);\n",
              "    }\n",
              "    90% {\n",
              "      border-color: transparent;\n",
              "      border-bottom-color: var(--fill-color);\n",
              "    }\n",
              "  }\n",
              "</style>\n",
              "\n",
              "  <script>\n",
              "    async function quickchart(key) {\n",
              "      const quickchartButtonEl =\n",
              "        document.querySelector('#' + key + ' button');\n",
              "      quickchartButtonEl.disabled = true;  // To prevent multiple clicks.\n",
              "      quickchartButtonEl.classList.add('colab-df-spinner');\n",
              "      try {\n",
              "        const charts = await google.colab.kernel.invokeFunction(\n",
              "            'suggestCharts', [key], {});\n",
              "      } catch (error) {\n",
              "        console.error('Error during call to suggestCharts:', error);\n",
              "      }\n",
              "      quickchartButtonEl.classList.remove('colab-df-spinner');\n",
              "      quickchartButtonEl.classList.add('colab-df-quickchart-complete');\n",
              "    }\n",
              "    (() => {\n",
              "      let quickchartButtonEl =\n",
              "        document.querySelector('#df-08419259-d86a-490e-bea5-b097aac06d52 button');\n",
              "      quickchartButtonEl.style.display =\n",
              "        google.colab.kernel.accessAllowed ? 'block' : 'none';\n",
              "    })();\n",
              "  </script>\n",
              "</div>\n",
              "    </div>\n",
              "  </div>\n"
            ],
            "application/vnd.google.colaboratory.intrinsic+json": {
              "type": "dataframe",
              "variable_name": "df_train",
              "summary": "{\n  \"name\": \"df_train\",\n  \"rows\": 1047,\n  \"fields\": [\n    {\n      \"column\": \"pclass\",\n      \"properties\": {\n        \"dtype\": \"number\",\n        \"std\": 0,\n        \"min\": 1,\n        \"max\": 3,\n        \"num_unique_values\": 3,\n        \"samples\": [\n          3,\n          2,\n          1\n        ],\n        \"semantic_type\": \"\",\n        \"description\": \"\"\n      }\n    },\n    {\n      \"column\": \"sex\",\n      \"properties\": {\n        \"dtype\": \"category\",\n        \"num_unique_values\": 2,\n        \"samples\": [\n          \"male\",\n          \"female\"\n        ],\n        \"semantic_type\": \"\",\n        \"description\": \"\"\n      }\n    },\n    {\n      \"column\": \"sibsp\",\n      \"properties\": {\n        \"dtype\": \"number\",\n        \"std\": 1,\n        \"min\": 0,\n        \"max\": 8,\n        \"num_unique_values\": 7,\n        \"samples\": [\n          0,\n          1\n        ],\n        \"semantic_type\": \"\",\n        \"description\": \"\"\n      }\n    },\n    {\n      \"column\": \"parch\",\n      \"properties\": {\n        \"dtype\": \"number\",\n        \"std\": 0,\n        \"min\": 0,\n        \"max\": 9,\n        \"num_unique_values\": 7,\n        \"samples\": [\n          0,\n          2\n        ],\n        \"semantic_type\": \"\",\n        \"description\": \"\"\n      }\n    },\n    {\n      \"column\": \"fare\",\n      \"properties\": {\n        \"dtype\": \"number\",\n        \"std\": 48.895720587589736,\n        \"min\": 0.0,\n        \"max\": 512.3292,\n        \"num_unique_values\": 264,\n        \"samples\": [\n          59.4,\n          37.0042\n        ],\n        \"semantic_type\": \"\",\n        \"description\": \"\"\n      }\n    },\n    {\n      \"column\": \"embarked\",\n      \"properties\": {\n        \"dtype\": \"category\",\n        \"num_unique_values\": 3,\n        \"samples\": [\n          \"Q\",\n          \"C\"\n        ],\n        \"semantic_type\": \"\",\n        \"description\": \"\"\n      }\n    },\n    {\n      \"column\": \"survived\",\n      \"properties\": {\n        \"dtype\": \"number\",\n        \"std\": 0,\n        \"min\": 0,\n        \"max\": 1,\n        \"num_unique_values\": 2,\n        \"samples\": [\n          0,\n          1\n        ],\n        \"semantic_type\": \"\",\n        \"description\": \"\"\n      }\n    },\n    {\n      \"column\": \"age_disc\",\n      \"properties\": {\n        \"dtype\": \"category\",\n        \"num_unique_values\": 4,\n        \"samples\": [\n          \"Young (14-24]\",\n          \"Senior (50+]\"\n        ],\n        \"semantic_type\": \"\",\n        \"description\": \"\"\n      }\n    }\n  ]\n}"
            }
          },
          "metadata": {},
          "execution_count": 59
        }
      ]
    },
    {
      "cell_type": "code",
      "source": [
        "# Splitting data and labels\n",
        "y_train = df_train_encoded['survived']\n",
        "x_train = df_train_encoded.drop('survived', axis = 1)\n",
        "y_test = df_test_encoded['survived']\n",
        "x_test = df_test_encoded.drop('survived', axis = 1)"
      ],
      "metadata": {
        "id": "SZVlNm7YosYr"
      },
      "execution_count": 60,
      "outputs": []
    },
    {
      "cell_type": "markdown",
      "metadata": {
        "id": "ou37N9AREfEr"
      },
      "source": [
        "#### Fit the Random Forest Classifier"
      ]
    },
    {
      "cell_type": "code",
      "execution_count": 61,
      "metadata": {
        "colab": {
          "base_uri": "https://localhost:8080/",
          "height": 164
        },
        "id": "8XTz0cceEfEs",
        "outputId": "47b06818-9cc2-4c75-96c1-f982c0d435b8"
      },
      "outputs": [
        {
          "output_type": "error",
          "ename": "TypeError",
          "evalue": "BaseForest.fit() missing 2 required positional arguments: 'X' and 'y'",
          "traceback": [
            "\u001b[0;31m---------------------------------------------------------------------------\u001b[0m",
            "\u001b[0;31mTypeError\u001b[0m                                 Traceback (most recent call last)",
            "\u001b[0;32m<ipython-input-61-048b8e9d67aa>\u001b[0m in \u001b[0;36m<cell line: 2>\u001b[0;34m()\u001b[0m\n\u001b[1;32m      1\u001b[0m \u001b[0mrf_clf\u001b[0m \u001b[0;34m=\u001b[0m \u001b[0mRandomForestClassifier\u001b[0m\u001b[0;34m(\u001b[0m\u001b[0;34m)\u001b[0m\u001b[0;34m\u001b[0m\u001b[0;34m\u001b[0m\u001b[0m\n\u001b[0;32m----> 2\u001b[0;31m \u001b[0mrf_clf\u001b[0m\u001b[0;34m.\u001b[0m\u001b[0mfit\u001b[0m\u001b[0;34m(\u001b[0m\u001b[0;34m)\u001b[0m\u001b[0;34m\u001b[0m\u001b[0;34m\u001b[0m\u001b[0m\n\u001b[0m",
            "\u001b[0;31mTypeError\u001b[0m: BaseForest.fit() missing 2 required positional arguments: 'X' and 'y'"
          ]
        }
      ],
      "source": [
        "rf_clf = RandomForestClassifier()\n",
        "rf_clf.fit()"
      ]
    },
    {
      "cell_type": "markdown",
      "metadata": {
        "id": "gbt63kLdFZLQ"
      },
      "source": [
        "#### Model's performances"
      ]
    },
    {
      "cell_type": "code",
      "execution_count": null,
      "metadata": {
        "id": "5PRRDtEFEfEt"
      },
      "outputs": [],
      "source": [
        "### Write your solution here"
      ]
    },
    {
      "cell_type": "markdown",
      "metadata": {
        "id": "a74N_SxjEfEt"
      },
      "source": [
        "### Exercise 1.b"
      ]
    },
    {
      "cell_type": "markdown",
      "metadata": {
        "id": "uxmD3MbIFbvN"
      },
      "source": [
        "#### Calculate the Feature Importances"
      ]
    },
    {
      "cell_type": "code",
      "execution_count": null,
      "metadata": {
        "id": "9pkXw5m0xkB3"
      },
      "outputs": [],
      "source": [
        "### Write your solution here"
      ]
    },
    {
      "cell_type": "markdown",
      "metadata": {
        "id": "W-cqRGCCEfEv"
      },
      "source": [
        "### Exercise 1.b"
      ]
    },
    {
      "cell_type": "markdown",
      "metadata": {
        "id": "bpCLADO-FvLu"
      },
      "source": [
        "#### Permutation Importances"
      ]
    },
    {
      "cell_type": "code",
      "execution_count": null,
      "metadata": {
        "id": "1wU8Zb6eU5H_"
      },
      "outputs": [],
      "source": [
        "### Write your solution here"
      ]
    },
    {
      "cell_type": "markdown",
      "metadata": {
        "id": "vvmCq6INEfEx"
      },
      "source": [
        "### Exercise 1.3"
      ]
    },
    {
      "cell_type": "markdown",
      "metadata": {
        "id": "_EubLx81cusK"
      },
      "source": [
        "Set the **min_samples_leaf at 20** and fit a random forest classifier"
      ]
    },
    {
      "cell_type": "code",
      "execution_count": null,
      "metadata": {
        "id": "13ETLiLsEfEx"
      },
      "outputs": [],
      "source": [
        "### Write your solution here"
      ]
    },
    {
      "cell_type": "markdown",
      "metadata": {
        "id": "-gUxEQDNeFKL"
      },
      "source": [
        "New Model's accuracy score"
      ]
    },
    {
      "cell_type": "code",
      "execution_count": null,
      "metadata": {
        "id": "EHpBBo6rc6p-"
      },
      "outputs": [],
      "source": [
        "### Write your solution here"
      ]
    },
    {
      "cell_type": "markdown",
      "metadata": {
        "id": "SK3T11zYc4wZ"
      },
      "source": [
        "Permutation importances"
      ]
    },
    {
      "cell_type": "code",
      "execution_count": null,
      "metadata": {
        "id": "0OcgYVs1cy91"
      },
      "outputs": [],
      "source": [
        "### Write your solution here"
      ]
    },
    {
      "cell_type": "markdown",
      "metadata": {
        "id": "D6TkB65PXkug"
      },
      "source": [
        "# **Partial dependence plot**\n",
        "\n",
        "\n",
        "---\n",
        "\n"
      ]
    },
    {
      "cell_type": "markdown",
      "metadata": {
        "id": "f0ifF-4-MHWu"
      },
      "source": [
        "The **Partial Dependence Plot** (in short, PDP) shows the **marginal effect** of one or two features **on the predicted outcome** of a Machine learning model.\n",
        "\n",
        "* It is a **global method**: The method considers **all instances** and gives a statement about the **global relationship** of a feature with the predicted outcome."
      ]
    },
    {
      "cell_type": "markdown",
      "metadata": {
        "id": "jA3w6nccMn_X"
      },
      "source": [
        "Key **Advantages**:\n",
        "\n",
        "* The PDP computation is really **intuitive**.\n",
        "* By providing an **explanation** in the form of a **visualization**, it is easy to inspect.\n"
      ]
    },
    {
      "cell_type": "markdown",
      "metadata": {
        "id": "_isUky12NE3X"
      },
      "source": [
        "Main **Disadvantages**:\n",
        "\n",
        "* The **assumption** of **independence** is the biggest issue with PDP plots.\n",
        "* The **realistic maximum number of features** in a partial dependence function is **two**."
      ]
    },
    {
      "cell_type": "markdown",
      "metadata": {
        "id": "Y8EdKIgvNdRi"
      },
      "source": [
        "\n",
        "\n",
        "---\n",
        "\n",
        "# **Exercise 2**\n",
        "\n",
        "* Instanciate and Fit a [**DecisionTreeClassifier**](https://scikit-learn.org/stable/modules/generated/sklearn.tree.DecisionTreeClassifier.html) and a [**RandomForestClassifier**](https://scikit-learn.org/stable/modules/generated/sklearn.ensemble.RandomForestClassifier.html) over Titanic dataset.\n",
        "* **Evaluate** both models by inspecting their **accuracy** scores over train and test dataset.\n",
        "* Print **Feature Importances** for both models.\n",
        "* Generate the **PDP** using [**PartialDependenceDisplay.from_estimator**](https://scikit-learn.org/stable/modules/generated/sklearn.inspection.PartialDependenceDisplay.html) function for both models.\n"
      ]
    },
    {
      "cell_type": "markdown",
      "metadata": {
        "id": "4iMxcHUPTlSU"
      },
      "source": [
        "## **Solution:**"
      ]
    },
    {
      "cell_type": "markdown",
      "metadata": {
        "id": "eCoi0fzyeark"
      },
      "source": [
        "RF Classifier"
      ]
    },
    {
      "cell_type": "code",
      "execution_count": null,
      "metadata": {
        "id": "VVFSA9qyTzeP"
      },
      "outputs": [],
      "source": [
        "### Write your solution here"
      ]
    },
    {
      "cell_type": "markdown",
      "metadata": {
        "id": "0cv3YCntecGE"
      },
      "source": [
        "DT classifier"
      ]
    },
    {
      "cell_type": "code",
      "execution_count": null,
      "metadata": {
        "id": "Vt8mLcjFT4aZ"
      },
      "outputs": [],
      "source": [
        "### Write your solution here"
      ]
    },
    {
      "cell_type": "markdown",
      "metadata": {
        "id": "X_Y5VTddEfFM"
      },
      "source": [
        "Plot the feature importance for Random Forest"
      ]
    },
    {
      "cell_type": "code",
      "execution_count": null,
      "metadata": {
        "id": "mGOrfxQJUIUt"
      },
      "outputs": [],
      "source": [
        "### Write your solution here"
      ]
    },
    {
      "cell_type": "markdown",
      "metadata": {
        "id": "dcBnDd61EfFN"
      },
      "source": [
        "Plot the feature importance for decision tree"
      ]
    },
    {
      "cell_type": "code",
      "execution_count": null,
      "metadata": {
        "id": "Wdwt8uEaUNzE"
      },
      "outputs": [],
      "source": [
        "### Write your solution here"
      ]
    },
    {
      "cell_type": "markdown",
      "metadata": {
        "id": "EuIDVlrXeSbg"
      },
      "source": [
        "Generate PDP for Random Forest Classifier"
      ]
    },
    {
      "cell_type": "code",
      "execution_count": null,
      "metadata": {
        "id": "NajsvfVnW1ng"
      },
      "outputs": [],
      "source": [
        "### Write your solution here"
      ]
    },
    {
      "cell_type": "markdown",
      "metadata": {
        "id": "V6uw_4wIeWet"
      },
      "source": [
        "Generate PDP for Decision Tree Classifier"
      ]
    },
    {
      "cell_type": "code",
      "execution_count": null,
      "metadata": {
        "id": "kN2yAMQwc-XV"
      },
      "outputs": [],
      "source": [
        "### Write your solution here"
      ]
    },
    {
      "cell_type": "markdown",
      "metadata": {
        "id": "AS9rfOb6XTLf"
      },
      "source": [
        "# **Global surrogate models**\n",
        "\n",
        "\n",
        "---\n",
        "\n"
      ]
    },
    {
      "cell_type": "markdown",
      "metadata": {
        "id": "EqltUfuLgvE1"
      },
      "source": [
        "The purpose of (interpretable) surrogate models is to **approximate** the **predictions** of the underlying model *as accurately as possible* and to be interpretable at the same time."
      ]
    },
    {
      "cell_type": "markdown",
      "metadata": {
        "id": "dUHBZnqMhqTF"
      },
      "source": [
        "The surrogate model is a **model-agnostic method**, since it does **not require** any **information** about the **inner workings of the black box model**, *only access to data and the prediction function is necessary*."
      ]
    },
    {
      "cell_type": "markdown",
      "metadata": {
        "id": "GCmL8Jfzhz_4"
      },
      "source": [
        "To **obtain a surrogate model** you have to perform the following steps:\n",
        "\n",
        "\n",
        "\n",
        "1.   Select a dataset X.\n",
        "2.   For the selected dataset X, get the predictions of the black box model.\n",
        "3.   Select an interpretable model type (linear model, decision tree, …).\n",
        "4.   Train the interpretable model on the dataset X and its predictions.\n",
        "\n",
        "Congratulations! You now have a surrogate model!\n",
        "\n",
        "Measure **how well** the **surrogate model replicates the predictions of the black box model** to interpret the model."
      ]
    },
    {
      "cell_type": "markdown",
      "metadata": {
        "id": "dngPNW-8j_jr"
      },
      "source": [
        "\n",
        "\n",
        "---\n",
        "\n",
        "## **Exercise 3:**\n",
        "\n",
        "The aim of this exercise is to use a white-box model, that is the surrogate model, to explain the black-box model. You have to:\n",
        "\n",
        "* Instanciate and fit the **black-box** model, i.e. the [**GradientBoosterClassifier**](https://scikit-learn.org/stable/modules/generated/sklearn.ensemble.GradientBoostingClassifier.html) over the Titanic\n",
        "dataset.\n",
        "> * You can retrieve the predictions with the *_predictions* function.\n",
        "\n",
        "\n",
        "\n",
        "* Instanciate and fit the **white-box** model, i.e. the [**LogisticRegression**](https://scikit-learn.org/stable/modules/generated/sklearn.linear_model.LogisticRegression.html) over the Titanic dataset **and** the predictions of the black-box model.\n",
        "* Calculate the **accuracy_score** for both models on the training and test dataset.\n",
        "* Calculate the **reconstruction_error** for both models on the training and test dataset.\n",
        "* **Print** the obtained **results**.\n",
        "\n",
        "***Hint:***\n",
        "> You can inted the **reconstruction_error** as the loss of information or performance when using the predictions of the black-box model to train the white-box model."
      ]
    },
    {
      "cell_type": "markdown",
      "metadata": {
        "id": "ic4Rd9LCjVX1"
      },
      "source": [
        "## **Solution:**"
      ]
    },
    {
      "cell_type": "markdown",
      "metadata": {
        "id": "TsyvQAPvjh7J"
      },
      "source": [
        "Train the black-box model"
      ]
    },
    {
      "cell_type": "code",
      "execution_count": null,
      "metadata": {
        "id": "VCar1tNxjg7K"
      },
      "outputs": [],
      "source": [
        "### Write your solution here"
      ]
    },
    {
      "cell_type": "markdown",
      "metadata": {
        "id": "5NI4xKLljl7D"
      },
      "source": [
        "Train the white-box model over the Titanic dataset and the predictions from the black-box model."
      ]
    },
    {
      "cell_type": "code",
      "execution_count": null,
      "metadata": {
        "id": "yArv9HecjzDO"
      },
      "outputs": [],
      "source": [
        "### Write your solution here"
      ]
    },
    {
      "cell_type": "markdown",
      "metadata": {
        "id": "nJk-K_hCEfFY"
      },
      "source": [
        "Inspect the coefficients"
      ]
    },
    {
      "cell_type": "code",
      "execution_count": null,
      "metadata": {
        "id": "DV49gYYJEfFZ"
      },
      "outputs": [],
      "source": [
        "### Write your solution here"
      ]
    },
    {
      "cell_type": "markdown",
      "metadata": {
        "id": "FakbVlusj09o"
      },
      "source": [
        "Evaluate the performances of black-box and white-box models."
      ]
    },
    {
      "cell_type": "code",
      "execution_count": null,
      "metadata": {
        "id": "j71SPcHtj6SB"
      },
      "outputs": [],
      "source": [
        "### Write your solution here"
      ]
    },
    {
      "cell_type": "markdown",
      "metadata": {
        "id": "eFb1xS9JEfFb"
      },
      "source": [
        "Evaluate the reconstruction error"
      ]
    },
    {
      "cell_type": "code",
      "execution_count": null,
      "metadata": {
        "id": "KJf9YQSoEfFb"
      },
      "outputs": [],
      "source": [
        "### Write your solution here"
      ]
    }
  ],
  "metadata": {
    "colab": {
      "collapsed_sections": [
        "4iMxcHUPTlSU",
        "ic4Rd9LCjVX1"
      ],
      "provenance": []
    },
    "kernelspec": {
      "display_name": "Python 3",
      "name": "python3"
    },
    "language_info": {
      "codemirror_mode": {
        "name": "ipython",
        "version": 3
      },
      "file_extension": ".py",
      "mimetype": "text/x-python",
      "name": "python",
      "nbconvert_exporter": "python",
      "pygments_lexer": "ipython3",
      "version": "3.12.2"
    }
  },
  "nbformat": 4,
  "nbformat_minor": 0
}