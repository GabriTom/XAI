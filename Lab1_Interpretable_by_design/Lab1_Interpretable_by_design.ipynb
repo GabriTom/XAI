{
  "nbformat": 4,
  "nbformat_minor": 0,
  "metadata": {
    "colab": {
      "provenance": [],
      "collapsed_sections": [
        "xyJ9S2oIfIh9",
        "eOlUbDrl9QNJ"
      ]
    },
    "kernelspec": {
      "name": "python3",
      "display_name": "Python 3"
    },
    "language_info": {
      "name": "python"
    }
  },
  "cells": [
    {
      "cell_type": "markdown",
      "source": [
        "# **Lab 1 - Explainable and Trustworthy AI**\n",
        "\n",
        "\n",
        "---\n",
        "\n"
      ],
      "metadata": {
        "id": "YO0NhD6Q4BjE"
      }
    },
    {
      "cell_type": "markdown",
      "source": [
        "**Teaching Assistant**: Eleonora Poeta (eleonora.poeta@polito.it)"
      ],
      "metadata": {
        "id": "ZZLb6zMxU0KA"
      }
    },
    {
      "cell_type": "markdown",
      "source": [
        "**Lab 1:** Interpretable by design models on structured data"
      ],
      "metadata": {
        "id": "tmMAwr1FVAXC"
      }
    },
    {
      "cell_type": "markdown",
      "source": [
        "# **Decision Trees**\n",
        "\n",
        "\n",
        "---\n",
        "\n"
      ],
      "metadata": {
        "id": "1Dsi41aUVEUH"
      }
    },
    {
      "cell_type": "markdown",
      "source": [
        "* Decision trees offer an approach to achieve interpretability-by-design of machine learning models.  They give a transparent and intuitive representation of the decision-making process followed by the model. This transparency allows domain experts to easily understand and validate the model's predictions."
      ],
      "metadata": {
        "id": "eiaOmRtTWET3"
      }
    },
    {
      "cell_type": "markdown",
      "source": [
        "When assessing the interpretability of decision trees, several key aspects should be considered depending if assessing *global* or *local* interpretability.\n",
        "In particular, you have to analyze:\n",
        "\n",
        "\n",
        "\n",
        "1.   When assessing **global** interpretability you have to *inspect the entire decision tree*. Then, as mesures for the global interpretability there are:\n",
        "\n",
        "\n",
        "> * **Depth** of the tree → Shallow trees with fewer levels are easier to interpret, as they represent simpler decision rules. In contrast, deeper trees may become overly complex and difficult to interpret, potentially sacrificing transparency for improved accuracy.\n",
        "* **Size** of the tree → This includes the *number of nodes* and the *number of splits*. A larger tree with more nodes and splits may capture intricate patterns in the data but could also lead to overfitting and decreased interpretability.\n",
        "\n",
        "\n",
        "\n",
        "\n",
        "2.  When assessing **local** interpretability you have to *inspect the individual path of a single prediction.* Then, as mesures for the local interpretability there is:\n",
        "\n",
        "\n",
        "> * **Lenght** of the individual path.\n"
      ],
      "metadata": {
        "id": "Qol6kdvZXFf0"
      }
    },
    {
      "cell_type": "markdown",
      "source": [
        "\n",
        "\n",
        "---\n",
        "\n",
        "## **Exercise 1**\n",
        "The *Diabetes prediction dataset* comprises medical and demographic data, alongside diabetes status (positive:1/negative:0) of patients. It includes features like age, gender, body mass index (BMI), hypertension, heart disease, smoking history, HbA1c level, and blood glucose level.\n",
        "In the following exercise you have to:\n",
        "\n",
        "* Fit a [**Decision tree classifier**](https://scikit-learn.org/stable/modules/generated/sklearn.tree.DecisionTreeClassifier.html#sklearn.tree.DecisionTreeClassifier) model on **Diabetes dataset** and evaluate it calculating model's accuracy.\n",
        "\n",
        "\n",
        "> *   Visualize the decision tree obtained. Are you able to interpret the decision process?\n",
        "*   Try again with `max_depth=4` and compare the two trees. Which one is the most interpretable?\n",
        "\n",
        "\n",
        "\n",
        "\n",
        "* Analyze **Global Interpretability**:\n",
        "\n",
        "\n",
        "> * Continue visualizing the obtained decision tree with `max_depth=4`. Which attributes are the most discriminating? Plot the feature importances and then analyze the values.\n",
        "* Calculate the size of the decision tree in terms of the number of nodes, subdivisions, and depth. How these metrics affect the interpretability of the decision tree globally?\n",
        "\n",
        "\n",
        "* Analyze **Local Interpretability**:\n",
        "\n",
        "\n",
        "> * Consider the instances 100, 150 and 200 of the train dataset.\n",
        "* What are the individual paths? What are the instances allocated in the paths?\n",
        "* For each of the previous instances, calculate the length of each path from the root node to the leaf node to which the instance belongs. How the length of these paths contributes to the interpretability of the decision tree locally?\n",
        "\n",
        "\n",
        "***Hint*** :\n",
        "\n",
        "> * Before starting do some **preprocessing** of the Diabetes dataset as previously seen in Lab 0.1 (Address null values and preprocess categorical attributes.)\n",
        "* As **split ratio** for the dataset use the standard one: train (80%) and test (20%). Account for any class imbalance during the train-test split by making use of the **stratify** argument\n",
        "\n"
      ],
      "metadata": {
        "id": "WhUj0BpZdxn4"
      }
    },
    {
      "cell_type": "markdown",
      "source": [
        "## **Solution:**"
      ],
      "metadata": {
        "id": "qO25v5G1fnXU"
      }
    },
    {
      "cell_type": "code",
      "execution_count": 1,
      "metadata": {
        "colab": {
          "base_uri": "https://localhost:8080/"
        },
        "id": "jNFArpWBvlAt",
        "outputId": "bdac8772-9187-46c5-84f3-5ef4106322d0"
      },
      "outputs": [
        {
          "output_type": "stream",
          "name": "stdout",
          "text": [
            "Mounted at /content/drive\n"
          ]
        }
      ],
      "source": [
        "# If your dataset is stored on Google Drive, mount the drive before reading it\n",
        "from google.colab import drive\n",
        "drive.mount('/content/drive')"
      ]
    },
    {
      "cell_type": "code",
      "source": [
        "from sklearn.model_selection import train_test_split, cross_val_score\n",
        "from sklearn.preprocessing import OneHotEncoder, OrdinalEncoder, MinMaxScaler\n",
        "from sklearn import tree\n",
        "import pandas as pd"
      ],
      "metadata": {
        "id": "kWVG6AZUbtSk"
      },
      "execution_count": 4,
      "outputs": []
    },
    {
      "cell_type": "markdown",
      "source": [
        "### Data Preprocessing"
      ],
      "metadata": {
        "id": "xyJ9S2oIfIh9"
      }
    },
    {
      "cell_type": "code",
      "source": [
        "# Declaring variables\n",
        "age_category = ['Child (0-14]', 'Young (14-24]', 'Adults (24-50]', 'Senior (50+]']\n",
        "smoking_history_cat = ['never', 'not current', 'No Info', 'current', 'ever']\n",
        "\n",
        "#Importing csv file\n",
        "df = pd.read_csv('./diabetes.csv')\n",
        "\n",
        "#Finding null-values and duplicates\n",
        "print(f'Null vals: ', df.isna().sum()) #It seems we have no null values, so no null values transformation\n",
        "print(f\"Number of duplicate rows: {df.duplicated(keep=False).sum()}\") #Some duplicates are present, shall I remove them?\n",
        "\n",
        "df.drop_duplicates(inplace=True)  # Chose to remove them\n",
        "print(f\"Number of duplicate rows after removing duplicates: {df.duplicated(keep=False).sum()}\")"
      ],
      "metadata": {
        "colab": {
          "base_uri": "https://localhost:8080/"
        },
        "id": "ZMBjcelMZPj_",
        "outputId": "600c01ba-6298-4e7f-c5a1-50a9295e7a20"
      },
      "execution_count": 9,
      "outputs": [
        {
          "output_type": "stream",
          "name": "stdout",
          "text": [
            "Null vals:  gender                 0\n",
            "age                    0\n",
            "hypertension           0\n",
            "heart_disease          0\n",
            "smoking_history        0\n",
            "bmi                    0\n",
            "HbA1c_level            0\n",
            "blood_glucose_level    0\n",
            "diabetes               0\n",
            "dtype: int64\n",
            "Number of duplicate rows: 6939\n",
            "Number of duplicate rows after removing duplicates: 0\n"
          ]
        }
      ]
    },
    {
      "cell_type": "code",
      "source": [
        "#Splitting dataset\n",
        "df_train, df_test = train_test_split(df, test_size = 0.2, train_size = 0.8, shuffle = True, random_state=42, stratify = df['diabetes'])"
      ],
      "metadata": {
        "id": "rVDMEeLtZYM8"
      },
      "execution_count": 10,
      "outputs": []
    },
    {
      "cell_type": "code",
      "source": [
        "#Combining 'former' in 'smoking history' feature\n",
        "df_train.loc[df_train['smoking_history'] == 'former', 'smoking_history'] = 'not current'\n",
        "df_test.loc[df_test['smoking_history'] == 'former', 'smoking_history'] = 'not current'\n",
        "\n",
        "#Discretizing age\n",
        "df_train['age_disc']=pd.cut(x=df['age'], bins=[0,14,24,50,100],labels=age_category)\n",
        "df_train = df_train.drop(columns=['age']) # Remove the old age column\n",
        "df_test['age_disc']=pd.cut(x=df['age'], bins=[0,14,24,50,100],labels=age_category)\n",
        "df_test = df_test.drop(columns=['age']) # Remove the old age column"
      ],
      "metadata": {
        "id": "3wBS9SnVZbcJ"
      },
      "execution_count": 11,
      "outputs": []
    },
    {
      "cell_type": "code",
      "source": [
        "# Create a copy of each DataFrame\n",
        "df_train_encoded = df_train.copy()\n",
        "df_test_encoded = df_test.copy()"
      ],
      "metadata": {
        "id": "Ci0U5yyBZou3"
      },
      "execution_count": 12,
      "outputs": []
    },
    {
      "cell_type": "code",
      "source": [
        "# Encoding age and smoking history for train and test dataframes\n",
        "ord_enc = OrdinalEncoder(categories=[smoking_history_cat, age_category])\n",
        "ord_enc.fit(df_train_encoded[['smoking_history', 'age_disc']])\n",
        "df_train_encoded[['smoking_history', 'age_disc_enc']] = ord_enc.transform(df_train_encoded.loc[:, ['smoking_history', 'age_disc']])\n",
        "df_test_encoded[['smoking_history', 'age_disc_enc']] = ord_enc.transform(df_test_encoded.loc[:, ['smoking_history', 'age_disc']])\n",
        "#Removing old columns\n",
        "df_train_encoded.drop(columns=[\"age_disc\"], axis=1, inplace=True)\n",
        "df_test_encoded.drop(columns=[\"age_disc\"], axis=1, inplace=True)"
      ],
      "metadata": {
        "id": "NZRSijHmZsek"
      },
      "execution_count": 13,
      "outputs": []
    },
    {
      "cell_type": "code",
      "source": [
        "#Checking gender values\n",
        "# Removing gender 'Other' rows\n",
        "df_train_encoded = df_train_encoded[df_train_encoded.gender != 'Other']\n",
        "df_test_encoded = df_test_encoded[df_test_encoded.gender != 'Other']\n",
        "\n",
        "#Transforming gender\n",
        "#Training encoder\n",
        "ohe = OneHotEncoder(handle_unknown = 'ignore')\n",
        "ohe.fit(df_train_encoded[['gender']])\n",
        "\n",
        "#Transforming values\n",
        "#These give a warning, but it can be ignored\n",
        "tmp_df_train_gender = pd.DataFrame(ohe.transform(df_train_encoded.loc[:, ['gender']]).toarray(), columns = ohe.get_feature_names_out())\n",
        "df_train_encoded.drop(columns=['gender'], axis=1, inplace=True)\n",
        "df_train_encoded = pd.concat([df_train_encoded.reset_index(drop=True), tmp_df_train_gender], axis=1)\n",
        "\n",
        "tmp_df_test_gender = pd.DataFrame(ohe.transform(df_test_encoded.loc[:, ['gender']]).toarray(), columns = ohe.get_feature_names_out())\n",
        "df_test_encoded.drop(columns=['gender'], axis=1, inplace=True)\n",
        "df_test_encoded = pd.concat([df_test_encoded.reset_index(drop=True), tmp_df_test_gender], axis=1)"
      ],
      "metadata": {
        "colab": {
          "base_uri": "https://localhost:8080/"
        },
        "id": "oqSENo89ZtAJ",
        "outputId": "ae0bfc19-656f-4204-c8d5-5bfec740601a"
      },
      "execution_count": 14,
      "outputs": [
        {
          "output_type": "stream",
          "name": "stderr",
          "text": [
            "<ipython-input-14-eb6c7c326cd0>:14: SettingWithCopyWarning: \n",
            "A value is trying to be set on a copy of a slice from a DataFrame\n",
            "\n",
            "See the caveats in the documentation: https://pandas.pydata.org/pandas-docs/stable/user_guide/indexing.html#returning-a-view-versus-a-copy\n",
            "  df_train_encoded.drop(columns=['gender'], axis=1, inplace=True)\n",
            "<ipython-input-14-eb6c7c326cd0>:18: SettingWithCopyWarning: \n",
            "A value is trying to be set on a copy of a slice from a DataFrame\n",
            "\n",
            "See the caveats in the documentation: https://pandas.pydata.org/pandas-docs/stable/user_guide/indexing.html#returning-a-view-versus-a-copy\n",
            "  df_test_encoded.drop(columns=['gender'], axis=1, inplace=True)\n"
          ]
        }
      ]
    },
    {
      "cell_type": "code",
      "source": [
        "#Normalizing values\n",
        "features_to_normalize = ['bmi', 'HbA1c_level', 'blood_glucose_level', 'age_disc_enc', 'smoking_history' ]\n",
        "\n",
        "#Declaring and trainin scaler on TRAIN dataframe\n",
        "minmax_s = MinMaxScaler()\n",
        "minmax_s.fit(df_train_encoded[features_to_normalize])\n",
        "\n",
        "#Transoformning train and test dataframes\n",
        "df_train_encoded[features_to_normalize] = minmax_s.transform(df_train_encoded[features_to_normalize])\n",
        "df_test_encoded[features_to_normalize] = minmax_s.transform(df_test_encoded[features_to_normalize])"
      ],
      "metadata": {
        "id": "0BR-LRFeZx01"
      },
      "execution_count": 15,
      "outputs": []
    },
    {
      "cell_type": "code",
      "source": [
        "#Extracting labels\n",
        "y_train = df_train_encoded.diabetes\n",
        "x_train = df_train_encoded.drop('diabetes', axis = 1)\n",
        "\n",
        "y_test = df_test_encoded.diabetes\n",
        "x_test = df_test_encoded.drop('diabetes', axis = 1)"
      ],
      "metadata": {
        "id": "z7GAGFQGZ1vf"
      },
      "execution_count": 16,
      "outputs": []
    },
    {
      "cell_type": "markdown",
      "source": [
        "### Fit the decision tree"
      ],
      "metadata": {
        "id": "s6qqXI00i1az"
      }
    },
    {
      "cell_type": "code",
      "source": [
        "clf = tree.DecisionTreeClassifier()\n",
        "clf.fit(x_train, y_train)\n",
        "print(f'Accuracy for decision tree with no constraints: ', clf.score(x_test, y_test))\n",
        "tree.plot_tree(clf)"
      ],
      "metadata": {
        "id": "qaQC6Dhuv2ik",
        "colab": {
          "base_uri": "https://localhost:8080/",
          "height": 1000
        },
        "outputId": "61fab0fe-adfa-4d09-8df5-fd21b952a722"
      },
      "execution_count": 17,
      "outputs": [
        {
          "output_type": "stream",
          "name": "stdout",
          "text": [
            "Accuracy for decision tree with no constraints:  0.9522001456361178\n"
          ]
        },
        {
          "output_type": "execute_result",
          "data": {
            "text/plain": [
              "[Text(0.5011096947748236, 0.9868421052631579, 'x[4] <= 0.582\\ngini = 0.161\\nsamples = 76902\\nvalue = [70116, 6786]'),\n",
              " Text(0.5007750398158516, 0.9605263157894737, 'x[5] <= 0.591\\ngini = 0.095\\nsamples = 73819\\nvalue = [70116, 3703]'),\n",
              " Text(0.5004403848568795, 0.9342105263157895, 'x[6] <= 0.833\\ngini = 0.061\\nsamples = 72381\\nvalue = [70116, 2265]'),\n",
              " Text(0.22315939032133086, 0.9078947368421053, 'x[3] <= 0.341\\ngini = 0.021\\nsamples = 46401\\nvalue = [45901, 500]'),\n",
              " Text(0.17952786025001732, 0.881578947368421, 'x[0] <= 0.5\\ngini = 0.017\\nsamples = 44166\\nvalue = [43795, 371]'),\n",
              " Text(0.11567005811198391, 0.8552631578947368, 'x[4] <= 0.336\\ngini = 0.015\\nsamples = 43266\\nvalue = [42948, 318]'),\n",
              " Text(0.11533540315301183, 0.8289473684210527, 'gini = 0.0\\nsamples = 17845\\nvalue = [17845, 0]'),\n",
              " Text(0.116004713070956, 0.8289473684210527, 'x[3] <= 0.218\\ngini = 0.025\\nsamples = 25421\\nvalue = [25103, 318]'),\n",
              " Text(0.07163674013062002, 0.8026315789473685, 'x[1] <= 0.5\\ngini = 0.016\\nsamples = 20454\\nvalue = [20284, 170]'),\n",
              " Text(0.04221879424210456, 0.7763157894736842, 'x[5] <= 0.15\\ngini = 0.016\\nsamples = 20406\\nvalue = [20244, 162]'),\n",
              " Text(0.04188413928313248, 0.75, 'gini = 0.0\\nsamples = 6313\\nvalue = [6313, 0]'),\n",
              " Text(0.04255344920107665, 0.75, 'x[6] <= 0.5\\ngini = 0.023\\nsamples = 14093\\nvalue = [13931, 162]'),\n",
              " Text(0.01512941081118532, 0.7236842105263158, 'x[2] <= 0.125\\ngini = 0.01\\nsamples = 7267\\nvalue = [7229, 38]'),\n",
              " Text(0.007738895926229498, 0.6973684210526315, 'x[4] <= 0.555\\ngini = 0.019\\nsamples = 1992\\nvalue = [1973, 19]'),\n",
              " Text(0.004225018857022591, 0.6710526315789473, 'x[5] <= 0.455\\ngini = 0.012\\nsamples = 1687\\nvalue = [1677, 10]'),\n",
              " Text(0.00209159349357554, 0.6447368421052632, 'x[3] <= 0.123\\ngini = 0.008\\nsamples = 1509\\nvalue = [1503, 6]'),\n",
              " Text(0.0017569385346034535, 0.618421052631579, 'gini = 0.0\\nsamples = 522\\nvalue = [522, 0]'),\n",
              " Text(0.0024262484525476263, 0.618421052631579, 'x[3] <= 0.124\\ngini = 0.012\\nsamples = 987\\nvalue = [981, 6]'),\n",
              " Text(0.00209159349357554, 0.5921052631578947, 'gini = 0.0\\nsamples = 1\\nvalue = [0, 1]'),\n",
              " Text(0.0027609034115197127, 0.5921052631578947, 'x[3] <= 0.133\\ngini = 0.01\\nsamples = 986\\nvalue = [981, 5]'),\n",
              " Text(0.0016732747948604318, 0.5657894736842105, 'x[3] <= 0.133\\ngini = 0.037\\nsamples = 106\\nvalue = [104, 2]'),\n",
              " Text(0.0013386198358883456, 0.5394736842105263, 'x[5] <= 0.218\\ngini = 0.019\\nsamples = 105\\nvalue = [104, 1]'),\n",
              " Text(0.0010039648769162592, 0.5131578947368421, 'x[6] <= 0.167\\ngini = 0.1\\nsamples = 19\\nvalue = [18, 1]'),\n",
              " Text(0.0006693099179441728, 0.4868421052631579, 'x[3] <= 0.126\\ngini = 0.375\\nsamples = 4\\nvalue = [3, 1]'),\n",
              " Text(0.0003346549589720864, 0.4605263157894737, 'gini = 0.0\\nsamples = 2\\nvalue = [2, 0]'),\n",
              " Text(0.0010039648769162592, 0.4605263157894737, 'x[8] <= 0.5\\ngini = 0.5\\nsamples = 2\\nvalue = [1, 1]'),\n",
              " Text(0.0006693099179441728, 0.4342105263157895, 'gini = 0.0\\nsamples = 1\\nvalue = [0, 1]'),\n",
              " Text(0.0013386198358883456, 0.4342105263157895, 'gini = 0.0\\nsamples = 1\\nvalue = [1, 0]'),\n",
              " Text(0.0013386198358883456, 0.4868421052631579, 'gini = 0.0\\nsamples = 15\\nvalue = [15, 0]'),\n",
              " Text(0.0016732747948604318, 0.5131578947368421, 'gini = 0.0\\nsamples = 86\\nvalue = [86, 0]'),\n",
              " Text(0.0020079297538325184, 0.5394736842105263, 'gini = 0.0\\nsamples = 1\\nvalue = [0, 1]'),\n",
              " Text(0.0038485320281789934, 0.5657894736842105, 'x[5] <= 0.25\\ngini = 0.007\\nsamples = 880\\nvalue = [877, 3]'),\n",
              " Text(0.003011894630748777, 0.5394736842105263, 'x[3] <= 0.144\\ngini = 0.019\\nsamples = 214\\nvalue = [212, 2]'),\n",
              " Text(0.002342584712804605, 0.5131578947368421, 'x[3] <= 0.142\\ngini = 0.08\\nsamples = 24\\nvalue = [23, 1]'),\n",
              " Text(0.0020079297538325184, 0.4868421052631579, 'gini = 0.0\\nsamples = 23\\nvalue = [23, 0]'),\n",
              " Text(0.0026772396717766912, 0.4868421052631579, 'gini = 0.0\\nsamples = 1\\nvalue = [0, 1]'),\n",
              " Text(0.00368120454869295, 0.5131578947368421, 'x[3] <= 0.176\\ngini = 0.01\\nsamples = 190\\nvalue = [189, 1]'),\n",
              " Text(0.0033465495897208636, 0.4868421052631579, 'x[3] <= 0.176\\ngini = 0.022\\nsamples = 88\\nvalue = [87, 1]'),\n",
              " Text(0.003011894630748777, 0.4605263157894737, 'gini = 0.0\\nsamples = 86\\nvalue = [86, 0]'),\n",
              " Text(0.00368120454869295, 0.4605263157894737, 'x[4] <= 0.464\\ngini = 0.5\\nsamples = 2\\nvalue = [1, 1]'),\n",
              " Text(0.0033465495897208636, 0.4342105263157895, 'gini = 0.0\\nsamples = 1\\nvalue = [1, 0]'),\n",
              " Text(0.004015859507665037, 0.4342105263157895, 'gini = 0.0\\nsamples = 1\\nvalue = [0, 1]'),\n",
              " Text(0.004015859507665037, 0.4868421052631579, 'gini = 0.0\\nsamples = 102\\nvalue = [102, 0]'),\n",
              " Text(0.00468516942560921, 0.5394736842105263, 'x[5] <= 0.357\\ngini = 0.003\\nsamples = 666\\nvalue = [665, 1]'),\n",
              " Text(0.004350514466637123, 0.5131578947368421, 'gini = 0.0\\nsamples = 436\\nvalue = [436, 0]'),\n",
              " Text(0.005019824384581296, 0.5131578947368421, 'x[3] <= 0.17\\ngini = 0.009\\nsamples = 230\\nvalue = [229, 1]'),\n",
              " Text(0.00468516942560921, 0.4868421052631579, 'x[3] <= 0.169\\ngini = 0.02\\nsamples = 97\\nvalue = [96, 1]'),\n",
              " Text(0.004350514466637123, 0.4605263157894737, 'gini = 0.0\\nsamples = 96\\nvalue = [96, 0]'),\n",
              " Text(0.005019824384581296, 0.4605263157894737, 'gini = 0.0\\nsamples = 1\\nvalue = [0, 1]'),\n",
              " Text(0.0053544793435533825, 0.4868421052631579, 'gini = 0.0\\nsamples = 133\\nvalue = [133, 0]'),\n",
              " Text(0.006358444220469641, 0.6447368421052632, 'x[4] <= 0.464\\ngini = 0.044\\nsamples = 178\\nvalue = [174, 4]'),\n",
              " Text(0.006023789261497554, 0.618421052631579, 'gini = 0.0\\nsamples = 87\\nvalue = [87, 0]'),\n",
              " Text(0.006693099179441727, 0.618421052631579, 'x[3] <= 0.146\\ngini = 0.084\\nsamples = 91\\nvalue = [87, 4]'),\n",
              " Text(0.006023789261497554, 0.5921052631578947, 'x[3] <= 0.073\\ngini = 0.038\\nsamples = 52\\nvalue = [51, 1]'),\n",
              " Text(0.005689134302525468, 0.5657894736842105, 'x[3] <= 0.07\\ngini = 0.18\\nsamples = 10\\nvalue = [9, 1]'),\n",
              " Text(0.0053544793435533825, 0.5394736842105263, 'gini = 0.0\\nsamples = 9\\nvalue = [9, 0]'),\n",
              " Text(0.006023789261497554, 0.5394736842105263, 'gini = 0.0\\nsamples = 1\\nvalue = [0, 1]'),\n",
              " Text(0.006358444220469641, 0.5657894736842105, 'gini = 0.0\\nsamples = 42\\nvalue = [42, 0]'),\n",
              " Text(0.0073624090973859, 0.5921052631578947, 'x[3] <= 0.15\\ngini = 0.142\\nsamples = 39\\nvalue = [36, 3]'),\n",
              " Text(0.007027754138413814, 0.5657894736842105, 'gini = 0.0\\nsamples = 2\\nvalue = [0, 2]'),\n",
              " Text(0.007697064056357987, 0.5657894736842105, 'x[3] <= 0.179\\ngini = 0.053\\nsamples = 37\\nvalue = [36, 1]'),\n",
              " Text(0.0073624090973859, 0.5394736842105263, 'x[3] <= 0.175\\ngini = 0.153\\nsamples = 12\\nvalue = [11, 1]'),\n",
              " Text(0.007027754138413814, 0.5131578947368421, 'gini = 0.0\\nsamples = 11\\nvalue = [11, 0]'),\n",
              " Text(0.007697064056357987, 0.5131578947368421, 'gini = 0.0\\nsamples = 1\\nvalue = [0, 1]'),\n",
              " Text(0.008031719015330074, 0.5394736842105263, 'gini = 0.0\\nsamples = 25\\nvalue = [25, 0]'),\n",
              " Text(0.011252772995436405, 0.6710526315789473, 'x[3] <= 0.128\\ngini = 0.057\\nsamples = 305\\nvalue = [296, 9]'),\n",
              " Text(0.00937033885121842, 0.6447368421052632, 'x[5] <= 0.284\\ngini = 0.017\\nsamples = 118\\nvalue = [117, 1]'),\n",
              " Text(0.009035683892246332, 0.618421052631579, 'x[5] <= 0.25\\ngini = 0.041\\nsamples = 48\\nvalue = [47, 1]'),\n",
              " Text(0.008701028933274246, 0.5921052631578947, 'gini = 0.0\\nsamples = 30\\nvalue = [30, 0]'),\n",
              " Text(0.00937033885121842, 0.5921052631578947, 'x[3] <= 0.092\\ngini = 0.105\\nsamples = 18\\nvalue = [17, 1]'),\n",
              " Text(0.009035683892246332, 0.5657894736842105, 'x[3] <= 0.087\\ngini = 0.245\\nsamples = 7\\nvalue = [6, 1]'),\n",
              " Text(0.008701028933274246, 0.5394736842105263, 'gini = 0.0\\nsamples = 6\\nvalue = [6, 0]'),\n",
              " Text(0.00937033885121842, 0.5394736842105263, 'gini = 0.0\\nsamples = 1\\nvalue = [0, 1]'),\n",
              " Text(0.009704993810190505, 0.5657894736842105, 'gini = 0.0\\nsamples = 11\\nvalue = [11, 0]'),\n",
              " Text(0.009704993810190505, 0.618421052631579, 'gini = 0.0\\nsamples = 70\\nvalue = [70, 0]'),\n",
              " Text(0.01313520713965439, 0.6447368421052632, 'x[3] <= 0.143\\ngini = 0.082\\nsamples = 187\\nvalue = [179, 8]'),\n",
              " Text(0.011378268605050937, 0.618421052631579, 'x[3] <= 0.143\\ngini = 0.245\\nsamples = 35\\nvalue = [30, 5]'),\n",
              " Text(0.011043613646078851, 0.5921052631578947, 'x[5] <= 0.348\\ngini = 0.208\\nsamples = 34\\nvalue = [30, 4]'),\n",
              " Text(0.010708958687106765, 0.5657894736842105, 'x[3] <= 0.136\\ngini = 0.36\\nsamples = 17\\nvalue = [13, 4]'),\n",
              " Text(0.010039648769162591, 0.5394736842105263, 'x[3] <= 0.13\\ngini = 0.18\\nsamples = 10\\nvalue = [9, 1]'),\n",
              " Text(0.009704993810190505, 0.5131578947368421, 'x[5] <= 0.252\\ngini = 0.5\\nsamples = 2\\nvalue = [1, 1]'),\n",
              " Text(0.00937033885121842, 0.4868421052631579, 'gini = 0.0\\nsamples = 1\\nvalue = [1, 0]'),\n",
              " Text(0.010039648769162591, 0.4868421052631579, 'gini = 0.0\\nsamples = 1\\nvalue = [0, 1]'),\n",
              " Text(0.010374303728134677, 0.5131578947368421, 'gini = 0.0\\nsamples = 8\\nvalue = [8, 0]'),\n",
              " Text(0.011378268605050937, 0.5394736842105263, 'x[3] <= 0.139\\ngini = 0.49\\nsamples = 7\\nvalue = [4, 3]'),\n",
              " Text(0.011043613646078851, 0.5131578947368421, 'gini = 0.0\\nsamples = 2\\nvalue = [0, 2]'),\n",
              " Text(0.011712923564023023, 0.5131578947368421, 'x[8] <= 0.5\\ngini = 0.32\\nsamples = 5\\nvalue = [4, 1]'),\n",
              " Text(0.011378268605050937, 0.4868421052631579, 'gini = 0.0\\nsamples = 3\\nvalue = [3, 0]'),\n",
              " Text(0.012047578522995109, 0.4868421052631579, 'x[3] <= 0.141\\ngini = 0.5\\nsamples = 2\\nvalue = [1, 1]'),\n",
              " Text(0.011712923564023023, 0.4605263157894737, 'gini = 0.0\\nsamples = 1\\nvalue = [1, 0]'),\n",
              " Text(0.012382233481967196, 0.4605263157894737, 'gini = 0.0\\nsamples = 1\\nvalue = [0, 1]'),\n",
              " Text(0.011378268605050937, 0.5657894736842105, 'gini = 0.0\\nsamples = 17\\nvalue = [17, 0]'),\n",
              " Text(0.011712923564023023, 0.5921052631578947, 'gini = 0.0\\nsamples = 1\\nvalue = [0, 1]'),\n",
              " Text(0.014892145674257843, 0.618421052631579, 'x[3] <= 0.167\\ngini = 0.039\\nsamples = 152\\nvalue = [149, 3]'),\n",
              " Text(0.013720853317855542, 0.5921052631578947, 'x[3] <= 0.167\\ngini = 0.089\\nsamples = 43\\nvalue = [41, 2]'),\n",
              " Text(0.013051543399911368, 0.5657894736842105, 'x[5] <= 0.218\\ngini = 0.048\\nsamples = 41\\nvalue = [40, 1]'),\n",
              " Text(0.012716888440939282, 0.5394736842105263, 'x[3] <= 0.156\\ngini = 0.278\\nsamples = 6\\nvalue = [5, 1]'),\n",
              " Text(0.012382233481967196, 0.5131578947368421, 'gini = 0.0\\nsamples = 4\\nvalue = [4, 0]'),\n",
              " Text(0.013051543399911368, 0.5131578947368421, 'x[3] <= 0.162\\ngini = 0.5\\nsamples = 2\\nvalue = [1, 1]'),\n",
              " Text(0.012716888440939282, 0.4868421052631579, 'gini = 0.0\\nsamples = 1\\nvalue = [0, 1]'),\n",
              " Text(0.013386198358883454, 0.4868421052631579, 'gini = 0.0\\nsamples = 1\\nvalue = [1, 0]'),\n",
              " Text(0.013386198358883454, 0.5394736842105263, 'gini = 0.0\\nsamples = 35\\nvalue = [35, 0]'),\n",
              " Text(0.014390163235799714, 0.5657894736842105, 'x[6] <= 0.167\\ngini = 0.5\\nsamples = 2\\nvalue = [1, 1]'),\n",
              " Text(0.014055508276827628, 0.5394736842105263, 'gini = 0.0\\nsamples = 1\\nvalue = [0, 1]'),\n",
              " Text(0.0147248181947718, 0.5394736842105263, 'gini = 0.0\\nsamples = 1\\nvalue = [1, 0]'),\n",
              " Text(0.016063438030660147, 0.5921052631578947, 'x[5] <= 0.284\\ngini = 0.018\\nsamples = 109\\nvalue = [108, 1]'),\n",
              " Text(0.01572878307168806, 0.5657894736842105, 'x[5] <= 0.25\\ngini = 0.05\\nsamples = 39\\nvalue = [38, 1]'),\n",
              " Text(0.015394128112715974, 0.5394736842105263, 'gini = 0.0\\nsamples = 24\\nvalue = [24, 0]'),\n",
              " Text(0.016063438030660147, 0.5394736842105263, 'x[7] <= 0.5\\ngini = 0.124\\nsamples = 15\\nvalue = [14, 1]'),\n",
              " Text(0.01572878307168806, 0.5131578947368421, 'gini = 0.0\\nsamples = 9\\nvalue = [9, 0]'),\n",
              " Text(0.016398092989632233, 0.5131578947368421, 'x[3] <= 0.196\\ngini = 0.278\\nsamples = 6\\nvalue = [5, 1]'),\n",
              " Text(0.016063438030660147, 0.4868421052631579, 'gini = 0.0\\nsamples = 1\\nvalue = [1, 0]'),\n",
              " Text(0.01673274794860432, 0.4868421052631579, 'gini = 0.32\\nsamples = 5\\nvalue = [4, 1]'),\n",
              " Text(0.016398092989632233, 0.5657894736842105, 'gini = 0.0\\nsamples = 70\\nvalue = [70, 0]'),\n",
              " Text(0.02251992569614114, 0.6973684210526315, 'x[3] <= 0.079\\ngini = 0.007\\nsamples = 5275\\nvalue = [5256, 19]'),\n",
              " Text(0.01836419087359324, 0.6710526315789473, 'x[5] <= 0.284\\ngini = 0.002\\nsamples = 1296\\nvalue = [1295, 1]'),\n",
              " Text(0.018029535914621152, 0.6447368421052632, 'x[5] <= 0.25\\ngini = 0.005\\nsamples = 425\\nvalue = [424, 1]'),\n",
              " Text(0.017694880955649066, 0.618421052631579, 'gini = 0.0\\nsamples = 277\\nvalue = [277, 0]'),\n",
              " Text(0.01836419087359324, 0.618421052631579, 'x[3] <= 0.063\\ngini = 0.013\\nsamples = 148\\nvalue = [147, 1]'),\n",
              " Text(0.018029535914621152, 0.5921052631578947, 'x[3] <= 0.063\\ngini = 0.031\\nsamples = 64\\nvalue = [63, 1]'),\n",
              " Text(0.017694880955649066, 0.5657894736842105, 'gini = 0.0\\nsamples = 63\\nvalue = [63, 0]'),\n",
              " Text(0.01836419087359324, 0.5657894736842105, 'gini = 0.0\\nsamples = 1\\nvalue = [0, 1]'),\n",
              " Text(0.018698845832565328, 0.5921052631578947, 'gini = 0.0\\nsamples = 84\\nvalue = [84, 0]'),\n",
              " Text(0.018698845832565328, 0.6447368421052632, 'gini = 0.0\\nsamples = 871\\nvalue = [871, 0]'),\n",
              " Text(0.02667566051868904, 0.6710526315789473, 'x[3] <= 0.079\\ngini = 0.009\\nsamples = 3979\\nvalue = [3961, 18]'),\n",
              " Text(0.024523933712173204, 0.6447368421052632, 'x[4] <= 0.509\\ngini = 0.278\\nsamples = 6\\nvalue = [5, 1]'),\n",
              " Text(0.024189278753201118, 0.618421052631579, 'gini = 0.0\\nsamples = 4\\nvalue = [4, 0]'),\n",
              " Text(0.02485858867114529, 0.618421052631579, 'gini = 0.5\\nsamples = 2\\nvalue = [1, 1]'),\n",
              " Text(0.02882738732520488, 0.6447368421052632, 'x[2] <= 0.875\\ngini = 0.009\\nsamples = 3973\\nvalue = [3956, 17]'),\n",
              " Text(0.025527898589089465, 0.618421052631579, 'x[5] <= 0.361\\ngini = 0.008\\nsamples = 3911\\nvalue = [3895, 16]'),\n",
              " Text(0.021564328918763816, 0.5921052631578947, 'x[5] <= 0.318\\ngini = 0.007\\nsamples = 3048\\nvalue = [3038, 10]'),\n",
              " Text(0.019033500791537414, 0.5657894736842105, 'x[4] <= 0.436\\ngini = 0.009\\nsamples = 1783\\nvalue = [1775, 8]'),\n",
              " Text(0.018071367784492663, 0.5394736842105263, 'x[7] <= 0.5\\ngini = 0.015\\nsamples = 536\\nvalue = [532, 4]'),\n",
              " Text(0.017736712825520577, 0.5131578947368421, 'x[3] <= 0.116\\ngini = 0.03\\nsamples = 267\\nvalue = [263, 4]'),\n",
              " Text(0.01740205786654849, 0.4868421052631579, 'gini = 0.0\\nsamples = 87\\nvalue = [87, 0]'),\n",
              " Text(0.018071367784492663, 0.4868421052631579, 'x[3] <= 0.117\\ngini = 0.043\\nsamples = 180\\nvalue = [176, 4]'),\n",
              " Text(0.017736712825520577, 0.4605263157894737, 'gini = 0.0\\nsamples = 1\\nvalue = [0, 1]'),\n",
              " Text(0.01840602274346475, 0.4605263157894737, 'x[3] <= 0.133\\ngini = 0.033\\nsamples = 179\\nvalue = [176, 3]'),\n",
              " Text(0.018071367784492663, 0.4342105263157895, 'gini = 0.0\\nsamples = 31\\nvalue = [31, 0]'),\n",
              " Text(0.01874067770243684, 0.4342105263157895, 'x[3] <= 0.134\\ngini = 0.04\\nsamples = 148\\nvalue = [145, 3]'),\n",
              " Text(0.01840602274346475, 0.40789473684210525, 'gini = 0.0\\nsamples = 1\\nvalue = [0, 1]'),\n",
              " Text(0.019075332661408925, 0.40789473684210525, 'x[5] <= 0.25\\ngini = 0.027\\nsamples = 147\\nvalue = [145, 2]'),\n",
              " Text(0.01874067770243684, 0.3815789473684211, 'gini = 0.0\\nsamples = 78\\nvalue = [78, 0]'),\n",
              " Text(0.01940998762038101, 0.3815789473684211, 'x[3] <= 0.203\\ngini = 0.056\\nsamples = 69\\nvalue = [67, 2]'),\n",
              " Text(0.019075332661408925, 0.35526315789473684, 'gini = 0.0\\nsamples = 25\\nvalue = [25, 0]'),\n",
              " Text(0.019744642579353096, 0.35526315789473684, 'x[2] <= 0.375\\ngini = 0.087\\nsamples = 44\\nvalue = [42, 2]'),\n",
              " Text(0.01940998762038101, 0.32894736842105265, 'gini = 0.0\\nsamples = 2\\nvalue = [2, 0]'),\n",
              " Text(0.020079297538325182, 0.32894736842105265, 'x[6] <= 0.167\\ngini = 0.091\\nsamples = 42\\nvalue = [40, 2]'),\n",
              " Text(0.01940998762038101, 0.3026315789473684, 'x[5] <= 0.284\\ngini = 0.077\\nsamples = 25\\nvalue = [24, 1]'),\n",
              " Text(0.019075332661408925, 0.27631578947368424, 'x[4] <= 0.409\\ngini = 0.133\\nsamples = 14\\nvalue = [13, 1]'),\n",
              " Text(0.01874067770243684, 0.25, 'gini = 0.0\\nsamples = 6\\nvalue = [6, 0]'),\n",
              " Text(0.01940998762038101, 0.25, 'gini = 0.219\\nsamples = 8\\nvalue = [7, 1]'),\n",
              " Text(0.019744642579353096, 0.27631578947368424, 'gini = 0.0\\nsamples = 11\\nvalue = [11, 0]'),\n",
              " Text(0.020748607456269354, 0.3026315789473684, 'x[5] <= 0.284\\ngini = 0.111\\nsamples = 17\\nvalue = [16, 1]'),\n",
              " Text(0.02041395249729727, 0.27631578947368424, 'gini = 0.0\\nsamples = 11\\nvalue = [11, 0]'),\n",
              " Text(0.02108326241524144, 0.27631578947368424, 'gini = 0.278\\nsamples = 6\\nvalue = [5, 1]'),\n",
              " Text(0.01840602274346475, 0.5131578947368421, 'gini = 0.0\\nsamples = 269\\nvalue = [269, 0]'),\n",
              " Text(0.01999563379858216, 0.5394736842105263, 'x[7] <= 0.5\\ngini = 0.006\\nsamples = 1247\\nvalue = [1243, 4]'),\n",
              " Text(0.019660978839610075, 0.5131578947368421, 'gini = 0.0\\nsamples = 599\\nvalue = [599, 0]'),\n",
              " Text(0.020330288757554247, 0.5131578947368421, 'x[4] <= 0.482\\ngini = 0.012\\nsamples = 648\\nvalue = [644, 4]'),\n",
              " Text(0.01999563379858216, 0.4868421052631579, 'gini = 0.0\\nsamples = 264\\nvalue = [264, 0]'),\n",
              " Text(0.020664943716526333, 0.4868421052631579, 'x[3] <= 0.086\\ngini = 0.021\\nsamples = 384\\nvalue = [380, 4]'),\n",
              " Text(0.019744642579353096, 0.4605263157894737, 'x[3] <= 0.086\\ngini = 0.061\\nsamples = 32\\nvalue = [31, 1]'),\n",
              " Text(0.01940998762038101, 0.4342105263157895, 'gini = 0.0\\nsamples = 31\\nvalue = [31, 0]'),\n",
              " Text(0.020079297538325182, 0.4342105263157895, 'gini = 0.0\\nsamples = 1\\nvalue = [0, 1]'),\n",
              " Text(0.021585244853699573, 0.4605263157894737, 'x[2] <= 0.375\\ngini = 0.017\\nsamples = 352\\nvalue = [349, 3]'),\n",
              " Text(0.020748607456269354, 0.4342105263157895, 'x[5] <= 0.218\\ngini = 0.053\\nsamples = 37\\nvalue = [36, 1]'),\n",
              " Text(0.02041395249729727, 0.40789473684210525, 'x[4] <= 0.555\\ngini = 0.198\\nsamples = 9\\nvalue = [8, 1]'),\n",
              " Text(0.020079297538325182, 0.3815789473684211, 'gini = 0.0\\nsamples = 7\\nvalue = [7, 0]'),\n",
              " Text(0.020748607456269354, 0.3815789473684211, 'x[3] <= 0.181\\ngini = 0.5\\nsamples = 2\\nvalue = [1, 1]'),\n",
              " Text(0.02041395249729727, 0.35526315789473684, 'gini = 0.0\\nsamples = 1\\nvalue = [1, 0]'),\n",
              " Text(0.02108326241524144, 0.35526315789473684, 'gini = 0.0\\nsamples = 1\\nvalue = [0, 1]'),\n",
              " Text(0.02108326241524144, 0.40789473684210525, 'gini = 0.0\\nsamples = 28\\nvalue = [28, 0]'),\n",
              " Text(0.022421882251129788, 0.4342105263157895, 'x[4] <= 0.518\\ngini = 0.013\\nsamples = 315\\nvalue = [313, 2]'),\n",
              " Text(0.022087227292157702, 0.40789473684210525, 'gini = 0.0\\nsamples = 97\\nvalue = [97, 0]'),\n",
              " Text(0.022756537210101874, 0.40789473684210525, 'x[3] <= 0.116\\ngini = 0.018\\nsamples = 218\\nvalue = [216, 2]'),\n",
              " Text(0.022087227292157702, 0.3815789473684211, 'x[3] <= 0.115\\ngini = 0.039\\nsamples = 50\\nvalue = [49, 1]'),\n",
              " Text(0.021752572333185616, 0.35526315789473684, 'gini = 0.0\\nsamples = 49\\nvalue = [49, 0]'),\n",
              " Text(0.022421882251129788, 0.35526315789473684, 'gini = 0.0\\nsamples = 1\\nvalue = [0, 1]'),\n",
              " Text(0.023425847128046046, 0.3815789473684211, 'x[6] <= 0.167\\ngini = 0.012\\nsamples = 168\\nvalue = [167, 1]'),\n",
              " Text(0.02309119216907396, 0.35526315789473684, 'x[5] <= 0.25\\ngini = 0.028\\nsamples = 71\\nvalue = [70, 1]'),\n",
              " Text(0.022756537210101874, 0.32894736842105265, 'x[5] <= 0.218\\ngini = 0.061\\nsamples = 32\\nvalue = [31, 1]'),\n",
              " Text(0.022421882251129788, 0.3026315789473684, 'gini = 0.0\\nsamples = 20\\nvalue = [20, 0]'),\n",
              " Text(0.02309119216907396, 0.3026315789473684, 'x[4] <= 0.555\\ngini = 0.153\\nsamples = 12\\nvalue = [11, 1]'),\n",
              " Text(0.022756537210101874, 0.27631578947368424, 'gini = 0.0\\nsamples = 5\\nvalue = [5, 0]'),\n",
              " Text(0.023425847128046046, 0.27631578947368424, 'x[3] <= 0.176\\ngini = 0.245\\nsamples = 7\\nvalue = [6, 1]'),\n",
              " Text(0.02309119216907396, 0.25, 'gini = 0.0\\nsamples = 1\\nvalue = [1, 0]'),\n",
              " Text(0.02376050208701813, 0.25, 'x[3] <= 0.208\\ngini = 0.278\\nsamples = 6\\nvalue = [5, 1]'),\n",
              " Text(0.023425847128046046, 0.2236842105263158, 'gini = 0.32\\nsamples = 5\\nvalue = [4, 1]'),\n",
              " Text(0.024095157045990218, 0.2236842105263158, 'gini = 0.0\\nsamples = 1\\nvalue = [1, 0]'),\n",
              " Text(0.023425847128046046, 0.32894736842105265, 'gini = 0.0\\nsamples = 39\\nvalue = [39, 0]'),\n",
              " Text(0.02376050208701813, 0.35526315789473684, 'gini = 0.0\\nsamples = 97\\nvalue = [97, 0]'),\n",
              " Text(0.024095157045990218, 0.5657894736842105, 'x[7] <= 0.5\\ngini = 0.003\\nsamples = 1265\\nvalue = [1263, 2]'),\n",
              " Text(0.02376050208701813, 0.5394736842105263, 'gini = 0.0\\nsamples = 614\\nvalue = [614, 0]'),\n",
              " Text(0.024429812004962307, 0.5394736842105263, 'x[6] <= 0.167\\ngini = 0.006\\nsamples = 651\\nvalue = [649, 2]'),\n",
              " Text(0.024095157045990218, 0.5131578947368421, 'x[3] <= 0.099\\ngini = 0.011\\nsamples = 377\\nvalue = [375, 2]'),\n",
              " Text(0.02376050208701813, 0.4868421052631579, 'gini = 0.0\\nsamples = 127\\nvalue = [127, 0]'),\n",
              " Text(0.024429812004962307, 0.4868421052631579, 'x[3] <= 0.099\\ngini = 0.016\\nsamples = 250\\nvalue = [248, 2]'),\n",
              " Text(0.02376050208701813, 0.4605263157894737, 'x[4] <= 0.555\\ngini = 0.5\\nsamples = 2\\nvalue = [1, 1]'),\n",
              " Text(0.023425847128046046, 0.4342105263157895, 'gini = 0.0\\nsamples = 1\\nvalue = [0, 1]'),\n",
              " Text(0.024095157045990218, 0.4342105263157895, 'gini = 0.0\\nsamples = 1\\nvalue = [1, 0]'),\n",
              " Text(0.02509912192290648, 0.4605263157894737, 'x[5] <= 0.348\\ngini = 0.008\\nsamples = 248\\nvalue = [247, 1]'),\n",
              " Text(0.024764466963934393, 0.4342105263157895, 'x[3] <= 0.198\\ngini = 0.025\\nsamples = 78\\nvalue = [77, 1]'),\n",
              " Text(0.024429812004962307, 0.40789473684210525, 'gini = 0.0\\nsamples = 52\\nvalue = [52, 0]'),\n",
              " Text(0.02509912192290648, 0.40789473684210525, 'x[4] <= 0.464\\ngini = 0.074\\nsamples = 26\\nvalue = [25, 1]'),\n",
              " Text(0.024764466963934393, 0.3815789473684211, 'x[4] <= 0.436\\ngini = 0.153\\nsamples = 12\\nvalue = [11, 1]'),\n",
              " Text(0.024429812004962307, 0.35526315789473684, 'gini = 0.0\\nsamples = 9\\nvalue = [9, 0]'),\n",
              " Text(0.02509912192290648, 0.35526315789473684, 'gini = 0.444\\nsamples = 3\\nvalue = [2, 1]'),\n",
              " Text(0.025433776881878565, 0.3815789473684211, 'gini = 0.0\\nsamples = 14\\nvalue = [14, 0]'),\n",
              " Text(0.025433776881878565, 0.4342105263157895, 'gini = 0.0\\nsamples = 170\\nvalue = [170, 0]'),\n",
              " Text(0.024764466963934393, 0.5131578947368421, 'gini = 0.0\\nsamples = 274\\nvalue = [274, 0]'),\n",
              " Text(0.02949146825941511, 0.5921052631578947, 'x[4] <= 0.482\\ngini = 0.014\\nsamples = 863\\nvalue = [857, 6]'),\n",
              " Text(0.027525370375454106, 0.5657894736842105, 'x[2] <= 0.375\\ngini = 0.02\\nsamples = 484\\nvalue = [479, 5]'),\n",
              " Text(0.026103086799822737, 0.5394736842105263, 'x[4] <= 0.464\\ngini = 0.056\\nsamples = 35\\nvalue = [34, 1]'),\n",
              " Text(0.02576843184085065, 0.5131578947368421, 'gini = 0.0\\nsamples = 27\\nvalue = [27, 0]'),\n",
              " Text(0.026437741758794823, 0.5131578947368421, 'x[3] <= 0.137\\ngini = 0.219\\nsamples = 8\\nvalue = [7, 1]'),\n",
              " Text(0.026103086799822737, 0.4868421052631579, 'x[3] <= 0.133\\ngini = 0.375\\nsamples = 4\\nvalue = [3, 1]'),\n",
              " Text(0.02576843184085065, 0.4605263157894737, 'gini = 0.0\\nsamples = 3\\nvalue = [3, 0]'),\n",
              " Text(0.026437741758794823, 0.4605263157894737, 'gini = 0.0\\nsamples = 1\\nvalue = [0, 1]'),\n",
              " Text(0.02677239671776691, 0.4868421052631579, 'gini = 0.0\\nsamples = 4\\nvalue = [4, 0]'),\n",
              " Text(0.02894765395108547, 0.5394736842105263, 'x[3] <= 0.085\\ngini = 0.018\\nsamples = 449\\nvalue = [445, 4]'),\n",
              " Text(0.02777636159468317, 0.5131578947368421, 'x[3] <= 0.085\\ngini = 0.056\\nsamples = 35\\nvalue = [34, 1]'),\n",
              " Text(0.027441706635711084, 0.4868421052631579, 'gini = 0.0\\nsamples = 33\\nvalue = [33, 0]'),\n",
              " Text(0.028111016553655256, 0.4868421052631579, 'x[4] <= 0.409\\ngini = 0.5\\nsamples = 2\\nvalue = [1, 1]'),\n",
              " Text(0.02777636159468317, 0.4605263157894737, 'gini = 0.0\\nsamples = 1\\nvalue = [1, 0]'),\n",
              " Text(0.028445671512627342, 0.4605263157894737, 'gini = 0.0\\nsamples = 1\\nvalue = [0, 1]'),\n",
              " Text(0.030118946307487775, 0.5131578947368421, 'x[2] <= 0.625\\ngini = 0.014\\nsamples = 414\\nvalue = [411, 3]'),\n",
              " Text(0.0294496363895436, 0.4868421052631579, 'x[4] <= 0.436\\ngini = 0.011\\nsamples = 376\\nvalue = [374, 2]'),\n",
              " Text(0.029114981430571514, 0.4605263157894737, 'x[8] <= 0.5\\ngini = 0.021\\nsamples = 189\\nvalue = [187, 2]'),\n",
              " Text(0.028780326471599428, 0.4342105263157895, 'gini = 0.0\\nsamples = 89\\nvalue = [89, 0]'),\n",
              " Text(0.0294496363895436, 0.4342105263157895, 'x[3] <= 0.107\\ngini = 0.039\\nsamples = 100\\nvalue = [98, 2]'),\n",
              " Text(0.028780326471599428, 0.40789473684210525, 'x[3] <= 0.107\\ngini = 0.083\\nsamples = 23\\nvalue = [22, 1]'),\n",
              " Text(0.028445671512627342, 0.3815789473684211, 'gini = 0.0\\nsamples = 22\\nvalue = [22, 0]'),\n",
              " Text(0.029114981430571514, 0.3815789473684211, 'gini = 0.0\\nsamples = 1\\nvalue = [0, 1]'),\n",
              " Text(0.030118946307487775, 0.40789473684210525, 'x[3] <= 0.203\\ngini = 0.026\\nsamples = 77\\nvalue = [76, 1]'),\n",
              " Text(0.029784291348515686, 0.3815789473684211, 'gini = 0.0\\nsamples = 44\\nvalue = [44, 0]'),\n",
              " Text(0.03045360126645986, 0.3815789473684211, 'x[5] <= 0.455\\ngini = 0.059\\nsamples = 33\\nvalue = [32, 1]'),\n",
              " Text(0.030118946307487775, 0.35526315789473684, 'gini = 0.0\\nsamples = 19\\nvalue = [19, 0]'),\n",
              " Text(0.030788256225431947, 0.35526315789473684, 'x[6] <= 0.167\\ngini = 0.133\\nsamples = 14\\nvalue = [13, 1]'),\n",
              " Text(0.03045360126645986, 0.32894736842105265, 'x[4] <= 0.409\\ngini = 0.245\\nsamples = 7\\nvalue = [6, 1]'),\n",
              " Text(0.030118946307487775, 0.3026315789473684, 'gini = 0.32\\nsamples = 5\\nvalue = [4, 1]'),\n",
              " Text(0.030788256225431947, 0.3026315789473684, 'gini = 0.0\\nsamples = 2\\nvalue = [2, 0]'),\n",
              " Text(0.031122911184404033, 0.32894736842105265, 'gini = 0.0\\nsamples = 7\\nvalue = [7, 0]'),\n",
              " Text(0.029784291348515686, 0.4605263157894737, 'gini = 0.0\\nsamples = 187\\nvalue = [187, 0]'),\n",
              " Text(0.030788256225431947, 0.4868421052631579, 'x[3] <= 0.2\\ngini = 0.051\\nsamples = 38\\nvalue = [37, 1]'),\n",
              " Text(0.03045360126645986, 0.4605263157894737, 'gini = 0.0\\nsamples = 26\\nvalue = [26, 0]'),\n",
              " Text(0.031122911184404033, 0.4605263157894737, 'x[4] <= 0.436\\ngini = 0.153\\nsamples = 12\\nvalue = [11, 1]'),\n",
              " Text(0.030788256225431947, 0.4342105263157895, 'gini = 0.0\\nsamples = 7\\nvalue = [7, 0]'),\n",
              " Text(0.03145756614337612, 0.4342105263157895, 'x[4] <= 0.464\\ngini = 0.32\\nsamples = 5\\nvalue = [4, 1]'),\n",
              " Text(0.031122911184404033, 0.40789473684210525, 'gini = 0.0\\nsamples = 1\\nvalue = [0, 1]'),\n",
              " Text(0.03179222110234821, 0.40789473684210525, 'gini = 0.0\\nsamples = 4\\nvalue = [4, 0]'),\n",
              " Text(0.03145756614337612, 0.5657894736842105, 'x[3] <= 0.131\\ngini = 0.005\\nsamples = 379\\nvalue = [378, 1]'),\n",
              " Text(0.031122911184404033, 0.5394736842105263, 'x[3] <= 0.13\\ngini = 0.011\\nsamples = 175\\nvalue = [174, 1]'),\n",
              " Text(0.030788256225431947, 0.5131578947368421, 'gini = 0.0\\nsamples = 174\\nvalue = [174, 0]'),\n",
              " Text(0.03145756614337612, 0.5131578947368421, 'gini = 0.0\\nsamples = 1\\nvalue = [0, 1]'),\n",
              " Text(0.03179222110234821, 0.5394736842105263, 'gini = 0.0\\nsamples = 204\\nvalue = [204, 0]'),\n",
              " Text(0.032126876061320295, 0.618421052631579, 'x[3] <= 0.204\\ngini = 0.032\\nsamples = 62\\nvalue = [61, 1]'),\n",
              " Text(0.03179222110234821, 0.5921052631578947, 'gini = 0.0\\nsamples = 58\\nvalue = [58, 0]'),\n",
              " Text(0.03246153102029238, 0.5921052631578947, 'x[5] <= 0.35\\ngini = 0.375\\nsamples = 4\\nvalue = [3, 1]'),\n",
              " Text(0.032126876061320295, 0.5657894736842105, 'gini = 0.0\\nsamples = 3\\nvalue = [3, 0]'),\n",
              " Text(0.03279618597926447, 0.5657894736842105, 'gini = 0.0\\nsamples = 1\\nvalue = [0, 1]'),\n",
              " Text(0.06997748759096797, 0.7236842105263158, 'x[7] <= 0.5\\ngini = 0.036\\nsamples = 6826\\nvalue = [6702, 124]'),\n",
              " Text(0.055874305689003576, 0.6973684210526315, 'x[5] <= 0.348\\ngini = 0.05\\nsamples = 2483\\nvalue = [2419, 64]'),\n",
              " Text(0.046757572548881195, 0.6710526315789473, 'x[2] <= 0.375\\ngini = 0.063\\nsamples = 1374\\nvalue = [1329, 45]'),\n",
              " Text(0.041308971498116916, 0.6447368421052632, 'x[3] <= 0.207\\ngini = 0.084\\nsamples = 639\\nvalue = [611, 28]'),\n",
              " Text(0.038108833452946335, 0.618421052631579, 'x[3] <= 0.169\\ngini = 0.073\\nsamples = 580\\nvalue = [558, 22]'),\n",
              " Text(0.03589174434975626, 0.5921052631578947, 'x[3] <= 0.169\\ngini = 0.125\\nsamples = 134\\nvalue = [125, 9]'),\n",
              " Text(0.035557089390784176, 0.5657894736842105, 'x[2] <= 0.125\\ngini = 0.113\\nsamples = 133\\nvalue = [125, 8]'),\n",
              " Text(0.033800150856180725, 0.5394736842105263, 'x[4] <= 0.464\\ngini = 0.04\\nsamples = 98\\nvalue = [96, 2]'),\n",
              " Text(0.03346549589720864, 0.5131578947368421, 'x[5] <= 0.25\\ngini = 0.089\\nsamples = 43\\nvalue = [41, 2]'),\n",
              " Text(0.03313084093823655, 0.4868421052631579, 'gini = 0.0\\nsamples = 17\\nvalue = [17, 0]'),\n",
              " Text(0.033800150856180725, 0.4868421052631579, 'x[3] <= 0.165\\ngini = 0.142\\nsamples = 26\\nvalue = [24, 2]'),\n",
              " Text(0.03313084093823655, 0.4605263157894737, 'x[4] <= 0.409\\ngini = 0.08\\nsamples = 24\\nvalue = [23, 1]'),\n",
              " Text(0.03279618597926447, 0.4342105263157895, 'x[3] <= 0.138\\ngini = 0.278\\nsamples = 6\\nvalue = [5, 1]'),\n",
              " Text(0.03246153102029238, 0.40789473684210525, 'x[3] <= 0.116\\ngini = 0.5\\nsamples = 2\\nvalue = [1, 1]'),\n",
              " Text(0.032126876061320295, 0.3815789473684211, 'gini = 0.0\\nsamples = 1\\nvalue = [1, 0]'),\n",
              " Text(0.03279618597926447, 0.3815789473684211, 'gini = 0.0\\nsamples = 1\\nvalue = [0, 1]'),\n",
              " Text(0.03313084093823655, 0.40789473684210525, 'gini = 0.0\\nsamples = 4\\nvalue = [4, 0]'),\n",
              " Text(0.03346549589720864, 0.4342105263157895, 'gini = 0.0\\nsamples = 18\\nvalue = [18, 0]'),\n",
              " Text(0.034469460774124897, 0.4605263157894737, 'x[3] <= 0.166\\ngini = 0.5\\nsamples = 2\\nvalue = [1, 1]'),\n",
              " Text(0.03413480581515281, 0.4342105263157895, 'gini = 0.0\\nsamples = 1\\nvalue = [0, 1]'),\n",
              " Text(0.03480411573309698, 0.4342105263157895, 'gini = 0.0\\nsamples = 1\\nvalue = [1, 0]'),\n",
              " Text(0.03413480581515281, 0.5131578947368421, 'gini = 0.0\\nsamples = 55\\nvalue = [55, 0]'),\n",
              " Text(0.037314027925387634, 0.5394736842105263, 'x[3] <= 0.159\\ngini = 0.284\\nsamples = 35\\nvalue = [29, 6]'),\n",
              " Text(0.03647739052795741, 0.5131578947368421, 'x[3] <= 0.141\\ngini = 0.153\\nsamples = 24\\nvalue = [22, 2]'),\n",
              " Text(0.036142735568985326, 0.4868421052631579, 'x[3] <= 0.138\\ngini = 0.32\\nsamples = 10\\nvalue = [8, 2]'),\n",
              " Text(0.03580808061001324, 0.4605263157894737, 'x[3] <= 0.124\\ngini = 0.198\\nsamples = 9\\nvalue = [8, 1]'),\n",
              " Text(0.035473425651041154, 0.4342105263157895, 'x[3] <= 0.117\\ngini = 0.375\\nsamples = 4\\nvalue = [3, 1]'),\n",
              " Text(0.03513877069206907, 0.40789473684210525, 'gini = 0.0\\nsamples = 3\\nvalue = [3, 0]'),\n",
              " Text(0.03580808061001324, 0.40789473684210525, 'gini = 0.0\\nsamples = 1\\nvalue = [0, 1]'),\n",
              " Text(0.036142735568985326, 0.4342105263157895, 'gini = 0.0\\nsamples = 5\\nvalue = [5, 0]'),\n",
              " Text(0.03647739052795741, 0.4605263157894737, 'gini = 0.0\\nsamples = 1\\nvalue = [0, 1]'),\n",
              " Text(0.0368120454869295, 0.4868421052631579, 'gini = 0.0\\nsamples = 14\\nvalue = [14, 0]'),\n",
              " Text(0.03815066532281785, 0.5131578947368421, 'x[4] <= 0.518\\ngini = 0.463\\nsamples = 11\\nvalue = [7, 4]'),\n",
              " Text(0.03781601036384576, 0.4868421052631579, 'x[5] <= 0.241\\ngini = 0.346\\nsamples = 9\\nvalue = [7, 2]'),\n",
              " Text(0.03714670044590159, 0.4605263157894737, 'x[4] <= 0.473\\ngini = 0.5\\nsamples = 2\\nvalue = [1, 1]'),\n",
              " Text(0.0368120454869295, 0.4342105263157895, 'gini = 0.0\\nsamples = 1\\nvalue = [1, 0]'),\n",
              " Text(0.03748135540487368, 0.4342105263157895, 'gini = 0.0\\nsamples = 1\\nvalue = [0, 1]'),\n",
              " Text(0.038485320281789935, 0.4605263157894737, 'x[3] <= 0.163\\ngini = 0.245\\nsamples = 7\\nvalue = [6, 1]'),\n",
              " Text(0.03815066532281785, 0.4342105263157895, 'x[4] <= 0.482\\ngini = 0.5\\nsamples = 2\\nvalue = [1, 1]'),\n",
              " Text(0.03781601036384576, 0.40789473684210525, 'gini = 0.0\\nsamples = 1\\nvalue = [0, 1]'),\n",
              " Text(0.038485320281789935, 0.40789473684210525, 'gini = 0.0\\nsamples = 1\\nvalue = [1, 0]'),\n",
              " Text(0.03881997524076202, 0.4342105263157895, 'gini = 0.0\\nsamples = 5\\nvalue = [5, 0]'),\n",
              " Text(0.038485320281789935, 0.4868421052631579, 'gini = 0.0\\nsamples = 2\\nvalue = [0, 2]'),\n",
              " Text(0.03622639930872835, 0.5657894736842105, 'gini = 0.0\\nsamples = 1\\nvalue = [0, 1]'),\n",
              " Text(0.04032592255613641, 0.5921052631578947, 'x[3] <= 0.192\\ngini = 0.057\\nsamples = 446\\nvalue = [433, 13]'),\n",
              " Text(0.03999126759716432, 0.5657894736842105, 'gini = 0.0\\nsamples = 120\\nvalue = [120, 0]'),\n",
              " Text(0.040660577515108494, 0.5657894736842105, 'x[3] <= 0.192\\ngini = 0.077\\nsamples = 326\\nvalue = [313, 13]'),\n",
              " Text(0.03982394011767828, 0.5394736842105263, 'x[5] <= 0.284\\ngini = 0.444\\nsamples = 3\\nvalue = [2, 1]'),\n",
              " Text(0.03948928515870619, 0.5131578947368421, 'gini = 0.0\\nsamples = 1\\nvalue = [0, 1]'),\n",
              " Text(0.040158595076650365, 0.5131578947368421, 'gini = 0.0\\nsamples = 2\\nvalue = [2, 0]'),\n",
              " Text(0.04149721491253871, 0.5394736842105263, 'x[4] <= 0.464\\ngini = 0.072\\nsamples = 323\\nvalue = [311, 12]'),\n",
              " Text(0.04082790499459454, 0.5131578947368421, 'x[3] <= 0.202\\ngini = 0.033\\nsamples = 118\\nvalue = [116, 2]'),\n",
              " Text(0.04049325003562245, 0.4868421052631579, 'x[4] <= 0.409\\ngini = 0.188\\nsamples = 19\\nvalue = [17, 2]'),\n",
              " Text(0.03982394011767828, 0.4605263157894737, 'x[5] <= 0.218\\ngini = 0.5\\nsamples = 2\\nvalue = [1, 1]'),\n",
              " Text(0.03948928515870619, 0.4342105263157895, 'gini = 0.0\\nsamples = 1\\nvalue = [1, 0]'),\n",
              " Text(0.040158595076650365, 0.4342105263157895, 'gini = 0.0\\nsamples = 1\\nvalue = [0, 1]'),\n",
              " Text(0.04116255995356662, 0.4605263157894737, 'x[3] <= 0.201\\ngini = 0.111\\nsamples = 17\\nvalue = [16, 1]'),\n",
              " Text(0.04082790499459454, 0.4342105263157895, 'gini = 0.0\\nsamples = 15\\nvalue = [15, 0]'),\n",
              " Text(0.04149721491253871, 0.4342105263157895, 'gini = 0.5\\nsamples = 2\\nvalue = [1, 1]'),\n",
              " Text(0.04116255995356662, 0.4868421052631579, 'gini = 0.0\\nsamples = 99\\nvalue = [99, 0]'),\n",
              " Text(0.04216652483048288, 0.5131578947368421, 'x[3] <= 0.201\\ngini = 0.093\\nsamples = 205\\nvalue = [195, 10]'),\n",
              " Text(0.041831869871510795, 0.4868421052631579, 'gini = 0.0\\nsamples = 22\\nvalue = [22, 0]'),\n",
              " Text(0.04250117978945497, 0.4868421052631579, 'x[3] <= 0.201\\ngini = 0.103\\nsamples = 183\\nvalue = [173, 10]'),\n",
              " Text(0.04216652483048288, 0.4605263157894737, 'gini = 0.0\\nsamples = 1\\nvalue = [0, 1]'),\n",
              " Text(0.04283583474842706, 0.4605263157894737, 'x[3] <= 0.203\\ngini = 0.094\\nsamples = 182\\nvalue = [173, 9]'),\n",
              " Text(0.04250117978945497, 0.4342105263157895, 'x[5] <= 0.218\\ngini = 0.106\\nsamples = 161\\nvalue = [152, 9]'),\n",
              " Text(0.04049325003562245, 0.40789473684210525, 'x[4] <= 0.482\\ngini = 0.17\\nsamples = 32\\nvalue = [29, 3]'),\n",
              " Text(0.040158595076650365, 0.3815789473684211, 'gini = 0.0\\nsamples = 8\\nvalue = [8, 0]'),\n",
              " Text(0.04082790499459454, 0.3815789473684211, 'x[4] <= 0.518\\ngini = 0.219\\nsamples = 24\\nvalue = [21, 3]'),\n",
              " Text(0.040158595076650365, 0.35526315789473684, 'x[2] <= 0.125\\ngini = 0.346\\nsamples = 9\\nvalue = [7, 2]'),\n",
              " Text(0.03982394011767828, 0.32894736842105265, 'gini = 0.219\\nsamples = 8\\nvalue = [7, 1]'),\n",
              " Text(0.04049325003562245, 0.32894736842105265, 'gini = 0.0\\nsamples = 1\\nvalue = [0, 1]'),\n",
              " Text(0.04149721491253871, 0.35526315789473684, 'x[4] <= 0.555\\ngini = 0.124\\nsamples = 15\\nvalue = [14, 1]'),\n",
              " Text(0.04116255995356662, 0.32894736842105265, 'gini = 0.0\\nsamples = 4\\nvalue = [4, 0]'),\n",
              " Text(0.041831869871510795, 0.32894736842105265, 'x[2] <= 0.125\\ngini = 0.165\\nsamples = 11\\nvalue = [10, 1]'),\n",
              " Text(0.04149721491253871, 0.3026315789473684, 'x[3] <= 0.203\\ngini = 0.219\\nsamples = 8\\nvalue = [7, 1]'),\n",
              " Text(0.04116255995356662, 0.27631578947368424, 'gini = 0.0\\nsamples = 1\\nvalue = [1, 0]'),\n",
              " Text(0.041831869871510795, 0.27631578947368424, 'gini = 0.245\\nsamples = 7\\nvalue = [6, 1]'),\n",
              " Text(0.04216652483048288, 0.3026315789473684, 'gini = 0.0\\nsamples = 3\\nvalue = [3, 0]'),\n",
              " Text(0.04450910954328749, 0.40789473684210525, 'x[4] <= 0.482\\ngini = 0.089\\nsamples = 129\\nvalue = [123, 6]'),\n",
              " Text(0.04350514466637123, 0.3815789473684211, 'x[2] <= 0.125\\ngini = 0.159\\nsamples = 46\\nvalue = [42, 4]'),\n",
              " Text(0.04283583474842706, 0.35526315789473684, 'x[5] <= 0.25\\ngini = 0.191\\nsamples = 28\\nvalue = [25, 3]'),\n",
              " Text(0.04250117978945497, 0.32894736842105265, 'gini = 0.0\\nsamples = 4\\nvalue = [4, 0]'),\n",
              " Text(0.043170489707399146, 0.32894736842105265, 'x[3] <= 0.202\\ngini = 0.219\\nsamples = 24\\nvalue = [21, 3]'),\n",
              " Text(0.04283583474842706, 0.3026315789473684, 'gini = 0.0\\nsamples = 2\\nvalue = [2, 0]'),\n",
              " Text(0.04350514466637123, 0.3026315789473684, 'x[5] <= 0.284\\ngini = 0.236\\nsamples = 22\\nvalue = [19, 3]'),\n",
              " Text(0.043170489707399146, 0.27631578947368424, 'gini = 0.165\\nsamples = 11\\nvalue = [10, 1]'),\n",
              " Text(0.04383979962534332, 0.27631578947368424, 'x[5] <= 0.318\\ngini = 0.298\\nsamples = 11\\nvalue = [9, 2]'),\n",
              " Text(0.04350514466637123, 0.25, 'gini = 0.375\\nsamples = 4\\nvalue = [3, 1]'),\n",
              " Text(0.044174454584315404, 0.25, 'gini = 0.245\\nsamples = 7\\nvalue = [6, 1]'),\n",
              " Text(0.044174454584315404, 0.35526315789473684, 'x[5] <= 0.25\\ngini = 0.105\\nsamples = 18\\nvalue = [17, 1]'),\n",
              " Text(0.04383979962534332, 0.32894736842105265, 'gini = 0.245\\nsamples = 7\\nvalue = [6, 1]'),\n",
              " Text(0.04450910954328749, 0.32894736842105265, 'gini = 0.0\\nsamples = 11\\nvalue = [11, 0]'),\n",
              " Text(0.04551307442020375, 0.3815789473684211, 'x[4] <= 0.555\\ngini = 0.047\\nsamples = 83\\nvalue = [81, 2]'),\n",
              " Text(0.04517841946123166, 0.35526315789473684, 'gini = 0.0\\nsamples = 49\\nvalue = [49, 0]'),\n",
              " Text(0.04584772937917583, 0.35526315789473684, 'x[5] <= 0.318\\ngini = 0.111\\nsamples = 34\\nvalue = [32, 2]'),\n",
              " Text(0.04551307442020375, 0.32894736842105265, 'x[5] <= 0.25\\ngini = 0.165\\nsamples = 22\\nvalue = [20, 2]'),\n",
              " Text(0.04517841946123166, 0.3026315789473684, 'gini = 0.0\\nsamples = 9\\nvalue = [9, 0]'),\n",
              " Text(0.04584772937917583, 0.3026315789473684, 'x[2] <= 0.125\\ngini = 0.26\\nsamples = 13\\nvalue = [11, 2]'),\n",
              " Text(0.04517841946123166, 0.27631578947368424, 'x[5] <= 0.284\\ngini = 0.219\\nsamples = 8\\nvalue = [7, 1]'),\n",
              " Text(0.044843764502259575, 0.25, 'gini = 0.0\\nsamples = 4\\nvalue = [4, 0]'),\n",
              " Text(0.04551307442020375, 0.25, 'gini = 0.375\\nsamples = 4\\nvalue = [3, 1]'),\n",
              " Text(0.046517039297120005, 0.27631578947368424, 'x[5] <= 0.284\\ngini = 0.32\\nsamples = 5\\nvalue = [4, 1]'),\n",
              " Text(0.04618238433814792, 0.25, 'gini = 0.375\\nsamples = 4\\nvalue = [3, 1]'),\n",
              " Text(0.04685169425609209, 0.25, 'gini = 0.0\\nsamples = 1\\nvalue = [1, 0]'),\n",
              " Text(0.04618238433814792, 0.32894736842105265, 'gini = 0.0\\nsamples = 12\\nvalue = [12, 0]'),\n",
              " Text(0.043170489707399146, 0.4342105263157895, 'gini = 0.0\\nsamples = 21\\nvalue = [21, 0]'),\n",
              " Text(0.04450910954328749, 0.618421052631579, 'x[3] <= 0.208\\ngini = 0.183\\nsamples = 59\\nvalue = [53, 6]'),\n",
              " Text(0.044174454584315404, 0.5921052631578947, 'gini = 0.0\\nsamples = 1\\nvalue = [0, 1]'),\n",
              " Text(0.044843764502259575, 0.5921052631578947, 'x[3] <= 0.21\\ngini = 0.158\\nsamples = 58\\nvalue = [53, 5]'),\n",
              " Text(0.044174454584315404, 0.5657894736842105, 'x[4] <= 0.482\\ngini = 0.355\\nsamples = 13\\nvalue = [10, 3]'),\n",
              " Text(0.04383979962534332, 0.5394736842105263, 'x[2] <= 0.125\\ngini = 0.49\\nsamples = 7\\nvalue = [4, 3]'),\n",
              " Text(0.04350514466637123, 0.5131578947368421, 'x[3] <= 0.208\\ngini = 0.48\\nsamples = 5\\nvalue = [2, 3]'),\n",
              " Text(0.043170489707399146, 0.4868421052631579, 'gini = 0.0\\nsamples = 2\\nvalue = [2, 0]'),\n",
              " Text(0.04383979962534332, 0.4868421052631579, 'gini = 0.0\\nsamples = 3\\nvalue = [0, 3]'),\n",
              " Text(0.044174454584315404, 0.5131578947368421, 'gini = 0.0\\nsamples = 2\\nvalue = [2, 0]'),\n",
              " Text(0.04450910954328749, 0.5394736842105263, 'gini = 0.0\\nsamples = 6\\nvalue = [6, 0]'),\n",
              " Text(0.04551307442020375, 0.5657894736842105, 'x[5] <= 0.25\\ngini = 0.085\\nsamples = 45\\nvalue = [43, 2]'),\n",
              " Text(0.04517841946123166, 0.5394736842105263, 'x[3] <= 0.214\\ngini = 0.188\\nsamples = 19\\nvalue = [17, 2]'),\n",
              " Text(0.044843764502259575, 0.5131578947368421, 'gini = 0.0\\nsamples = 10\\nvalue = [10, 0]'),\n",
              " Text(0.04551307442020375, 0.5131578947368421, 'x[3] <= 0.214\\ngini = 0.346\\nsamples = 9\\nvalue = [7, 2]'),\n",
              " Text(0.04517841946123166, 0.4868421052631579, 'gini = 0.0\\nsamples = 1\\nvalue = [0, 1]'),\n",
              " Text(0.04584772937917583, 0.4868421052631579, 'x[5] <= 0.218\\ngini = 0.219\\nsamples = 8\\nvalue = [7, 1]'),\n",
              " Text(0.04551307442020375, 0.4605263157894737, 'gini = 0.0\\nsamples = 5\\nvalue = [5, 0]'),\n",
              " Text(0.04618238433814792, 0.4605263157894737, 'x[3] <= 0.215\\ngini = 0.444\\nsamples = 3\\nvalue = [2, 1]'),\n",
              " Text(0.04584772937917583, 0.4342105263157895, 'gini = 0.0\\nsamples = 1\\nvalue = [1, 0]'),\n",
              " Text(0.046517039297120005, 0.4342105263157895, 'x[4] <= 0.509\\ngini = 0.5\\nsamples = 2\\nvalue = [1, 1]'),\n",
              " Text(0.04618238433814792, 0.40789473684210525, 'gini = 0.0\\nsamples = 1\\nvalue = [0, 1]'),\n",
              " Text(0.04685169425609209, 0.40789473684210525, 'gini = 0.0\\nsamples = 1\\nvalue = [1, 0]'),\n",
              " Text(0.04584772937917583, 0.5394736842105263, 'gini = 0.0\\nsamples = 26\\nvalue = [26, 0]'),\n",
              " Text(0.052206173599645474, 0.6447368421052632, 'x[2] <= 0.625\\ngini = 0.045\\nsamples = 735\\nvalue = [718, 17]'),\n",
              " Text(0.048859624009924614, 0.618421052631579, 'x[3] <= 0.192\\ngini = 0.024\\nsamples = 419\\nvalue = [414, 5]'),\n",
              " Text(0.04752100417403626, 0.5921052631578947, 'x[3] <= 0.191\\ngini = 0.055\\nsamples = 106\\nvalue = [103, 3]'),\n",
              " Text(0.04685169425609209, 0.5657894736842105, 'x[5] <= 0.284\\ngini = 0.038\\nsamples = 104\\nvalue = [102, 2]'),\n",
              " Text(0.046517039297120005, 0.5394736842105263, 'gini = 0.0\\nsamples = 67\\nvalue = [67, 0]'),\n",
              " Text(0.04718634921506418, 0.5394736842105263, 'x[3] <= 0.169\\ngini = 0.102\\nsamples = 37\\nvalue = [35, 2]'),\n",
              " Text(0.04685169425609209, 0.5131578947368421, 'gini = 0.0\\nsamples = 18\\nvalue = [18, 0]'),\n",
              " Text(0.04752100417403626, 0.5131578947368421, 'x[3] <= 0.171\\ngini = 0.188\\nsamples = 19\\nvalue = [17, 2]'),\n",
              " Text(0.04718634921506418, 0.4868421052631579, 'gini = 0.0\\nsamples = 1\\nvalue = [0, 1]'),\n",
              " Text(0.04785565913300835, 0.4868421052631579, 'x[3] <= 0.183\\ngini = 0.105\\nsamples = 18\\nvalue = [17, 1]'),\n",
              " Text(0.04752100417403626, 0.4605263157894737, 'gini = 0.0\\nsamples = 11\\nvalue = [11, 0]'),\n",
              " Text(0.048190314091980435, 0.4605263157894737, 'x[3] <= 0.183\\ngini = 0.245\\nsamples = 7\\nvalue = [6, 1]'),\n",
              " Text(0.04785565913300835, 0.4342105263157895, 'gini = 0.0\\nsamples = 1\\nvalue = [0, 1]'),\n",
              " Text(0.04852496905095253, 0.4342105263157895, 'gini = 0.0\\nsamples = 6\\nvalue = [6, 0]'),\n",
              " Text(0.048190314091980435, 0.5657894736842105, 'x[5] <= 0.252\\ngini = 0.5\\nsamples = 2\\nvalue = [1, 1]'),\n",
              " Text(0.04785565913300835, 0.5394736842105263, 'gini = 0.0\\nsamples = 1\\nvalue = [0, 1]'),\n",
              " Text(0.04852496905095253, 0.5394736842105263, 'gini = 0.0\\nsamples = 1\\nvalue = [1, 0]'),\n",
              " Text(0.05019824384581296, 0.5921052631578947, 'x[4] <= 0.409\\ngini = 0.013\\nsamples = 313\\nvalue = [311, 2]'),\n",
              " Text(0.049528933927868786, 0.5657894736842105, 'x[5] <= 0.25\\ngini = 0.044\\nsamples = 44\\nvalue = [43, 1]'),\n",
              " Text(0.0491942789688967, 0.5394736842105263, 'x[5] <= 0.218\\ngini = 0.1\\nsamples = 19\\nvalue = [18, 1]'),\n",
              " Text(0.048859624009924614, 0.5131578947368421, 'gini = 0.0\\nsamples = 9\\nvalue = [9, 0]'),\n",
              " Text(0.049528933927868786, 0.5131578947368421, 'x[3] <= 0.202\\ngini = 0.18\\nsamples = 10\\nvalue = [9, 1]'),\n",
              " Text(0.0491942789688967, 0.4868421052631579, 'gini = 0.0\\nsamples = 2\\nvalue = [2, 0]'),\n",
              " Text(0.04986358888684087, 0.4868421052631579, 'gini = 0.219\\nsamples = 8\\nvalue = [7, 1]'),\n",
              " Text(0.04986358888684087, 0.5394736842105263, 'gini = 0.0\\nsamples = 25\\nvalue = [25, 0]'),\n",
              " Text(0.05086755376375713, 0.5657894736842105, 'x[5] <= 0.318\\ngini = 0.007\\nsamples = 269\\nvalue = [268, 1]'),\n",
              " Text(0.050532898804785044, 0.5394736842105263, 'gini = 0.0\\nsamples = 223\\nvalue = [223, 0]'),\n",
              " Text(0.051202208722729216, 0.5394736842105263, 'x[4] <= 0.482\\ngini = 0.043\\nsamples = 46\\nvalue = [45, 1]'),\n",
              " Text(0.05086755376375713, 0.5131578947368421, 'gini = 0.0\\nsamples = 26\\nvalue = [26, 0]'),\n",
              " Text(0.0515368636817013, 0.5131578947368421, 'x[4] <= 0.518\\ngini = 0.095\\nsamples = 20\\nvalue = [19, 1]'),\n",
              " Text(0.051202208722729216, 0.4868421052631579, 'x[3] <= 0.21\\ngini = 0.278\\nsamples = 6\\nvalue = [5, 1]'),\n",
              " Text(0.05086755376375713, 0.4605263157894737, 'x[3] <= 0.198\\ngini = 0.375\\nsamples = 4\\nvalue = [3, 1]'),\n",
              " Text(0.050532898804785044, 0.4342105263157895, 'gini = 0.0\\nsamples = 1\\nvalue = [1, 0]'),\n",
              " Text(0.051202208722729216, 0.4342105263157895, 'gini = 0.444\\nsamples = 3\\nvalue = [2, 1]'),\n",
              " Text(0.0515368636817013, 0.4605263157894737, 'gini = 0.0\\nsamples = 2\\nvalue = [2, 0]'),\n",
              " Text(0.05187151864067339, 0.4868421052631579, 'gini = 0.0\\nsamples = 14\\nvalue = [14, 0]'),\n",
              " Text(0.05555272318936634, 0.618421052631579, 'x[4] <= 0.436\\ngini = 0.073\\nsamples = 316\\nvalue = [304, 12]'),\n",
              " Text(0.054214103353477996, 0.5921052631578947, 'x[3] <= 0.148\\ngini = 0.12\\nsamples = 94\\nvalue = [88, 6]'),\n",
              " Text(0.05354479343553382, 0.5657894736842105, 'x[3] <= 0.144\\ngini = 0.278\\nsamples = 12\\nvalue = [10, 2]'),\n",
              " Text(0.05321013847656173, 0.5394736842105263, 'x[5] <= 0.218\\ngini = 0.165\\nsamples = 11\\nvalue = [10, 1]'),\n",
              " Text(0.052875483517589646, 0.5131578947368421, 'x[3] <= 0.127\\ngini = 0.375\\nsamples = 4\\nvalue = [3, 1]'),\n",
              " Text(0.05254082855861756, 0.4868421052631579, 'gini = 0.0\\nsamples = 1\\nvalue = [0, 1]'),\n",
              " Text(0.05321013847656173, 0.4868421052631579, 'gini = 0.0\\nsamples = 3\\nvalue = [3, 0]'),\n",
              " Text(0.05354479343553382, 0.5131578947368421, 'gini = 0.0\\nsamples = 7\\nvalue = [7, 0]'),\n",
              " Text(0.053879448394505904, 0.5394736842105263, 'gini = 0.0\\nsamples = 1\\nvalue = [0, 1]'),\n",
              " Text(0.05488341327142217, 0.5657894736842105, 'x[3] <= 0.203\\ngini = 0.093\\nsamples = 82\\nvalue = [78, 4]'),\n",
              " Text(0.05454875831245008, 0.5394736842105263, 'gini = 0.0\\nsamples = 31\\nvalue = [31, 0]'),\n",
              " Text(0.055218068230394254, 0.5394736842105263, 'x[5] <= 0.25\\ngini = 0.145\\nsamples = 51\\nvalue = [47, 4]'),\n",
              " Text(0.05488341327142217, 0.5131578947368421, 'gini = 0.0\\nsamples = 20\\nvalue = [20, 0]'),\n",
              " Text(0.05555272318936634, 0.5131578947368421, 'x[5] <= 0.318\\ngini = 0.225\\nsamples = 31\\nvalue = [27, 4]'),\n",
              " Text(0.055218068230394254, 0.4868421052631579, 'x[3] <= 0.213\\ngini = 0.269\\nsamples = 25\\nvalue = [21, 4]'),\n",
              " Text(0.05488341327142217, 0.4605263157894737, 'x[3] <= 0.21\\ngini = 0.308\\nsamples = 21\\nvalue = [17, 4]'),\n",
              " Text(0.05454875831245008, 0.4342105263157895, 'x[3] <= 0.203\\ngini = 0.255\\nsamples = 20\\nvalue = [17, 3]'),\n",
              " Text(0.054214103353477996, 0.40789473684210525, 'x[5] <= 0.284\\ngini = 0.305\\nsamples = 16\\nvalue = [13, 3]'),\n",
              " Text(0.05354479343553382, 0.3815789473684211, 'x[4] <= 0.409\\ngini = 0.375\\nsamples = 8\\nvalue = [6, 2]'),\n",
              " Text(0.05321013847656173, 0.35526315789473684, 'x[2] <= 0.875\\ngini = 0.278\\nsamples = 6\\nvalue = [5, 1]'),\n",
              " Text(0.052875483517589646, 0.32894736842105265, 'gini = 0.0\\nsamples = 3\\nvalue = [3, 0]'),\n",
              " Text(0.05354479343553382, 0.32894736842105265, 'gini = 0.444\\nsamples = 3\\nvalue = [2, 1]'),\n",
              " Text(0.053879448394505904, 0.35526315789473684, 'gini = 0.5\\nsamples = 2\\nvalue = [1, 1]'),\n",
              " Text(0.05488341327142217, 0.3815789473684211, 'x[4] <= 0.409\\ngini = 0.219\\nsamples = 8\\nvalue = [7, 1]'),\n",
              " Text(0.05454875831245008, 0.35526315789473684, 'gini = 0.375\\nsamples = 4\\nvalue = [3, 1]'),\n",
              " Text(0.055218068230394254, 0.35526315789473684, 'gini = 0.0\\nsamples = 4\\nvalue = [4, 0]'),\n",
              " Text(0.05488341327142217, 0.40789473684210525, 'gini = 0.0\\nsamples = 4\\nvalue = [4, 0]'),\n",
              " Text(0.055218068230394254, 0.4342105263157895, 'gini = 0.0\\nsamples = 1\\nvalue = [0, 1]'),\n",
              " Text(0.05555272318936634, 0.4605263157894737, 'gini = 0.0\\nsamples = 4\\nvalue = [4, 0]'),\n",
              " Text(0.055887378148338426, 0.4868421052631579, 'gini = 0.0\\nsamples = 6\\nvalue = [6, 0]'),\n",
              " Text(0.056891343025254684, 0.5921052631578947, 'x[3] <= 0.109\\ngini = 0.053\\nsamples = 222\\nvalue = [216, 6]'),\n",
              " Text(0.05622203310731051, 0.5657894736842105, 'x[3] <= 0.108\\ngini = 0.219\\nsamples = 8\\nvalue = [7, 1]'),\n",
              " Text(0.055887378148338426, 0.5394736842105263, 'gini = 0.0\\nsamples = 7\\nvalue = [7, 0]'),\n",
              " Text(0.0565566880662826, 0.5394736842105263, 'gini = 0.0\\nsamples = 1\\nvalue = [0, 1]'),\n",
              " Text(0.057560652943198856, 0.5657894736842105, 'x[3] <= 0.175\\ngini = 0.046\\nsamples = 214\\nvalue = [209, 5]'),\n",
              " Text(0.05722599798422677, 0.5394736842105263, 'gini = 0.0\\nsamples = 57\\nvalue = [57, 0]'),\n",
              " Text(0.05789530790217094, 0.5394736842105263, 'x[3] <= 0.176\\ngini = 0.062\\nsamples = 157\\nvalue = [152, 5]'),\n",
              " Text(0.057560652943198856, 0.5131578947368421, 'gini = 0.0\\nsamples = 1\\nvalue = [0, 1]'),\n",
              " Text(0.05822996286114303, 0.5131578947368421, 'x[4] <= 0.555\\ngini = 0.05\\nsamples = 156\\nvalue = [152, 4]'),\n",
              " Text(0.056891343025254684, 0.4868421052631579, 'x[3] <= 0.194\\ngini = 0.031\\nsamples = 128\\nvalue = [126, 2]'),\n",
              " Text(0.05622203310731051, 0.4605263157894737, 'x[3] <= 0.194\\ngini = 0.095\\nsamples = 20\\nvalue = [19, 1]'),\n",
              " Text(0.055887378148338426, 0.4342105263157895, 'gini = 0.0\\nsamples = 19\\nvalue = [19, 0]'),\n",
              " Text(0.0565566880662826, 0.4342105263157895, 'gini = 0.0\\nsamples = 1\\nvalue = [0, 1]'),\n",
              " Text(0.057560652943198856, 0.4605263157894737, 'x[4] <= 0.464\\ngini = 0.018\\nsamples = 108\\nvalue = [107, 1]'),\n",
              " Text(0.05722599798422677, 0.4342105263157895, 'x[5] <= 0.25\\ngini = 0.08\\nsamples = 24\\nvalue = [23, 1]'),\n",
              " Text(0.056891343025254684, 0.40789473684210525, 'gini = 0.0\\nsamples = 10\\nvalue = [10, 0]'),\n",
              " Text(0.057560652943198856, 0.40789473684210525, 'x[5] <= 0.284\\ngini = 0.133\\nsamples = 14\\nvalue = [13, 1]'),\n",
              " Text(0.05722599798422677, 0.3815789473684211, 'x[2] <= 0.875\\ngini = 0.375\\nsamples = 4\\nvalue = [3, 1]'),\n",
              " Text(0.056891343025254684, 0.35526315789473684, 'gini = 0.444\\nsamples = 3\\nvalue = [2, 1]'),\n",
              " Text(0.057560652943198856, 0.35526315789473684, 'gini = 0.0\\nsamples = 1\\nvalue = [1, 0]'),\n",
              " Text(0.05789530790217094, 0.3815789473684211, 'gini = 0.0\\nsamples = 10\\nvalue = [10, 0]'),\n",
              " Text(0.05789530790217094, 0.4342105263157895, 'gini = 0.0\\nsamples = 84\\nvalue = [84, 0]'),\n",
              " Text(0.05956858269703137, 0.4868421052631579, 'x[5] <= 0.218\\ngini = 0.133\\nsamples = 28\\nvalue = [26, 2]'),\n",
              " Text(0.0588992727790872, 0.4605263157894737, 'x[3] <= 0.207\\ngini = 0.278\\nsamples = 6\\nvalue = [5, 1]'),\n",
              " Text(0.058564617820115114, 0.4342105263157895, 'x[2] <= 0.875\\ngini = 0.32\\nsamples = 5\\nvalue = [4, 1]'),\n",
              " Text(0.05822996286114303, 0.40789473684210525, 'gini = 0.375\\nsamples = 4\\nvalue = [3, 1]'),\n",
              " Text(0.0588992727790872, 0.40789473684210525, 'gini = 0.0\\nsamples = 1\\nvalue = [1, 0]'),\n",
              " Text(0.059233927738059286, 0.4342105263157895, 'gini = 0.0\\nsamples = 1\\nvalue = [1, 0]'),\n",
              " Text(0.06023789261497555, 0.4605263157894737, 'x[5] <= 0.284\\ngini = 0.087\\nsamples = 22\\nvalue = [21, 1]'),\n",
              " Text(0.059903237656003465, 0.4342105263157895, 'gini = 0.0\\nsamples = 14\\nvalue = [14, 0]'),\n",
              " Text(0.06057254757394764, 0.4342105263157895, 'x[5] <= 0.318\\ngini = 0.219\\nsamples = 8\\nvalue = [7, 1]'),\n",
              " Text(0.06023789261497555, 0.40789473684210525, 'x[2] <= 0.875\\ngini = 0.375\\nsamples = 4\\nvalue = [3, 1]'),\n",
              " Text(0.059903237656003465, 0.3815789473684211, 'gini = 0.5\\nsamples = 2\\nvalue = [1, 1]'),\n",
              " Text(0.06057254757394764, 0.3815789473684211, 'gini = 0.0\\nsamples = 2\\nvalue = [2, 0]'),\n",
              " Text(0.06090720253291972, 0.40789473684210525, 'gini = 0.0\\nsamples = 4\\nvalue = [4, 0]'),\n",
              " Text(0.06499103882912596, 0.6710526315789473, 'x[4] <= 0.482\\ngini = 0.034\\nsamples = 1109\\nvalue = [1090, 19]'),\n",
              " Text(0.062078494889322024, 0.6447368421052632, 'x[3] <= 0.196\\ngini = 0.013\\nsamples = 625\\nvalue = [621, 4]'),\n",
              " Text(0.06174383993034994, 0.618421052631579, 'gini = 0.0\\nsamples = 252\\nvalue = [252, 0]'),\n",
              " Text(0.06241314984829411, 0.618421052631579, 'x[3] <= 0.196\\ngini = 0.021\\nsamples = 373\\nvalue = [369, 4]'),\n",
              " Text(0.062078494889322024, 0.5921052631578947, 'gini = 0.0\\nsamples = 1\\nvalue = [0, 1]'),\n",
              " Text(0.0627478048072662, 0.5921052631578947, 'x[2] <= 0.875\\ngini = 0.016\\nsamples = 372\\nvalue = [369, 3]'),\n",
              " Text(0.06191116740983598, 0.5657894736842105, 'x[5] <= 0.361\\ngini = 0.011\\nsamples = 353\\nvalue = [351, 2]'),\n",
              " Text(0.061576512450863895, 0.5394736842105263, 'gini = 0.0\\nsamples = 178\\nvalue = [178, 0]'),\n",
              " Text(0.06224582236880807, 0.5394736842105263, 'x[2] <= 0.625\\ngini = 0.023\\nsamples = 175\\nvalue = [173, 2]'),\n",
              " Text(0.061576512450863895, 0.5131578947368421, 'x[4] <= 0.409\\ngini = 0.013\\nsamples = 152\\nvalue = [151, 1]'),\n",
              " Text(0.06124185749189181, 0.4868421052631579, 'x[2] <= 0.375\\ngini = 0.046\\nsamples = 42\\nvalue = [41, 1]'),\n",
              " Text(0.06090720253291972, 0.4605263157894737, 'gini = 0.0\\nsamples = 24\\nvalue = [24, 0]'),\n",
              " Text(0.061576512450863895, 0.4605263157894737, 'x[5] <= 0.455\\ngini = 0.105\\nsamples = 18\\nvalue = [17, 1]'),\n",
              " Text(0.06124185749189181, 0.4342105263157895, 'gini = 0.0\\nsamples = 9\\nvalue = [9, 0]'),\n",
              " Text(0.06191116740983598, 0.4342105263157895, 'x[3] <= 0.201\\ngini = 0.198\\nsamples = 9\\nvalue = [8, 1]'),\n",
              " Text(0.061576512450863895, 0.40789473684210525, 'gini = 0.0\\nsamples = 1\\nvalue = [1, 0]'),\n",
              " Text(0.06224582236880807, 0.40789473684210525, 'x[3] <= 0.203\\ngini = 0.219\\nsamples = 8\\nvalue = [7, 1]'),\n",
              " Text(0.06191116740983598, 0.3815789473684211, 'gini = 0.245\\nsamples = 7\\nvalue = [6, 1]'),\n",
              " Text(0.06258047732778015, 0.3815789473684211, 'gini = 0.0\\nsamples = 1\\nvalue = [1, 0]'),\n",
              " Text(0.06191116740983598, 0.4868421052631579, 'gini = 0.0\\nsamples = 110\\nvalue = [110, 0]'),\n",
              " Text(0.06291513228675225, 0.5131578947368421, 'x[4] <= 0.464\\ngini = 0.083\\nsamples = 23\\nvalue = [22, 1]'),\n",
              " Text(0.06258047732778015, 0.4868421052631579, 'gini = 0.0\\nsamples = 14\\nvalue = [14, 0]'),\n",
              " Text(0.06324978724572433, 0.4868421052631579, 'x[5] <= 0.455\\ngini = 0.198\\nsamples = 9\\nvalue = [8, 1]'),\n",
              " Text(0.06291513228675225, 0.4605263157894737, 'x[3] <= 0.206\\ngini = 0.32\\nsamples = 5\\nvalue = [4, 1]'),\n",
              " Text(0.06258047732778015, 0.4342105263157895, 'gini = 0.375\\nsamples = 4\\nvalue = [3, 1]'),\n",
              " Text(0.06324978724572433, 0.4342105263157895, 'gini = 0.0\\nsamples = 1\\nvalue = [1, 0]'),\n",
              " Text(0.06358444220469642, 0.4605263157894737, 'gini = 0.0\\nsamples = 4\\nvalue = [4, 0]'),\n",
              " Text(0.06358444220469642, 0.5657894736842105, 'x[3] <= 0.206\\ngini = 0.1\\nsamples = 19\\nvalue = [18, 1]'),\n",
              " Text(0.06324978724572433, 0.5394736842105263, 'gini = 0.0\\nsamples = 17\\nvalue = [17, 0]'),\n",
              " Text(0.0639190971636685, 0.5394736842105263, 'x[4] <= 0.436\\ngini = 0.5\\nsamples = 2\\nvalue = [1, 1]'),\n",
              " Text(0.06358444220469642, 0.5131578947368421, 'gini = 0.0\\nsamples = 1\\nvalue = [0, 1]'),\n",
              " Text(0.06425375212264059, 0.5131578947368421, 'gini = 0.0\\nsamples = 1\\nvalue = [1, 0]'),\n",
              " Text(0.0679035827689299, 0.6447368421052632, 'x[5] <= 0.357\\ngini = 0.06\\nsamples = 484\\nvalue = [469, 15]'),\n",
              " Text(0.06756892780995781, 0.618421052631579, 'gini = 0.0\\nsamples = 119\\nvalue = [119, 0]'),\n",
              " Text(0.06823823772790198, 0.618421052631579, 'x[3] <= 0.197\\ngini = 0.079\\nsamples = 365\\nvalue = [350, 15]'),\n",
              " Text(0.06559237195852893, 0.5921052631578947, 'x[3] <= 0.131\\ngini = 0.029\\nsamples = 137\\nvalue = [135, 2]'),\n",
              " Text(0.06492306204058476, 0.5657894736842105, 'x[3] <= 0.129\\ngini = 0.153\\nsamples = 12\\nvalue = [11, 1]'),\n",
              " Text(0.06458840708161268, 0.5394736842105263, 'gini = 0.0\\nsamples = 11\\nvalue = [11, 0]'),\n",
              " Text(0.06525771699955685, 0.5394736842105263, 'gini = 0.0\\nsamples = 1\\nvalue = [0, 1]'),\n",
              " Text(0.0662616818764731, 0.5657894736842105, 'x[2] <= 0.625\\ngini = 0.016\\nsamples = 125\\nvalue = [124, 1]'),\n",
              " Text(0.06592702691750102, 0.5394736842105263, 'gini = 0.0\\nsamples = 87\\nvalue = [87, 0]'),\n",
              " Text(0.06659633683544519, 0.5394736842105263, 'x[5] <= 0.361\\ngini = 0.051\\nsamples = 38\\nvalue = [37, 1]'),\n",
              " Text(0.0662616818764731, 0.5131578947368421, 'x[4] <= 0.518\\ngini = 0.153\\nsamples = 12\\nvalue = [11, 1]'),\n",
              " Text(0.06592702691750102, 0.4868421052631579, 'x[3] <= 0.18\\ngini = 0.32\\nsamples = 5\\nvalue = [4, 1]'),\n",
              " Text(0.06559237195852893, 0.4605263157894737, 'x[2] <= 0.875\\ngini = 0.5\\nsamples = 2\\nvalue = [1, 1]'),\n",
              " Text(0.06525771699955685, 0.4342105263157895, 'gini = 0.0\\nsamples = 1\\nvalue = [0, 1]'),\n",
              " Text(0.06592702691750102, 0.4342105263157895, 'gini = 0.0\\nsamples = 1\\nvalue = [1, 0]'),\n",
              " Text(0.0662616818764731, 0.4605263157894737, 'gini = 0.0\\nsamples = 3\\nvalue = [3, 0]'),\n",
              " Text(0.06659633683544519, 0.4868421052631579, 'gini = 0.0\\nsamples = 7\\nvalue = [7, 0]'),\n",
              " Text(0.06693099179441728, 0.5131578947368421, 'gini = 0.0\\nsamples = 26\\nvalue = [26, 0]'),\n",
              " Text(0.07088410349727504, 0.5921052631578947, 'x[3] <= 0.197\\ngini = 0.108\\nsamples = 228\\nvalue = [215, 13]'),\n",
              " Text(0.07054944853830296, 0.5657894736842105, 'gini = 0.0\\nsamples = 1\\nvalue = [0, 1]'),\n",
              " Text(0.07121875845624713, 0.5657894736842105, 'x[3] <= 0.198\\ngini = 0.1\\nsamples = 227\\nvalue = [215, 12]'),\n",
              " Text(0.06952456772645095, 0.5394736842105263, 'x[2] <= 0.625\\ngini = 0.375\\nsamples = 4\\nvalue = [3, 1]'),\n",
              " Text(0.06918991276747886, 0.5131578947368421, 'gini = 0.0\\nsamples = 3\\nvalue = [3, 0]'),\n",
              " Text(0.06985922268542304, 0.5131578947368421, 'gini = 0.0\\nsamples = 1\\nvalue = [0, 1]'),\n",
              " Text(0.07291294918604332, 0.5394736842105263, 'x[2] <= 0.375\\ngini = 0.094\\nsamples = 223\\nvalue = [212, 11]'),\n",
              " Text(0.07052853260336721, 0.5131578947368421, 'x[5] <= 0.361\\ngini = 0.15\\nsamples = 98\\nvalue = [90, 8]'),\n",
              " Text(0.06843693910979166, 0.4868421052631579, 'x[2] <= 0.125\\ngini = 0.271\\nsamples = 31\\nvalue = [26, 5]'),\n",
              " Text(0.06726564675338936, 0.4605263157894737, 'x[4] <= 0.518\\ngini = 0.165\\nsamples = 22\\nvalue = [20, 2]'),\n",
              " Text(0.06659633683544519, 0.4342105263157895, 'x[3] <= 0.205\\ngini = 0.32\\nsamples = 5\\nvalue = [4, 1]'),\n",
              " Text(0.0662616818764731, 0.40789473684210525, 'gini = 0.375\\nsamples = 4\\nvalue = [3, 1]'),\n",
              " Text(0.06693099179441728, 0.40789473684210525, 'gini = 0.0\\nsamples = 1\\nvalue = [1, 0]'),\n",
              " Text(0.06793495667133354, 0.4342105263157895, 'x[4] <= 0.555\\ngini = 0.111\\nsamples = 17\\nvalue = [16, 1]'),\n",
              " Text(0.06760030171236145, 0.40789473684210525, 'gini = 0.0\\nsamples = 8\\nvalue = [8, 0]'),\n",
              " Text(0.06826961163030562, 0.40789473684210525, 'x[3] <= 0.206\\ngini = 0.198\\nsamples = 9\\nvalue = [8, 1]'),\n",
              " Text(0.06793495667133354, 0.3815789473684211, 'x[3] <= 0.201\\ngini = 0.278\\nsamples = 6\\nvalue = [5, 1]'),\n",
              " Text(0.06760030171236145, 0.35526315789473684, 'gini = 0.0\\nsamples = 1\\nvalue = [1, 0]'),\n",
              " Text(0.06826961163030562, 0.35526315789473684, 'gini = 0.32\\nsamples = 5\\nvalue = [4, 1]'),\n",
              " Text(0.06860426658927771, 0.3815789473684211, 'gini = 0.0\\nsamples = 3\\nvalue = [3, 0]'),\n",
              " Text(0.06960823146619396, 0.4605263157894737, 'x[4] <= 0.518\\ngini = 0.444\\nsamples = 9\\nvalue = [6, 3]'),\n",
              " Text(0.06927357650722188, 0.4342105263157895, 'gini = 0.0\\nsamples = 2\\nvalue = [2, 0]'),\n",
              " Text(0.06994288642516605, 0.4342105263157895, 'x[3] <= 0.211\\ngini = 0.49\\nsamples = 7\\nvalue = [4, 3]'),\n",
              " Text(0.06960823146619396, 0.40789473684210525, 'x[3] <= 0.205\\ngini = 0.444\\nsamples = 6\\nvalue = [4, 2]'),\n",
              " Text(0.06927357650722188, 0.3815789473684211, 'x[3] <= 0.203\\ngini = 0.48\\nsamples = 5\\nvalue = [3, 2]'),\n",
              " Text(0.06893892154824979, 0.35526315789473684, 'x[4] <= 0.555\\ngini = 0.375\\nsamples = 4\\nvalue = [3, 1]'),\n",
              " Text(0.06860426658927771, 0.32894736842105265, 'gini = 0.0\\nsamples = 2\\nvalue = [2, 0]'),\n",
              " Text(0.06927357650722188, 0.32894736842105265, 'gini = 0.5\\nsamples = 2\\nvalue = [1, 1]'),\n",
              " Text(0.06960823146619396, 0.35526315789473684, 'gini = 0.0\\nsamples = 1\\nvalue = [0, 1]'),\n",
              " Text(0.06994288642516605, 0.3815789473684211, 'gini = 0.0\\nsamples = 1\\nvalue = [1, 0]'),\n",
              " Text(0.07027754138413814, 0.40789473684210525, 'gini = 0.0\\nsamples = 1\\nvalue = [0, 1]'),\n",
              " Text(0.07262012609694274, 0.4868421052631579, 'x[3] <= 0.212\\ngini = 0.086\\nsamples = 67\\nvalue = [64, 3]'),\n",
              " Text(0.07195081617899857, 0.4605263157894737, 'x[5] <= 0.455\\ngini = 0.063\\nsamples = 61\\nvalue = [59, 2]'),\n",
              " Text(0.07161616122002648, 0.4342105263157895, 'x[2] <= 0.125\\ngini = 0.108\\nsamples = 35\\nvalue = [33, 2]'),\n",
              " Text(0.0712815062610544, 0.40789473684210525, 'x[4] <= 0.555\\ngini = 0.147\\nsamples = 25\\nvalue = [23, 2]'),\n",
              " Text(0.07061219634311022, 0.3815789473684211, 'x[4] <= 0.518\\ngini = 0.111\\nsamples = 17\\nvalue = [16, 1]'),\n",
              " Text(0.07027754138413814, 0.35526315789473684, 'gini = 0.198\\nsamples = 9\\nvalue = [8, 1]'),\n",
              " Text(0.07094685130208231, 0.35526315789473684, 'gini = 0.0\\nsamples = 8\\nvalue = [8, 0]'),\n",
              " Text(0.07195081617899857, 0.3815789473684211, 'x[3] <= 0.202\\ngini = 0.219\\nsamples = 8\\nvalue = [7, 1]'),\n",
              " Text(0.07161616122002648, 0.35526315789473684, 'gini = 0.0\\nsamples = 1\\nvalue = [1, 0]'),\n",
              " Text(0.07228547113797065, 0.35526315789473684, 'gini = 0.245\\nsamples = 7\\nvalue = [6, 1]'),\n",
              " Text(0.07195081617899857, 0.40789473684210525, 'gini = 0.0\\nsamples = 10\\nvalue = [10, 0]'),\n",
              " Text(0.07228547113797065, 0.4342105263157895, 'gini = 0.0\\nsamples = 26\\nvalue = [26, 0]'),\n",
              " Text(0.07328943601488691, 0.4605263157894737, 'x[3] <= 0.213\\ngini = 0.278\\nsamples = 6\\nvalue = [5, 1]'),\n",
              " Text(0.07295478105591482, 0.4342105263157895, 'gini = 0.0\\nsamples = 1\\nvalue = [0, 1]'),\n",
              " Text(0.073624090973859, 0.4342105263157895, 'gini = 0.0\\nsamples = 5\\nvalue = [5, 0]'),\n",
              " Text(0.07529736576871944, 0.5131578947368421, 'x[4] <= 0.555\\ngini = 0.047\\nsamples = 125\\nvalue = [122, 3]'),\n",
              " Text(0.07496271080974735, 0.4868421052631579, 'x[2] <= 0.625\\ngini = 0.074\\nsamples = 78\\nvalue = [75, 3]'),\n",
              " Text(0.07462805585077527, 0.4605263157894737, 'x[3] <= 0.203\\ngini = 0.117\\nsamples = 48\\nvalue = [45, 3]'),\n",
              " Text(0.07429340089180318, 0.4342105263157895, 'x[4] <= 0.518\\ngini = 0.13\\nsamples = 43\\nvalue = [40, 3]'),\n",
              " Text(0.07328943601488691, 0.40789473684210525, 'x[5] <= 0.455\\ngini = 0.091\\nsamples = 21\\nvalue = [20, 1]'),\n",
              " Text(0.07295478105591482, 0.3815789473684211, 'gini = 0.0\\nsamples = 12\\nvalue = [12, 0]'),\n",
              " Text(0.073624090973859, 0.3815789473684211, 'x[3] <= 0.203\\ngini = 0.198\\nsamples = 9\\nvalue = [8, 1]'),\n",
              " Text(0.07328943601488691, 0.35526315789473684, 'gini = 0.0\\nsamples = 1\\nvalue = [1, 0]'),\n",
              " Text(0.07395874593283108, 0.35526315789473684, 'gini = 0.219\\nsamples = 8\\nvalue = [7, 1]'),\n",
              " Text(0.07529736576871944, 0.40789473684210525, 'x[5] <= 0.455\\ngini = 0.165\\nsamples = 22\\nvalue = [20, 2]'),\n",
              " Text(0.07496271080974735, 0.3815789473684211, 'x[5] <= 0.361\\ngini = 0.231\\nsamples = 15\\nvalue = [13, 2]'),\n",
              " Text(0.07462805585077527, 0.35526315789473684, 'gini = 0.198\\nsamples = 9\\nvalue = [8, 1]'),\n",
              " Text(0.07529736576871944, 0.35526315789473684, 'gini = 0.278\\nsamples = 6\\nvalue = [5, 1]'),\n",
              " Text(0.07563202072769153, 0.3815789473684211, 'gini = 0.0\\nsamples = 7\\nvalue = [7, 0]'),\n",
              " Text(0.07496271080974735, 0.4342105263157895, 'gini = 0.0\\nsamples = 5\\nvalue = [5, 0]'),\n",
              " Text(0.07529736576871944, 0.4605263157894737, 'gini = 0.0\\nsamples = 30\\nvalue = [30, 0]'),\n",
              " Text(0.07563202072769153, 0.4868421052631579, 'gini = 0.0\\nsamples = 47\\nvalue = [47, 0]'),\n",
              " Text(0.08408066949293237, 0.6973684210526315, 'x[3] <= 0.168\\ngini = 0.027\\nsamples = 4343\\nvalue = [4283, 60]'),\n",
              " Text(0.07730529552255196, 0.6710526315789473, 'x[3] <= 0.141\\ngini = 0.014\\nsamples = 1611\\nvalue = [1600, 11]'),\n",
              " Text(0.07563202072769153, 0.6447368421052632, 'x[3] <= 0.089\\ngini = 0.007\\nsamples = 857\\nvalue = [854, 3]'),\n",
              " Text(0.07462805585077527, 0.618421052631579, 'x[3] <= 0.089\\ngini = 0.049\\nsamples = 40\\nvalue = [39, 1]'),\n",
              " Text(0.07429340089180318, 0.5921052631578947, 'gini = 0.0\\nsamples = 38\\nvalue = [38, 0]'),\n",
              " Text(0.07496271080974735, 0.5921052631578947, 'x[5] <= 0.327\\ngini = 0.5\\nsamples = 2\\nvalue = [1, 1]'),\n",
              " Text(0.07462805585077527, 0.5657894736842105, 'gini = 0.0\\nsamples = 1\\nvalue = [0, 1]'),\n",
              " Text(0.07529736576871944, 0.5657894736842105, 'gini = 0.0\\nsamples = 1\\nvalue = [1, 0]'),\n",
              " Text(0.07663598560460778, 0.618421052631579, 'x[3] <= 0.122\\ngini = 0.005\\nsamples = 817\\nvalue = [815, 2]'),\n",
              " Text(0.0763013306456357, 0.5921052631578947, 'x[3] <= 0.122\\ngini = 0.013\\nsamples = 316\\nvalue = [314, 2]'),\n",
              " Text(0.07596667568666361, 0.5657894736842105, 'x[5] <= 0.455\\ngini = 0.006\\nsamples = 315\\nvalue = [314, 1]'),\n",
              " Text(0.07563202072769153, 0.5394736842105263, 'gini = 0.0\\nsamples = 287\\nvalue = [287, 0]'),\n",
              " Text(0.0763013306456357, 0.5394736842105263, 'x[4] <= 0.518\\ngini = 0.069\\nsamples = 28\\nvalue = [27, 1]'),\n",
              " Text(0.07596667568666361, 0.5131578947368421, 'gini = 0.0\\nsamples = 16\\nvalue = [16, 0]'),\n",
              " Text(0.07663598560460778, 0.5131578947368421, 'x[4] <= 0.555\\ngini = 0.153\\nsamples = 12\\nvalue = [11, 1]'),\n",
              " Text(0.0763013306456357, 0.4868421052631579, 'x[2] <= 0.25\\ngini = 0.32\\nsamples = 5\\nvalue = [4, 1]'),\n",
              " Text(0.07596667568666361, 0.4605263157894737, 'x[3] <= 0.112\\ngini = 0.5\\nsamples = 2\\nvalue = [1, 1]'),\n",
              " Text(0.07563202072769153, 0.4342105263157895, 'gini = 0.0\\nsamples = 1\\nvalue = [0, 1]'),\n",
              " Text(0.0763013306456357, 0.4342105263157895, 'gini = 0.0\\nsamples = 1\\nvalue = [1, 0]'),\n",
              " Text(0.07663598560460778, 0.4605263157894737, 'gini = 0.0\\nsamples = 3\\nvalue = [3, 0]'),\n",
              " Text(0.07697064056357987, 0.4868421052631579, 'gini = 0.0\\nsamples = 7\\nvalue = [7, 0]'),\n",
              " Text(0.07663598560460778, 0.5657894736842105, 'gini = 0.0\\nsamples = 1\\nvalue = [0, 1]'),\n",
              " Text(0.07697064056357987, 0.5921052631578947, 'gini = 0.0\\nsamples = 501\\nvalue = [501, 0]'),\n",
              " Text(0.07897857031741239, 0.6447368421052632, 'x[3] <= 0.141\\ngini = 0.021\\nsamples = 754\\nvalue = [746, 8]'),\n",
              " Text(0.07797460544049613, 0.618421052631579, 'x[4] <= 0.555\\ngini = 0.18\\nsamples = 10\\nvalue = [9, 1]'),\n",
              " Text(0.07763995048152404, 0.5921052631578947, 'gini = 0.0\\nsamples = 9\\nvalue = [9, 0]'),\n",
              " Text(0.07830926039946821, 0.5921052631578947, 'gini = 0.0\\nsamples = 1\\nvalue = [0, 1]'),\n",
              " Text(0.07998253519432864, 0.618421052631579, 'x[5] <= 0.218\\ngini = 0.019\\nsamples = 744\\nvalue = [737, 7]'),\n",
              " Text(0.07897857031741239, 0.5921052631578947, 'x[3] <= 0.152\\ngini = 0.045\\nsamples = 86\\nvalue = [84, 2]'),\n",
              " Text(0.0786439153584403, 0.5657894736842105, 'x[3] <= 0.151\\ngini = 0.137\\nsamples = 27\\nvalue = [25, 2]'),\n",
              " Text(0.07830926039946821, 0.5394736842105263, 'gini = 0.0\\nsamples = 24\\nvalue = [24, 0]'),\n",
              " Text(0.07897857031741239, 0.5394736842105263, 'x[4] <= 0.473\\ngini = 0.444\\nsamples = 3\\nvalue = [1, 2]'),\n",
              " Text(0.0786439153584403, 0.5131578947368421, 'gini = 0.0\\nsamples = 2\\nvalue = [0, 2]'),\n",
              " Text(0.07931322527638447, 0.5131578947368421, 'gini = 0.0\\nsamples = 1\\nvalue = [1, 0]'),\n",
              " Text(0.07931322527638447, 0.5657894736842105, 'gini = 0.0\\nsamples = 59\\nvalue = [59, 0]'),\n",
              " Text(0.0809865000712449, 0.5921052631578947, 'x[5] <= 0.318\\ngini = 0.015\\nsamples = 658\\nvalue = [653, 5]'),\n",
              " Text(0.08065184511227282, 0.5657894736842105, 'gini = 0.0\\nsamples = 240\\nvalue = [240, 0]'),\n",
              " Text(0.08132115503021699, 0.5657894736842105, 'x[5] <= 0.348\\ngini = 0.024\\nsamples = 418\\nvalue = [413, 5]'),\n",
              " Text(0.08031719015330073, 0.5394736842105263, 'x[4] <= 0.436\\ngini = 0.051\\nsamples = 76\\nvalue = [74, 2]'),\n",
              " Text(0.07998253519432864, 0.5131578947368421, 'x[3] <= 0.157\\ngini = 0.165\\nsamples = 22\\nvalue = [20, 2]'),\n",
              " Text(0.07964788023535656, 0.4868421052631579, 'gini = 0.0\\nsamples = 12\\nvalue = [12, 0]'),\n",
              " Text(0.08031719015330073, 0.4868421052631579, 'x[3] <= 0.159\\ngini = 0.32\\nsamples = 10\\nvalue = [8, 2]'),\n",
              " Text(0.07998253519432864, 0.4605263157894737, 'gini = 0.0\\nsamples = 1\\nvalue = [0, 1]'),\n",
              " Text(0.08065184511227282, 0.4605263157894737, 'x[3] <= 0.162\\ngini = 0.198\\nsamples = 9\\nvalue = [8, 1]'),\n",
              " Text(0.08031719015330073, 0.4342105263157895, 'x[3] <= 0.162\\ngini = 0.375\\nsamples = 4\\nvalue = [3, 1]'),\n",
              " Text(0.07998253519432864, 0.40789473684210525, 'gini = 0.0\\nsamples = 3\\nvalue = [3, 0]'),\n",
              " Text(0.08065184511227282, 0.40789473684210525, 'gini = 0.0\\nsamples = 1\\nvalue = [0, 1]'),\n",
              " Text(0.0809865000712449, 0.4342105263157895, 'gini = 0.0\\nsamples = 5\\nvalue = [5, 0]'),\n",
              " Text(0.08065184511227282, 0.5131578947368421, 'gini = 0.0\\nsamples = 54\\nvalue = [54, 0]'),\n",
              " Text(0.08232511990713325, 0.5394736842105263, 'x[3] <= 0.145\\ngini = 0.017\\nsamples = 342\\nvalue = [339, 3]'),\n",
              " Text(0.08132115503021699, 0.5131578947368421, 'x[3] <= 0.145\\ngini = 0.057\\nsamples = 68\\nvalue = [66, 2]'),\n",
              " Text(0.0809865000712449, 0.4868421052631579, 'gini = 0.0\\nsamples = 49\\nvalue = [49, 0]'),\n",
              " Text(0.08165580998918907, 0.4868421052631579, 'x[3] <= 0.145\\ngini = 0.188\\nsamples = 19\\nvalue = [17, 2]'),\n",
              " Text(0.08132115503021699, 0.4605263157894737, 'gini = 0.0\\nsamples = 1\\nvalue = [0, 1]'),\n",
              " Text(0.08199046494816116, 0.4605263157894737, 'x[4] <= 0.518\\ngini = 0.105\\nsamples = 18\\nvalue = [17, 1]'),\n",
              " Text(0.08165580998918907, 0.4342105263157895, 'gini = 0.0\\nsamples = 13\\nvalue = [13, 0]'),\n",
              " Text(0.08232511990713325, 0.4342105263157895, 'x[2] <= 0.125\\ngini = 0.32\\nsamples = 5\\nvalue = [4, 1]'),\n",
              " Text(0.08199046494816116, 0.40789473684210525, 'gini = 0.0\\nsamples = 4\\nvalue = [4, 0]'),\n",
              " Text(0.08265977486610533, 0.40789473684210525, 'gini = 0.0\\nsamples = 1\\nvalue = [0, 1]'),\n",
              " Text(0.0833290847840495, 0.5131578947368421, 'x[3] <= 0.163\\ngini = 0.007\\nsamples = 274\\nvalue = [273, 1]'),\n",
              " Text(0.08299442982507742, 0.4868421052631579, 'gini = 0.0\\nsamples = 213\\nvalue = [213, 0]'),\n",
              " Text(0.08366373974302159, 0.4868421052631579, 'x[3] <= 0.163\\ngini = 0.032\\nsamples = 61\\nvalue = [60, 1]'),\n",
              " Text(0.0833290847840495, 0.4605263157894737, 'x[5] <= 0.361\\ngini = 0.5\\nsamples = 2\\nvalue = [1, 1]'),\n",
              " Text(0.08299442982507742, 0.4342105263157895, 'gini = 0.0\\nsamples = 1\\nvalue = [0, 1]'),\n",
              " Text(0.08366373974302159, 0.4342105263157895, 'gini = 0.0\\nsamples = 1\\nvalue = [1, 0]'),\n",
              " Text(0.08399839470199368, 0.4605263157894737, 'gini = 0.0\\nsamples = 59\\nvalue = [59, 0]'),\n",
              " Text(0.0908560434633128, 0.6710526315789473, 'x[3] <= 0.168\\ngini = 0.035\\nsamples = 2732\\nvalue = [2683, 49]'),\n",
              " Text(0.08784692673017268, 0.6447368421052632, 'x[5] <= 0.284\\ngini = 0.32\\nsamples = 5\\nvalue = [4, 1]'),\n",
              " Text(0.08751227177120059, 0.618421052631579, 'gini = 0.0\\nsamples = 1\\nvalue = [0, 1]'),\n",
              " Text(0.08818158168914476, 0.618421052631579, 'gini = 0.0\\nsamples = 4\\nvalue = [4, 0]'),\n",
              " Text(0.09386516019645291, 0.6447368421052632, 'x[5] <= 0.218\\ngini = 0.035\\nsamples = 2727\\nvalue = [2679, 48]'),\n",
              " Text(0.08885089160708894, 0.618421052631579, 'x[4] <= 0.482\\ngini = 0.071\\nsamples = 298\\nvalue = [287, 11]'),\n",
              " Text(0.08784692673017268, 0.5921052631578947, 'x[3] <= 0.181\\ngini = 0.111\\nsamples = 170\\nvalue = [160, 10]'),\n",
              " Text(0.08751227177120059, 0.5657894736842105, 'gini = 0.0\\nsamples = 29\\nvalue = [29, 0]'),\n",
              " Text(0.08818158168914476, 0.5657894736842105, 'x[3] <= 0.183\\ngini = 0.132\\nsamples = 141\\nvalue = [131, 10]'),\n",
              " Text(0.08784692673017268, 0.5394736842105263, 'gini = 0.0\\nsamples = 1\\nvalue = [0, 1]'),\n",
              " Text(0.08851623664811685, 0.5394736842105263, 'x[4] <= 0.464\\ngini = 0.12\\nsamples = 140\\nvalue = [131, 9]'),\n",
              " Text(0.08617365193531225, 0.5131578947368421, 'x[2] <= 0.375\\ngini = 0.087\\nsamples = 110\\nvalue = [105, 5]'),\n",
              " Text(0.08500235957890993, 0.4868421052631579, 'x[4] <= 0.436\\ngini = 0.036\\nsamples = 54\\nvalue = [53, 1]'),\n",
              " Text(0.08466770461993785, 0.4605263157894737, 'x[4] <= 0.409\\ngini = 0.057\\nsamples = 34\\nvalue = [33, 1]'),\n",
              " Text(0.08433304966096576, 0.4342105263157895, 'gini = 0.0\\nsamples = 13\\nvalue = [13, 0]'),\n",
              " Text(0.08500235957890993, 0.4342105263157895, 'x[3] <= 0.201\\ngini = 0.091\\nsamples = 21\\nvalue = [20, 1]'),\n",
              " Text(0.08466770461993785, 0.40789473684210525, 'gini = 0.0\\nsamples = 7\\nvalue = [7, 0]'),\n",
              " Text(0.08533701453788202, 0.40789473684210525, 'x[3] <= 0.206\\ngini = 0.133\\nsamples = 14\\nvalue = [13, 1]'),\n",
              " Text(0.08500235957890993, 0.3815789473684211, 'x[2] <= 0.125\\ngini = 0.219\\nsamples = 8\\nvalue = [7, 1]'),\n",
              " Text(0.08466770461993785, 0.35526315789473684, 'gini = 0.245\\nsamples = 7\\nvalue = [6, 1]'),\n",
              " Text(0.08533701453788202, 0.35526315789473684, 'gini = 0.0\\nsamples = 1\\nvalue = [1, 0]'),\n",
              " Text(0.08567166949685412, 0.3815789473684211, 'gini = 0.0\\nsamples = 6\\nvalue = [6, 0]'),\n",
              " Text(0.08533701453788202, 0.4605263157894737, 'gini = 0.0\\nsamples = 20\\nvalue = [20, 0]'),\n",
              " Text(0.08734494429171455, 0.4868421052631579, 'x[3] <= 0.203\\ngini = 0.133\\nsamples = 56\\nvalue = [52, 4]'),\n",
              " Text(0.08701028933274246, 0.4605263157894737, 'gini = 0.0\\nsamples = 10\\nvalue = [10, 0]'),\n",
              " Text(0.08767959925068664, 0.4605263157894737, 'x[3] <= 0.204\\ngini = 0.159\\nsamples = 46\\nvalue = [42, 4]'),\n",
              " Text(0.08734494429171455, 0.4342105263157895, 'x[4] <= 0.436\\ngini = 0.176\\nsamples = 41\\nvalue = [37, 4]'),\n",
              " Text(0.08667563437377038, 0.40789473684210525, 'x[2] <= 0.625\\ngini = 0.137\\nsamples = 27\\nvalue = [25, 2]'),\n",
              " Text(0.08634097941479829, 0.3815789473684211, 'x[4] <= 0.409\\ngini = 0.172\\nsamples = 21\\nvalue = [19, 2]'),\n",
              " Text(0.0860063244558262, 0.35526315789473684, 'gini = 0.198\\nsamples = 9\\nvalue = [8, 1]'),\n",
              " Text(0.08667563437377038, 0.35526315789473684, 'gini = 0.153\\nsamples = 12\\nvalue = [11, 1]'),\n",
              " Text(0.08701028933274246, 0.3815789473684211, 'gini = 0.0\\nsamples = 6\\nvalue = [6, 0]'),\n",
              " Text(0.08801425420965872, 0.40789473684210525, 'x[2] <= 0.625\\ngini = 0.245\\nsamples = 14\\nvalue = [12, 2]'),\n",
              " Text(0.08767959925068664, 0.3815789473684211, 'gini = 0.18\\nsamples = 10\\nvalue = [9, 1]'),\n",
              " Text(0.08834890916863081, 0.3815789473684211, 'x[2] <= 0.875\\ngini = 0.375\\nsamples = 4\\nvalue = [3, 1]'),\n",
              " Text(0.08801425420965872, 0.35526315789473684, 'gini = 0.444\\nsamples = 3\\nvalue = [2, 1]'),\n",
              " Text(0.08868356412760289, 0.35526315789473684, 'gini = 0.0\\nsamples = 1\\nvalue = [1, 0]'),\n",
              " Text(0.08801425420965872, 0.4342105263157895, 'gini = 0.0\\nsamples = 5\\nvalue = [5, 0]'),\n",
              " Text(0.09085882136092145, 0.5131578947368421, 'x[2] <= 0.375\\ngini = 0.231\\nsamples = 30\\nvalue = [26, 4]'),\n",
              " Text(0.08968752900451915, 0.4868421052631579, 'x[3] <= 0.188\\ngini = 0.355\\nsamples = 13\\nvalue = [10, 3]'),\n",
              " Text(0.08901821908657498, 0.4605263157894737, 'x[3] <= 0.187\\ngini = 0.5\\nsamples = 2\\nvalue = [1, 1]'),\n",
              " Text(0.08868356412760289, 0.4342105263157895, 'gini = 0.0\\nsamples = 1\\nvalue = [1, 0]'),\n",
              " Text(0.08935287404554706, 0.4342105263157895, 'gini = 0.0\\nsamples = 1\\nvalue = [0, 1]'),\n",
              " Text(0.09035683892246332, 0.4605263157894737, 'x[3] <= 0.203\\ngini = 0.298\\nsamples = 11\\nvalue = [9, 2]'),\n",
              " Text(0.09002218396349124, 0.4342105263157895, 'gini = 0.0\\nsamples = 5\\nvalue = [5, 0]'),\n",
              " Text(0.09069149388143541, 0.4342105263157895, 'x[3] <= 0.21\\ngini = 0.444\\nsamples = 6\\nvalue = [4, 2]'),\n",
              " Text(0.09035683892246332, 0.40789473684210525, 'x[2] <= 0.125\\ngini = 0.48\\nsamples = 5\\nvalue = [3, 2]'),\n",
              " Text(0.09002218396349124, 0.3815789473684211, 'gini = 0.444\\nsamples = 3\\nvalue = [2, 1]'),\n",
              " Text(0.09069149388143541, 0.3815789473684211, 'gini = 0.5\\nsamples = 2\\nvalue = [1, 1]'),\n",
              " Text(0.0910261488404075, 0.40789473684210525, 'gini = 0.0\\nsamples = 1\\nvalue = [1, 0]'),\n",
              " Text(0.09203011371732375, 0.4868421052631579, 'x[2] <= 0.625\\ngini = 0.111\\nsamples = 17\\nvalue = [16, 1]'),\n",
              " Text(0.09169545875835167, 0.4605263157894737, 'x[3] <= 0.194\\ngini = 0.165\\nsamples = 11\\nvalue = [10, 1]'),\n",
              " Text(0.09136080379937958, 0.4342105263157895, 'gini = 0.0\\nsamples = 1\\nvalue = [1, 0]'),\n",
              " Text(0.09203011371732375, 0.4342105263157895, 'gini = 0.18\\nsamples = 10\\nvalue = [9, 1]'),\n",
              " Text(0.09236476867629584, 0.4605263157894737, 'gini = 0.0\\nsamples = 6\\nvalue = [6, 0]'),\n",
              " Text(0.0898548564840052, 0.5921052631578947, 'x[3] <= 0.177\\ngini = 0.016\\nsamples = 128\\nvalue = [127, 1]'),\n",
              " Text(0.08952020152503311, 0.5657894736842105, 'x[3] <= 0.176\\ngini = 0.117\\nsamples = 16\\nvalue = [15, 1]'),\n",
              " Text(0.08918554656606102, 0.5394736842105263, 'gini = 0.0\\nsamples = 15\\nvalue = [15, 0]'),\n",
              " Text(0.0898548564840052, 0.5394736842105263, 'gini = 0.0\\nsamples = 1\\nvalue = [0, 1]'),\n",
              " Text(0.09018951144297728, 0.5657894736842105, 'gini = 0.0\\nsamples = 112\\nvalue = [112, 0]'),\n",
              " Text(0.0988794287858169, 0.618421052631579, 'x[3] <= 0.172\\ngini = 0.03\\nsamples = 2429\\nvalue = [2392, 37]'),\n",
              " Text(0.09420537095064231, 0.5921052631578947, 'x[4] <= 0.482\\ngini = 0.081\\nsamples = 94\\nvalue = [90, 4]'),\n",
              " Text(0.09387071599167023, 0.5657894736842105, 'gini = 0.0\\nsamples = 53\\nvalue = [53, 0]'),\n",
              " Text(0.0945400259096144, 0.5657894736842105, 'x[3] <= 0.171\\ngini = 0.176\\nsamples = 41\\nvalue = [37, 4]'),\n",
              " Text(0.0933687335532121, 0.5394736842105263, 'x[5] <= 0.284\\ngini = 0.067\\nsamples = 29\\nvalue = [28, 1]'),\n",
              " Text(0.09303407859424001, 0.5131578947368421, 'x[2] <= 0.125\\ngini = 0.245\\nsamples = 7\\nvalue = [6, 1]'),\n",
              " Text(0.09269942363526792, 0.4868421052631579, 'gini = 0.0\\nsamples = 4\\nvalue = [4, 0]'),\n",
              " Text(0.0933687335532121, 0.4868421052631579, 'x[4] <= 0.518\\ngini = 0.444\\nsamples = 3\\nvalue = [2, 1]'),\n",
              " Text(0.09303407859424001, 0.4605263157894737, 'gini = 0.0\\nsamples = 2\\nvalue = [2, 0]'),\n",
              " Text(0.09370338851218418, 0.4605263157894737, 'gini = 0.0\\nsamples = 1\\nvalue = [0, 1]'),\n",
              " Text(0.09370338851218418, 0.5131578947368421, 'gini = 0.0\\nsamples = 22\\nvalue = [22, 0]'),\n",
              " Text(0.0957113182660167, 0.5394736842105263, 'x[3] <= 0.171\\ngini = 0.375\\nsamples = 12\\nvalue = [9, 3]'),\n",
              " Text(0.09504200834807253, 0.5131578947368421, 'x[3] <= 0.171\\ngini = 0.444\\nsamples = 3\\nvalue = [1, 2]'),\n",
              " Text(0.09470735338910044, 0.4868421052631579, 'x[5] <= 0.359\\ngini = 0.5\\nsamples = 2\\nvalue = [1, 1]'),\n",
              " Text(0.09437269843012835, 0.4605263157894737, 'gini = 0.0\\nsamples = 1\\nvalue = [1, 0]'),\n",
              " Text(0.09504200834807253, 0.4605263157894737, 'gini = 0.0\\nsamples = 1\\nvalue = [0, 1]'),\n",
              " Text(0.09537666330704461, 0.4868421052631579, 'gini = 0.0\\nsamples = 1\\nvalue = [0, 1]'),\n",
              " Text(0.09638062818396087, 0.5131578947368421, 'x[4] <= 0.518\\ngini = 0.198\\nsamples = 9\\nvalue = [8, 1]'),\n",
              " Text(0.09604597322498878, 0.4868421052631579, 'gini = 0.0\\nsamples = 1\\nvalue = [0, 1]'),\n",
              " Text(0.09671528314293296, 0.4868421052631579, 'gini = 0.0\\nsamples = 8\\nvalue = [8, 0]'),\n",
              " Text(0.1035534866209915, 0.5921052631578947, 'x[3] <= 0.195\\ngini = 0.028\\nsamples = 2335\\nvalue = [2302, 33]'),\n",
              " Text(0.09872321289676549, 0.5657894736842105, 'x[5] <= 0.361\\ngini = 0.011\\nsamples = 550\\nvalue = [547, 3]'),\n",
              " Text(0.09805390297882131, 0.5394736842105263, 'x[3] <= 0.179\\ngini = 0.005\\nsamples = 419\\nvalue = [418, 1]'),\n",
              " Text(0.09771924801984923, 0.5131578947368421, 'x[3] <= 0.179\\ngini = 0.017\\nsamples = 114\\nvalue = [113, 1]'),\n",
              " Text(0.09738459306087714, 0.4868421052631579, 'gini = 0.0\\nsamples = 111\\nvalue = [111, 0]'),\n",
              " Text(0.09805390297882131, 0.4868421052631579, 'x[2] <= 0.125\\ngini = 0.444\\nsamples = 3\\nvalue = [2, 1]'),\n",
              " Text(0.09771924801984923, 0.4605263157894737, 'gini = 0.0\\nsamples = 2\\nvalue = [2, 0]'),\n",
              " Text(0.0983885579377934, 0.4605263157894737, 'gini = 0.0\\nsamples = 1\\nvalue = [0, 1]'),\n",
              " Text(0.0983885579377934, 0.5131578947368421, 'gini = 0.0\\nsamples = 305\\nvalue = [305, 0]'),\n",
              " Text(0.09939252281470966, 0.5394736842105263, 'x[4] <= 0.464\\ngini = 0.03\\nsamples = 131\\nvalue = [129, 2]'),\n",
              " Text(0.09905786785573757, 0.5131578947368421, 'x[2] <= 0.125\\ngini = 0.078\\nsamples = 49\\nvalue = [47, 2]'),\n",
              " Text(0.09872321289676549, 0.4868421052631579, 'gini = 0.0\\nsamples = 22\\nvalue = [22, 0]'),\n",
              " Text(0.09939252281470966, 0.4868421052631579, 'x[3] <= 0.183\\ngini = 0.137\\nsamples = 27\\nvalue = [25, 2]'),\n",
              " Text(0.09905786785573757, 0.4605263157894737, 'gini = 0.0\\nsamples = 12\\nvalue = [12, 0]'),\n",
              " Text(0.09972717777368174, 0.4605263157894737, 'x[3] <= 0.183\\ngini = 0.231\\nsamples = 15\\nvalue = [13, 2]'),\n",
              " Text(0.09939252281470966, 0.4342105263157895, 'gini = 0.0\\nsamples = 1\\nvalue = [0, 1]'),\n",
              " Text(0.10006183273265383, 0.4342105263157895, 'x[3] <= 0.189\\ngini = 0.133\\nsamples = 14\\nvalue = [13, 1]'),\n",
              " Text(0.09972717777368174, 0.40789473684210525, 'x[3] <= 0.188\\ngini = 0.32\\nsamples = 5\\nvalue = [4, 1]'),\n",
              " Text(0.09939252281470966, 0.3815789473684211, 'gini = 0.0\\nsamples = 4\\nvalue = [4, 0]'),\n",
              " Text(0.10006183273265383, 0.3815789473684211, 'gini = 0.0\\nsamples = 1\\nvalue = [0, 1]'),\n",
              " Text(0.10039648769162592, 0.40789473684210525, 'gini = 0.0\\nsamples = 9\\nvalue = [9, 0]'),\n",
              " Text(0.09972717777368174, 0.5131578947368421, 'gini = 0.0\\nsamples = 82\\nvalue = [82, 0]'),\n",
              " Text(0.1083837603452175, 0.5657894736842105, 'x[3] <= 0.196\\ngini = 0.033\\nsamples = 1785\\nvalue = [1755, 30]'),\n",
              " Text(0.10223708996597239, 0.5394736842105263, 'x[4] <= 0.473\\ngini = 0.32\\nsamples = 5\\nvalue = [4, 1]'),\n",
              " Text(0.1019024350070003, 0.5131578947368421, 'x[2] <= 0.25\\ngini = 0.5\\nsamples = 2\\nvalue = [1, 1]'),\n",
              " Text(0.10156778004802822, 0.4868421052631579, 'gini = 0.0\\nsamples = 1\\nvalue = [0, 1]'),\n",
              " Text(0.10223708996597239, 0.4868421052631579, 'gini = 0.0\\nsamples = 1\\nvalue = [1, 0]'),\n",
              " Text(0.10257174492494447, 0.5131578947368421, 'gini = 0.0\\nsamples = 3\\nvalue = [3, 0]'),\n",
              " Text(0.11453043072446262, 0.5394736842105263, 'x[4] <= 0.464\\ngini = 0.032\\nsamples = 1780\\nvalue = [1751, 29]'),\n",
              " Text(0.10718370857827854, 0.5131578947368421, 'x[5] <= 0.25\\ngini = 0.042\\nsamples = 793\\nvalue = [776, 17]'),\n",
              " Text(0.10290639988391656, 0.4868421052631579, 'x[2] <= 0.375\\ngini = 0.081\\nsamples = 94\\nvalue = [90, 4]'),\n",
              " Text(0.10173510752751426, 0.4605263157894737, 'x[3] <= 0.204\\ngini = 0.13\\nsamples = 43\\nvalue = [40, 3]'),\n",
              " Text(0.10140045256854217, 0.4342105263157895, 'x[3] <= 0.202\\ngini = 0.157\\nsamples = 35\\nvalue = [32, 3]'),\n",
              " Text(0.10106579760957009, 0.40789473684210525, 'gini = 0.0\\nsamples = 7\\nvalue = [7, 0]'),\n",
              " Text(0.10173510752751426, 0.40789473684210525, 'x[2] <= 0.125\\ngini = 0.191\\nsamples = 28\\nvalue = [25, 3]'),\n",
              " Text(0.10106579760957009, 0.3815789473684211, 'x[4] <= 0.436\\ngini = 0.245\\nsamples = 14\\nvalue = [12, 2]'),\n",
              " Text(0.100731142650598, 0.35526315789473684, 'x[4] <= 0.409\\ngini = 0.32\\nsamples = 10\\nvalue = [8, 2]'),\n",
              " Text(0.10039648769162592, 0.32894736842105265, 'gini = 0.219\\nsamples = 8\\nvalue = [7, 1]'),\n",
              " Text(0.10106579760957009, 0.32894736842105265, 'gini = 0.5\\nsamples = 2\\nvalue = [1, 1]'),\n",
              " Text(0.10140045256854217, 0.35526315789473684, 'gini = 0.0\\nsamples = 4\\nvalue = [4, 0]'),\n",
              " Text(0.10240441744545843, 0.3815789473684211, 'x[4] <= 0.436\\ngini = 0.133\\nsamples = 14\\nvalue = [13, 1]'),\n",
              " Text(0.10206976248648635, 0.35526315789473684, 'gini = 0.0\\nsamples = 9\\nvalue = [9, 0]'),\n",
              " Text(0.10273907240443052, 0.35526315789473684, 'gini = 0.32\\nsamples = 5\\nvalue = [4, 1]'),\n",
              " Text(0.10206976248648635, 0.4342105263157895, 'gini = 0.0\\nsamples = 8\\nvalue = [8, 0]'),\n",
              " Text(0.10407769224031886, 0.4605263157894737, 'x[4] <= 0.409\\ngini = 0.038\\nsamples = 51\\nvalue = [50, 1]'),\n",
              " Text(0.10374303728134678, 0.4342105263157895, 'x[3] <= 0.203\\ngini = 0.117\\nsamples = 16\\nvalue = [15, 1]'),\n",
              " Text(0.10340838232237469, 0.40789473684210525, 'gini = 0.0\\nsamples = 2\\nvalue = [2, 0]'),\n",
              " Text(0.10407769224031886, 0.40789473684210525, 'x[2] <= 0.625\\ngini = 0.133\\nsamples = 14\\nvalue = [13, 1]'),\n",
              " Text(0.10374303728134678, 0.3815789473684211, 'x[3] <= 0.21\\ngini = 0.142\\nsamples = 13\\nvalue = [12, 1]'),\n",
              " Text(0.10340838232237469, 0.35526315789473684, 'gini = 0.153\\nsamples = 12\\nvalue = [11, 1]'),\n",
              " Text(0.10407769224031886, 0.35526315789473684, 'gini = 0.0\\nsamples = 1\\nvalue = [1, 0]'),\n",
              " Text(0.10441234719929095, 0.3815789473684211, 'gini = 0.0\\nsamples = 1\\nvalue = [1, 0]'),\n",
              " Text(0.10441234719929095, 0.4342105263157895, 'gini = 0.0\\nsamples = 35\\nvalue = [35, 0]'),\n",
              " Text(0.11146101727264052, 0.4868421052631579, 'x[5] <= 0.361\\ngini = 0.037\\nsamples = 699\\nvalue = [686, 13]'),\n",
              " Text(0.10851187044669901, 0.4605263157894737, 'x[5] <= 0.318\\ngini = 0.027\\nsamples = 504\\nvalue = [497, 7]'),\n",
              " Text(0.10625294947363742, 0.4342105263157895, 'x[2] <= 0.125\\ngini = 0.049\\nsamples = 199\\nvalue = [194, 5]'),\n",
              " Text(0.10591829451466533, 0.40789473684210525, 'gini = 0.0\\nsamples = 74\\nvalue = [74, 0]'),\n",
              " Text(0.1065876044326095, 0.40789473684210525, 'x[5] <= 0.284\\ngini = 0.077\\nsamples = 125\\nvalue = [120, 5]'),\n",
              " Text(0.10508165711723512, 0.3815789473684211, 'x[4] <= 0.436\\ngini = 0.03\\nsamples = 65\\nvalue = [64, 1]'),\n",
              " Text(0.10474700215826303, 0.35526315789473684, 'gini = 0.0\\nsamples = 43\\nvalue = [43, 0]'),\n",
              " Text(0.1054163120762072, 0.35526315789473684, 'x[2] <= 0.375\\ngini = 0.087\\nsamples = 22\\nvalue = [21, 1]'),\n",
              " Text(0.10508165711723512, 0.32894736842105265, 'gini = 0.0\\nsamples = 6\\nvalue = [6, 0]'),\n",
              " Text(0.10575096703517929, 0.32894736842105265, 'x[2] <= 0.625\\ngini = 0.117\\nsamples = 16\\nvalue = [15, 1]'),\n",
              " Text(0.1054163120762072, 0.3026315789473684, 'x[3] <= 0.208\\ngini = 0.142\\nsamples = 13\\nvalue = [12, 1]'),\n",
              " Text(0.10508165711723512, 0.27631578947368424, 'gini = 0.165\\nsamples = 11\\nvalue = [10, 1]'),\n",
              " Text(0.10575096703517929, 0.27631578947368424, 'gini = 0.0\\nsamples = 2\\nvalue = [2, 0]'),\n",
              " Text(0.10608562199415138, 0.3026315789473684, 'gini = 0.0\\nsamples = 3\\nvalue = [3, 0]'),\n",
              " Text(0.1080935517479839, 0.3815789473684211, 'x[3] <= 0.209\\ngini = 0.124\\nsamples = 60\\nvalue = [56, 4]'),\n",
              " Text(0.10742424183003972, 0.35526315789473684, 'x[4] <= 0.436\\ngini = 0.103\\nsamples = 55\\nvalue = [52, 3]'),\n",
              " Text(0.10708958687106764, 0.32894736842105265, 'x[2] <= 0.625\\ngini = 0.136\\nsamples = 41\\nvalue = [38, 3]'),\n",
              " Text(0.10675493191209555, 0.3026315789473684, 'x[3] <= 0.203\\ngini = 0.18\\nsamples = 30\\nvalue = [27, 3]'),\n",
              " Text(0.10642027695312346, 0.27631578947368424, 'x[4] <= 0.409\\ngini = 0.204\\nsamples = 26\\nvalue = [23, 3]'),\n",
              " Text(0.10575096703517929, 0.25, 'x[2] <= 0.375\\ngini = 0.298\\nsamples = 11\\nvalue = [9, 2]'),\n",
              " Text(0.1054163120762072, 0.2236842105263158, 'gini = 0.5\\nsamples = 2\\nvalue = [1, 1]'),\n",
              " Text(0.10608562199415138, 0.2236842105263158, 'gini = 0.198\\nsamples = 9\\nvalue = [8, 1]'),\n",
              " Text(0.10708958687106764, 0.25, 'x[2] <= 0.375\\ngini = 0.124\\nsamples = 15\\nvalue = [14, 1]'),\n",
              " Text(0.10675493191209555, 0.2236842105263158, 'gini = 0.0\\nsamples = 4\\nvalue = [4, 0]'),\n",
              " Text(0.10742424183003972, 0.2236842105263158, 'gini = 0.165\\nsamples = 11\\nvalue = [10, 1]'),\n",
              " Text(0.10708958687106764, 0.27631578947368424, 'gini = 0.0\\nsamples = 4\\nvalue = [4, 0]'),\n",
              " Text(0.10742424183003972, 0.3026315789473684, 'gini = 0.0\\nsamples = 11\\nvalue = [11, 0]'),\n",
              " Text(0.10775889678901181, 0.32894736842105265, 'gini = 0.0\\nsamples = 14\\nvalue = [14, 0]'),\n",
              " Text(0.10876286166592808, 0.35526315789473684, 'x[3] <= 0.211\\ngini = 0.32\\nsamples = 5\\nvalue = [4, 1]'),\n",
              " Text(0.10842820670695599, 0.32894736842105265, 'gini = 0.0\\nsamples = 1\\nvalue = [0, 1]'),\n",
              " Text(0.10909751662490016, 0.32894736842105265, 'gini = 0.0\\nsamples = 4\\nvalue = [4, 0]'),\n",
              " Text(0.1107707914197606, 0.4342105263157895, 'x[5] <= 0.357\\ngini = 0.013\\nsamples = 305\\nvalue = [303, 2]'),\n",
              " Text(0.11043613646078851, 0.40789473684210525, 'gini = 0.0\\nsamples = 208\\nvalue = [208, 0]'),\n",
              " Text(0.11110544637873268, 0.40789473684210525, 'x[2] <= 0.125\\ngini = 0.04\\nsamples = 97\\nvalue = [95, 2]'),\n",
              " Text(0.1107707914197606, 0.3815789473684211, 'x[3] <= 0.205\\ngini = 0.124\\nsamples = 30\\nvalue = [28, 2]'),\n",
              " Text(0.11043613646078851, 0.35526315789473684, 'x[4] <= 0.436\\ngini = 0.165\\nsamples = 22\\nvalue = [20, 2]'),\n",
              " Text(0.10976682654284434, 0.32894736842105265, 'x[4] <= 0.409\\ngini = 0.117\\nsamples = 16\\nvalue = [15, 1]'),\n",
              " Text(0.10943217158387225, 0.3026315789473684, 'x[3] <= 0.2\\ngini = 0.18\\nsamples = 10\\nvalue = [9, 1]'),\n",
              " Text(0.10909751662490016, 0.27631578947368424, 'gini = 0.0\\nsamples = 2\\nvalue = [2, 0]'),\n",
              " Text(0.10976682654284434, 0.27631578947368424, 'gini = 0.219\\nsamples = 8\\nvalue = [7, 1]'),\n",
              " Text(0.11010148150181642, 0.3026315789473684, 'gini = 0.0\\nsamples = 6\\nvalue = [6, 0]'),\n",
              " Text(0.11110544637873268, 0.32894736842105265, 'x[3] <= 0.199\\ngini = 0.278\\nsamples = 6\\nvalue = [5, 1]'),\n",
              " Text(0.1107707914197606, 0.3026315789473684, 'gini = 0.0\\nsamples = 1\\nvalue = [1, 0]'),\n",
              " Text(0.11144010133770477, 0.3026315789473684, 'gini = 0.32\\nsamples = 5\\nvalue = [4, 1]'),\n",
              " Text(0.11110544637873268, 0.35526315789473684, 'gini = 0.0\\nsamples = 8\\nvalue = [8, 0]'),\n",
              " Text(0.11144010133770477, 0.3815789473684211, 'gini = 0.0\\nsamples = 67\\nvalue = [67, 0]'),\n",
              " Text(0.11441016409858203, 0.4605263157894737, 'x[3] <= 0.198\\ngini = 0.06\\nsamples = 195\\nvalue = [189, 6]'),\n",
              " Text(0.11328070361205124, 0.4342105263157895, 'x[2] <= 0.5\\ngini = 0.375\\nsamples = 4\\nvalue = [3, 1]'),\n",
              " Text(0.11294604865307915, 0.40789473684210525, 'gini = 0.0\\nsamples = 3\\nvalue = [3, 0]'),\n",
              " Text(0.11361535857102333, 0.40789473684210525, 'gini = 0.0\\nsamples = 1\\nvalue = [0, 1]'),\n",
              " Text(0.11553962458511283, 0.4342105263157895, 'x[2] <= 0.875\\ngini = 0.051\\nsamples = 191\\nvalue = [186, 5]'),\n",
              " Text(0.1142846684889675, 0.40789473684210525, 'x[2] <= 0.375\\ngini = 0.042\\nsamples = 185\\nvalue = [181, 4]'),\n",
              " Text(0.11344803109153728, 0.3815789473684211, 'x[3] <= 0.204\\ngini = 0.066\\nsamples = 88\\nvalue = [85, 3]'),\n",
              " Text(0.1131133761325652, 0.35526315789473684, 'x[3] <= 0.204\\ngini = 0.089\\nsamples = 64\\nvalue = [61, 3]'),\n",
              " Text(0.11277872117359311, 0.32894736842105265, 'x[4] <= 0.409\\ngini = 0.061\\nsamples = 63\\nvalue = [61, 2]'),\n",
              " Text(0.11210941125564894, 0.3026315789473684, 'x[5] <= 0.455\\ngini = 0.105\\nsamples = 18\\nvalue = [17, 1]'),\n",
              " Text(0.11177475629667685, 0.27631578947368424, 'gini = 0.0\\nsamples = 10\\nvalue = [10, 0]'),\n",
              " Text(0.11244406621462102, 0.27631578947368424, 'x[3] <= 0.2\\ngini = 0.219\\nsamples = 8\\nvalue = [7, 1]'),\n",
              " Text(0.11210941125564894, 0.25, 'gini = 0.0\\nsamples = 1\\nvalue = [1, 0]'),\n",
              " Text(0.11277872117359311, 0.25, 'x[2] <= 0.125\\ngini = 0.245\\nsamples = 7\\nvalue = [6, 1]'),\n",
              " Text(0.11244406621462102, 0.2236842105263158, 'gini = 0.278\\nsamples = 6\\nvalue = [5, 1]'),\n",
              " Text(0.1131133761325652, 0.2236842105263158, 'gini = 0.0\\nsamples = 1\\nvalue = [1, 0]'),\n",
              " Text(0.11344803109153728, 0.3026315789473684, 'x[2] <= 0.125\\ngini = 0.043\\nsamples = 45\\nvalue = [44, 1]'),\n",
              " Text(0.1131133761325652, 0.27631578947368424, 'gini = 0.0\\nsamples = 27\\nvalue = [27, 0]'),\n",
              " Text(0.11378268605050937, 0.27631578947368424, 'x[4] <= 0.436\\ngini = 0.105\\nsamples = 18\\nvalue = [17, 1]'),\n",
              " Text(0.11344803109153728, 0.25, 'gini = 0.0\\nsamples = 9\\nvalue = [9, 0]'),\n",
              " Text(0.11411734100948145, 0.25, 'x[5] <= 0.455\\ngini = 0.198\\nsamples = 9\\nvalue = [8, 1]'),\n",
              " Text(0.11378268605050937, 0.2236842105263158, 'gini = 0.32\\nsamples = 5\\nvalue = [4, 1]'),\n",
              " Text(0.11445199596845354, 0.2236842105263158, 'gini = 0.0\\nsamples = 4\\nvalue = [4, 0]'),\n",
              " Text(0.11344803109153728, 0.32894736842105265, 'gini = 0.0\\nsamples = 1\\nvalue = [0, 1]'),\n",
              " Text(0.11378268605050937, 0.35526315789473684, 'gini = 0.0\\nsamples = 24\\nvalue = [24, 0]'),\n",
              " Text(0.11512130588639771, 0.3815789473684211, 'x[4] <= 0.436\\ngini = 0.02\\nsamples = 97\\nvalue = [96, 1]'),\n",
              " Text(0.11478665092742563, 0.35526315789473684, 'gini = 0.0\\nsamples = 69\\nvalue = [69, 0]'),\n",
              " Text(0.1154559608453698, 0.35526315789473684, 'x[5] <= 0.455\\ngini = 0.069\\nsamples = 28\\nvalue = [27, 1]'),\n",
              " Text(0.11512130588639771, 0.32894736842105265, 'x[2] <= 0.625\\ngini = 0.105\\nsamples = 18\\nvalue = [17, 1]'),\n",
              " Text(0.11478665092742563, 0.3026315789473684, 'x[3] <= 0.205\\ngini = 0.142\\nsamples = 13\\nvalue = [12, 1]'),\n",
              " Text(0.11445199596845354, 0.27631578947368424, 'gini = 0.153\\nsamples = 12\\nvalue = [11, 1]'),\n",
              " Text(0.11512130588639771, 0.27631578947368424, 'gini = 0.0\\nsamples = 1\\nvalue = [1, 0]'),\n",
              " Text(0.1154559608453698, 0.3026315789473684, 'gini = 0.0\\nsamples = 5\\nvalue = [5, 0]'),\n",
              " Text(0.11579061580434188, 0.32894736842105265, 'gini = 0.0\\nsamples = 10\\nvalue = [10, 0]'),\n",
              " Text(0.11679458068125814, 0.40789473684210525, 'x[5] <= 0.455\\ngini = 0.278\\nsamples = 6\\nvalue = [5, 1]'),\n",
              " Text(0.11645992572228606, 0.3815789473684211, 'x[4] <= 0.409\\ngini = 0.375\\nsamples = 4\\nvalue = [3, 1]'),\n",
              " Text(0.11612527076331397, 0.35526315789473684, 'gini = 0.0\\nsamples = 2\\nvalue = [2, 0]'),\n",
              " Text(0.11679458068125814, 0.35526315789473684, 'x[3] <= 0.205\\ngini = 0.5\\nsamples = 2\\nvalue = [1, 1]'),\n",
              " Text(0.11645992572228606, 0.32894736842105265, 'gini = 0.0\\nsamples = 1\\nvalue = [0, 1]'),\n",
              " Text(0.11712923564023023, 0.32894736842105265, 'gini = 0.0\\nsamples = 1\\nvalue = [1, 0]'),\n",
              " Text(0.11712923564023023, 0.3815789473684211, 'gini = 0.0\\nsamples = 2\\nvalue = [2, 0]'),\n",
              " Text(0.12187715287064671, 0.5131578947368421, 'x[3] <= 0.203\\ngini = 0.024\\nsamples = 987\\nvalue = [975, 12]'),\n",
              " Text(0.11947182035303483, 0.4868421052631579, 'x[3] <= 0.203\\ngini = 0.064\\nsamples = 91\\nvalue = [88, 3]'),\n",
              " Text(0.11880251043509066, 0.4605263157894737, 'x[3] <= 0.2\\ngini = 0.044\\nsamples = 89\\nvalue = [87, 2]'),\n",
              " Text(0.11846785547611857, 0.4342105263157895, 'gini = 0.0\\nsamples = 63\\nvalue = [63, 0]'),\n",
              " Text(0.11913716539406274, 0.4342105263157895, 'x[3] <= 0.201\\ngini = 0.142\\nsamples = 26\\nvalue = [24, 2]'),\n",
              " Text(0.11880251043509066, 0.40789473684210525, 'x[5] <= 0.318\\ngini = 0.375\\nsamples = 8\\nvalue = [6, 2]'),\n",
              " Text(0.11846785547611857, 0.3815789473684211, 'x[5] <= 0.261\\ngini = 0.444\\nsamples = 3\\nvalue = [1, 2]'),\n",
              " Text(0.11813320051714649, 0.35526315789473684, 'x[4] <= 0.518\\ngini = 0.5\\nsamples = 2\\nvalue = [1, 1]'),\n",
              " Text(0.1177985455581744, 0.32894736842105265, 'gini = 0.0\\nsamples = 1\\nvalue = [1, 0]'),\n",
              " Text(0.11846785547611857, 0.32894736842105265, 'gini = 0.0\\nsamples = 1\\nvalue = [0, 1]'),\n",
              " Text(0.11880251043509066, 0.35526315789473684, 'gini = 0.0\\nsamples = 1\\nvalue = [0, 1]'),\n",
              " Text(0.11913716539406274, 0.3815789473684211, 'gini = 0.0\\nsamples = 5\\nvalue = [5, 0]'),\n",
              " Text(0.11947182035303483, 0.40789473684210525, 'gini = 0.0\\nsamples = 18\\nvalue = [18, 0]'),\n",
              " Text(0.12014113027097902, 0.4605263157894737, 'x[5] <= 0.307\\ngini = 0.5\\nsamples = 2\\nvalue = [1, 1]'),\n",
              " Text(0.11980647531200693, 0.4342105263157895, 'gini = 0.0\\nsamples = 1\\nvalue = [1, 0]'),\n",
              " Text(0.1204757852299511, 0.4342105263157895, 'gini = 0.0\\nsamples = 1\\nvalue = [0, 1]'),\n",
              " Text(0.12428248538825858, 0.4868421052631579, 'x[5] <= 0.318\\ngini = 0.02\\nsamples = 896\\nvalue = [887, 9]'),\n",
              " Text(0.12147975010686736, 0.4605263157894737, 'x[2] <= 0.625\\ngini = 0.006\\nsamples = 359\\nvalue = [358, 1]'),\n",
              " Text(0.12114509514789527, 0.4342105263157895, 'gini = 0.0\\nsamples = 295\\nvalue = [295, 0]'),\n",
              " Text(0.12181440506583945, 0.4342105263157895, 'x[5] <= 0.25\\ngini = 0.031\\nsamples = 64\\nvalue = [63, 1]'),\n",
              " Text(0.12147975010686736, 0.40789473684210525, 'x[4] <= 0.518\\ngini = 0.095\\nsamples = 20\\nvalue = [19, 1]'),\n",
              " Text(0.12114509514789527, 0.3815789473684211, 'x[2] <= 0.875\\ngini = 0.18\\nsamples = 10\\nvalue = [9, 1]'),\n",
              " Text(0.12081044018892319, 0.35526315789473684, 'x[4] <= 0.482\\ngini = 0.219\\nsamples = 8\\nvalue = [7, 1]'),\n",
              " Text(0.1204757852299511, 0.32894736842105265, 'gini = 0.0\\nsamples = 2\\nvalue = [2, 0]'),\n",
              " Text(0.12114509514789527, 0.32894736842105265, 'x[3] <= 0.207\\ngini = 0.278\\nsamples = 6\\nvalue = [5, 1]'),\n",
              " Text(0.12081044018892319, 0.3026315789473684, 'gini = 0.375\\nsamples = 4\\nvalue = [3, 1]'),\n",
              " Text(0.12147975010686736, 0.3026315789473684, 'gini = 0.0\\nsamples = 2\\nvalue = [2, 0]'),\n",
              " Text(0.12147975010686736, 0.35526315789473684, 'gini = 0.0\\nsamples = 2\\nvalue = [2, 0]'),\n",
              " Text(0.12181440506583945, 0.3815789473684211, 'gini = 0.0\\nsamples = 10\\nvalue = [10, 0]'),\n",
              " Text(0.12214906002481153, 0.40789473684210525, 'gini = 0.0\\nsamples = 44\\nvalue = [44, 0]'),\n",
              " Text(0.1270852206696498, 0.4605263157894737, 'x[2] <= 0.125\\ngini = 0.029\\nsamples = 537\\nvalue = [529, 8]'),\n",
              " Text(0.12449164473761613, 0.4342105263157895, 'x[4] <= 0.555\\ngini = 0.053\\nsamples = 182\\nvalue = [177, 5]'),\n",
              " Text(0.12315302490172779, 0.40789473684210525, 'x[5] <= 0.357\\ngini = 0.029\\nsamples = 135\\nvalue = [133, 2]'),\n",
              " Text(0.1228183699427557, 0.3815789473684211, 'gini = 0.0\\nsamples = 57\\nvalue = [57, 0]'),\n",
              " Text(0.12348767986069988, 0.3815789473684211, 'x[3] <= 0.208\\ngini = 0.05\\nsamples = 78\\nvalue = [76, 2]'),\n",
              " Text(0.1228183699427557, 0.35526315789473684, 'x[5] <= 0.361\\ngini = 0.03\\nsamples = 66\\nvalue = [65, 1]'),\n",
              " Text(0.12248371498378362, 0.32894736842105265, 'x[4] <= 0.482\\ngini = 0.091\\nsamples = 21\\nvalue = [20, 1]'),\n",
              " Text(0.12214906002481153, 0.3026315789473684, 'gini = 0.0\\nsamples = 6\\nvalue = [6, 0]'),\n",
              " Text(0.1228183699427557, 0.3026315789473684, 'x[4] <= 0.518\\ngini = 0.124\\nsamples = 15\\nvalue = [14, 1]'),\n",
              " Text(0.12248371498378362, 0.27631578947368424, 'x[3] <= 0.203\\ngini = 0.165\\nsamples = 11\\nvalue = [10, 1]'),\n",
              " Text(0.12214906002481153, 0.25, 'gini = 0.198\\nsamples = 9\\nvalue = [8, 1]'),\n",
              " Text(0.1228183699427557, 0.25, 'gini = 0.0\\nsamples = 2\\nvalue = [2, 0]'),\n",
              " Text(0.12315302490172779, 0.27631578947368424, 'gini = 0.0\\nsamples = 4\\nvalue = [4, 0]'),\n",
              " Text(0.12315302490172779, 0.32894736842105265, 'gini = 0.0\\nsamples = 45\\nvalue = [45, 0]'),\n",
              " Text(0.12415698977864405, 0.35526315789473684, 'x[3] <= 0.209\\ngini = 0.153\\nsamples = 12\\nvalue = [11, 1]'),\n",
              " Text(0.12382233481967196, 0.32894736842105265, 'x[4] <= 0.509\\ngini = 0.5\\nsamples = 2\\nvalue = [1, 1]'),\n",
              " Text(0.12348767986069988, 0.3026315789473684, 'gini = 0.0\\nsamples = 1\\nvalue = [0, 1]'),\n",
              " Text(0.12415698977864405, 0.3026315789473684, 'gini = 0.0\\nsamples = 1\\nvalue = [1, 0]'),\n",
              " Text(0.12449164473761613, 0.32894736842105265, 'gini = 0.0\\nsamples = 10\\nvalue = [10, 0]'),\n",
              " Text(0.1258302645735045, 0.40789473684210525, 'x[5] <= 0.348\\ngini = 0.12\\nsamples = 47\\nvalue = [44, 3]'),\n",
              " Text(0.1251609546555603, 0.3815789473684211, 'x[3] <= 0.208\\ngini = 0.32\\nsamples = 10\\nvalue = [8, 2]'),\n",
              " Text(0.12482629969658822, 0.35526315789473684, 'gini = 0.198\\nsamples = 9\\nvalue = [8, 1]'),\n",
              " Text(0.1254956096145324, 0.35526315789473684, 'gini = 0.0\\nsamples = 1\\nvalue = [0, 1]'),\n",
              " Text(0.12649957449144866, 0.3815789473684211, 'x[5] <= 0.361\\ngini = 0.053\\nsamples = 37\\nvalue = [36, 1]'),\n",
              " Text(0.12616491953247658, 0.35526315789473684, 'gini = 0.0\\nsamples = 15\\nvalue = [15, 0]'),\n",
              " Text(0.12683422945042075, 0.35526315789473684, 'x[5] <= 0.455\\ngini = 0.087\\nsamples = 22\\nvalue = [21, 1]'),\n",
              " Text(0.12649957449144866, 0.32894736842105265, 'x[3] <= 0.203\\ngini = 0.165\\nsamples = 11\\nvalue = [10, 1]'),\n",
              " Text(0.12616491953247658, 0.3026315789473684, 'gini = 0.278\\nsamples = 6\\nvalue = [5, 1]'),\n",
              " Text(0.12683422945042075, 0.3026315789473684, 'gini = 0.0\\nsamples = 5\\nvalue = [5, 0]'),\n",
              " Text(0.12716888440939283, 0.32894736842105265, 'gini = 0.0\\nsamples = 11\\nvalue = [11, 0]'),\n",
              " Text(0.12967879660168347, 0.4342105263157895, 'x[4] <= 0.555\\ngini = 0.017\\nsamples = 355\\nvalue = [352, 3]'),\n",
              " Text(0.12934414164271138, 0.40789473684210525, 'x[5] <= 0.361\\ngini = 0.023\\nsamples = 254\\nvalue = [251, 3]'),\n",
              " Text(0.12850750424528118, 0.3815789473684211, 'x[4] <= 0.482\\ngini = 0.014\\nsamples = 144\\nvalue = [143, 1]'),\n",
              " Text(0.1281728492863091, 0.35526315789473684, 'x[5] <= 0.348\\ngini = 0.04\\nsamples = 49\\nvalue = [48, 1]'),\n",
              " Text(0.127838194327337, 0.32894736842105265, 'x[2] <= 0.375\\ngini = 0.1\\nsamples = 19\\nvalue = [18, 1]'),\n",
              " Text(0.12750353936836492, 0.3026315789473684, 'gini = 0.0\\nsamples = 5\\nvalue = [5, 0]'),\n",
              " Text(0.1281728492863091, 0.3026315789473684, 'x[2] <= 0.625\\ngini = 0.133\\nsamples = 14\\nvalue = [13, 1]'),\n",
              " Text(0.127838194327337, 0.27631578947368424, 'gini = 0.153\\nsamples = 12\\nvalue = [11, 1]'),\n",
              " Text(0.12850750424528118, 0.27631578947368424, 'gini = 0.0\\nsamples = 2\\nvalue = [2, 0]'),\n",
              " Text(0.12850750424528118, 0.32894736842105265, 'gini = 0.0\\nsamples = 30\\nvalue = [30, 0]'),\n",
              " Text(0.12884215920425326, 0.35526315789473684, 'gini = 0.0\\nsamples = 95\\nvalue = [95, 0]'),\n",
              " Text(0.1301807790401416, 0.3815789473684211, 'x[2] <= 0.375\\ngini = 0.036\\nsamples = 110\\nvalue = [108, 2]'),\n",
              " Text(0.12951146912219744, 0.35526315789473684, 'x[5] <= 0.455\\ngini = 0.111\\nsamples = 17\\nvalue = [16, 1]'),\n",
              " Text(0.12917681416322535, 0.32894736842105265, 'x[4] <= 0.518\\ngini = 0.198\\nsamples = 9\\nvalue = [8, 1]'),\n",
              " Text(0.12884215920425326, 0.3026315789473684, 'gini = 0.0\\nsamples = 4\\nvalue = [4, 0]'),\n",
              " Text(0.12951146912219744, 0.3026315789473684, 'gini = 0.32\\nsamples = 5\\nvalue = [4, 1]'),\n",
              " Text(0.12984612408116952, 0.32894736842105265, 'gini = 0.0\\nsamples = 8\\nvalue = [8, 0]'),\n",
              " Text(0.13085008895808578, 0.35526315789473684, 'x[2] <= 0.625\\ngini = 0.021\\nsamples = 93\\nvalue = [92, 1]'),\n",
              " Text(0.1305154339991137, 0.32894736842105265, 'gini = 0.0\\nsamples = 65\\nvalue = [65, 0]'),\n",
              " Text(0.13118474391705787, 0.32894736842105265, 'x[5] <= 0.455\\ngini = 0.069\\nsamples = 28\\nvalue = [27, 1]'),\n",
              " Text(0.13085008895808578, 0.3026315789473684, 'gini = 0.0\\nsamples = 11\\nvalue = [11, 0]'),\n",
              " Text(0.13151939887602995, 0.3026315789473684, 'x[2] <= 0.875\\ngini = 0.111\\nsamples = 17\\nvalue = [16, 1]'),\n",
              " Text(0.13118474391705787, 0.27631578947368424, 'x[4] <= 0.482\\ngini = 0.18\\nsamples = 10\\nvalue = [9, 1]'),\n",
              " Text(0.13085008895808578, 0.25, 'gini = 0.0\\nsamples = 3\\nvalue = [3, 0]'),\n",
              " Text(0.13151939887602995, 0.25, 'x[4] <= 0.518\\ngini = 0.245\\nsamples = 7\\nvalue = [6, 1]'),\n",
              " Text(0.13118474391705787, 0.2236842105263158, 'x[3] <= 0.207\\ngini = 0.375\\nsamples = 4\\nvalue = [3, 1]'),\n",
              " Text(0.13085008895808578, 0.19736842105263158, 'gini = 0.444\\nsamples = 3\\nvalue = [2, 1]'),\n",
              " Text(0.13151939887602995, 0.19736842105263158, 'gini = 0.0\\nsamples = 1\\nvalue = [1, 0]'),\n",
              " Text(0.13185405383500204, 0.2236842105263158, 'gini = 0.0\\nsamples = 3\\nvalue = [3, 0]'),\n",
              " Text(0.13185405383500204, 0.27631578947368424, 'gini = 0.0\\nsamples = 7\\nvalue = [7, 0]'),\n",
              " Text(0.13001345156065555, 0.40789473684210525, 'gini = 0.0\\nsamples = 101\\nvalue = [101, 0]'),\n",
              " Text(0.10105468601913546, 0.7763157894736842, 'x[2] <= 0.375\\ngini = 0.278\\nsamples = 48\\nvalue = [40, 8]'),\n",
              " Text(0.10021804862170525, 0.75, 'x[4] <= 0.555\\ngini = 0.444\\nsamples = 18\\nvalue = [12, 6]'),\n",
              " Text(0.09988339366273316, 0.7236842105263158, 'x[4] <= 0.464\\ngini = 0.48\\nsamples = 15\\nvalue = [9, 6]'),\n",
              " Text(0.09921408374478899, 0.6973684210526315, 'x[3] <= 0.139\\ngini = 0.346\\nsamples = 9\\nvalue = [7, 2]'),\n",
              " Text(0.0988794287858169, 0.6710526315789473, 'gini = 0.0\\nsamples = 3\\nvalue = [3, 0]'),\n",
              " Text(0.09954873870376107, 0.6710526315789473, 'x[5] <= 0.218\\ngini = 0.444\\nsamples = 6\\nvalue = [4, 2]'),\n",
              " Text(0.09921408374478899, 0.6447368421052632, 'gini = 0.0\\nsamples = 1\\nvalue = [0, 1]'),\n",
              " Text(0.09988339366273316, 0.6447368421052632, 'x[3] <= 0.172\\ngini = 0.32\\nsamples = 5\\nvalue = [4, 1]'),\n",
              " Text(0.09954873870376107, 0.618421052631579, 'gini = 0.0\\nsamples = 1\\nvalue = [0, 1]'),\n",
              " Text(0.10021804862170525, 0.618421052631579, 'gini = 0.0\\nsamples = 4\\nvalue = [4, 0]'),\n",
              " Text(0.10055270358067733, 0.6973684210526315, 'x[4] <= 0.509\\ngini = 0.444\\nsamples = 6\\nvalue = [2, 4]'),\n",
              " Text(0.10021804862170525, 0.6710526315789473, 'gini = 0.0\\nsamples = 3\\nvalue = [0, 3]'),\n",
              " Text(0.10088735853964942, 0.6710526315789473, 'x[5] <= 0.352\\ngini = 0.444\\nsamples = 3\\nvalue = [2, 1]'),\n",
              " Text(0.10055270358067733, 0.6447368421052632, 'gini = 0.0\\nsamples = 2\\nvalue = [2, 0]'),\n",
              " Text(0.1012220134986215, 0.6447368421052632, 'gini = 0.0\\nsamples = 1\\nvalue = [0, 1]'),\n",
              " Text(0.10055270358067733, 0.7236842105263158, 'gini = 0.0\\nsamples = 3\\nvalue = [3, 0]'),\n",
              " Text(0.10189132341656568, 0.75, 'x[5] <= 0.361\\ngini = 0.124\\nsamples = 30\\nvalue = [28, 2]'),\n",
              " Text(0.10155666845759359, 0.7236842105263158, 'gini = 0.0\\nsamples = 22\\nvalue = [22, 0]'),\n",
              " ...]"
            ]
          },
          "metadata": {},
          "execution_count": 17
        },
        {
          "output_type": "display_data",
          "data": {
            "text/plain": [
              "<Figure size 640x480 with 1 Axes>"
            ],
            "image/png": "[encoded data removed]"
          },
          "metadata": {}
        }
      ]
    },
    {
      "cell_type": "markdown",
      "source": [
        "###Decision Tree: Max-depth = 4"
      ],
      "metadata": {
        "id": "eDO0Bb1IxIs_"
      }
    },
    {
      "cell_type": "code",
      "source": [
        "clf = tree.DecisionTreeClassifier(max_depth = 4)\n",
        "clf.fit(x_train.values, y_train.values)\n",
        "print(f'Accuracy for decision tree with 4 as maximum depth: ', clf.score(x_test, y_test))\n",
        "tree.plot_tree(clf)"
      ],
      "metadata": {
        "id": "QEkmSvGTwD_v",
        "colab": {
          "base_uri": "https://localhost:8080/",
          "height": 679
        },
        "outputId": "93986dc0-f0f8-4e78-ff2a-68bdf70cb5f8"
      },
      "execution_count": 35,
      "outputs": [
        {
          "output_type": "stream",
          "name": "stdout",
          "text": [
            "Accuracy for decision tree with 4 as maximum depth:  0.9716009570373453\n"
          ]
        },
        {
          "output_type": "stream",
          "name": "stderr",
          "text": [
            "/usr/local/lib/python3.10/dist-packages/sklearn/base.py:432: UserWarning: X has feature names, but DecisionTreeClassifier was fitted without feature names\n",
            "  warnings.warn(\n"
          ]
        },
        {
          "output_type": "execute_result",
          "data": {
            "text/plain": [
              "[Text(0.75, 0.9, 'x[4] <= 0.582\\ngini = 0.161\\nsamples = 76902\\nvalue = [70116, 6786]'),\n",
              " Text(0.625, 0.7, 'x[5] <= 0.591\\ngini = 0.095\\nsamples = 73819\\nvalue = [70116, 3703]'),\n",
              " Text(0.5, 0.5, 'x[6] <= 0.833\\ngini = 0.061\\nsamples = 72381\\nvalue = [70116, 2265]'),\n",
              " Text(0.25, 0.3, 'x[3] <= 0.341\\ngini = 0.021\\nsamples = 46401\\nvalue = [45901, 500]'),\n",
              " Text(0.125, 0.1, 'gini = 0.017\\nsamples = 44166\\nvalue = [43795, 371]'),\n",
              " Text(0.375, 0.1, 'gini = 0.109\\nsamples = 2235\\nvalue = [2106, 129]'),\n",
              " Text(0.75, 0.3, 'x[4] <= 0.336\\ngini = 0.127\\nsamples = 25980\\nvalue = [24215, 1765]'),\n",
              " Text(0.625, 0.1, 'gini = 0.0\\nsamples = 10031\\nvalue = [10031, 0]'),\n",
              " Text(0.875, 0.1, 'gini = 0.197\\nsamples = 15949\\nvalue = [14184, 1765]'),\n",
              " Text(0.75, 0.5, 'gini = 0.0\\nsamples = 1438\\nvalue = [0, 1438]'),\n",
              " Text(0.875, 0.7, 'gini = 0.0\\nsamples = 3083\\nvalue = [0, 3083]')]"
            ]
          },
          "metadata": {},
          "execution_count": 35
        },
        {
          "output_type": "display_data",
          "data": {
            "text/plain": [
              "<Figure size 640x480 with 1 Axes>"
            ],
            "image/png": "[encoded data removed]"
          },
          "metadata": {}
        }
      ]
    },
    {
      "cell_type": "markdown",
      "source": [
        "The decision tree with `max_depth=4` is way more interpretable than the other with no constraints. You could interpret this last cited tree, but is so difficult; we can see it from the fact that you can't even see what's written inside tree nodes."
      ],
      "metadata": {
        "id": "x5bBwgGvjdjt"
      }
    },
    {
      "cell_type": "markdown",
      "source": [
        "### Analyze Global Interpretability"
      ],
      "metadata": {
        "id": "_4J9AJkYkQma"
      }
    },
    {
      "cell_type": "code",
      "source": [
        "#Calculating most discriminant features\n",
        "features = x_train.columns.tolist()\n",
        "importances = clf.feature_importances_\n",
        "feature_importance = list(zip(features, importances))\n",
        "feature_importance.sort(reverse = True, key = lambda f: f[1])\n",
        "#print(feature_importance)\n",
        "print(f'Top 3 most important features: ')\n",
        "print(feature_importance[0:3])\n",
        "\n",
        "#Calculating #nodes, #subdivion and depth of the tree\n",
        "print(f'Number of nodes: {clf.tree_.node_count}')\n",
        "print(f'Number of subdivisions: {int(clf.tree_.node_count/2)}')\n",
        "print(f'Tree depth: {clf.get_depth()}')"
      ],
      "metadata": {
        "colab": {
          "base_uri": "https://localhost:8080/"
        },
        "id": "AH3CMKiRlHGi",
        "outputId": "aac141d7-f861-4393-d137-f5460aa44bcf"
      },
      "execution_count": 36,
      "outputs": [
        {
          "output_type": "stream",
          "name": "stdout",
          "text": [
            "Top 3 most important features: \n",
            "[('HbA1c_level', 0.6650457510459421), ('blood_glucose_level', 0.3205183172380393), ('age_disc_enc', 0.013182497625855268)]\n",
            "Number of nodes: 11\n",
            "Number of subdivisions: 5\n",
            "Tree depth: 4\n"
          ]
        }
      ]
    },
    {
      "cell_type": "markdown",
      "source": [
        "Higher the nodes lower the interpretation of the model is (global and local). This relations is also valid for depth and subdivisions."
      ],
      "metadata": {
        "id": "90JSwFKNqGn6"
      }
    },
    {
      "cell_type": "markdown",
      "source": [
        "### Analyze Local Interpretability"
      ],
      "metadata": {
        "id": "nkwu_yEHkUMB"
      }
    },
    {
      "cell_type": "code",
      "source": [
        "print(y_test.iloc[100])\n",
        "print(y_test.iloc[150])\n",
        "print(y_test.iloc[200])\n",
        "print(f'Path for the 100th test sample:\\n {clf.decision_path(x_test.iloc[100].array.reshape(1, -1))}')\n",
        "print(f'Path for the 150th test sample:\\n {clf.decision_path(x_test.iloc[150].array.reshape(1, -1))}')\n",
        "print(f'Path for the 200th test sample:\\n {clf.decision_path(x_test.iloc[200].array.reshape(1, -1))}')"
      ],
      "metadata": {
        "id": "m1aUiS1NwHWT",
        "colab": {
          "base_uri": "https://localhost:8080/"
        },
        "outputId": "44d218ff-aa1e-4842-a875-8d076b68b5d2"
      },
      "execution_count": 49,
      "outputs": [
        {
          "output_type": "execute_result",
          "data": {
            "text/plain": [
              "0      0\n",
              "1      0\n",
              "2      0\n",
              "3      0\n",
              "4      0\n",
              "      ..\n",
              "96     0\n",
              "97     1\n",
              "98     0\n",
              "99     0\n",
              "100    0\n",
              "Name: diabetes, Length: 101, dtype: int64"
            ]
          },
          "metadata": {},
          "execution_count": 49
        }
      ]
    },
    {
      "cell_type": "markdown",
      "source": [
        "What are the instances allocated in the paths? Go check the graph\n",
        "How the length of these paths contributes to the interpretability of the decision tree locally? Lower the path length, higher the interpretability making explainability easier (depending on fewer choices)."
      ],
      "metadata": {
        "id": "sK6_Z3f3S2xv"
      }
    },
    {
      "cell_type": "markdown",
      "source": [
        "# **Logistic Regression**\n",
        "\n",
        "\n",
        "---\n",
        "\n"
      ],
      "metadata": {
        "id": "D6TkB65PXkug"
      }
    },
    {
      "cell_type": "markdown",
      "source": [
        "* Logistic regression is utilized to estimate probabilities in classification scenarios featuring two potential outcomes.\n",
        "* Unlike linear regression, the interpretation of logistic regression weights varies since the outcome in logistic regression is a probability confined within the range of 0 to 1. These weights undergo transformation through the logistic function, influencing the probability non-linearly."
      ],
      "metadata": {
        "id": "CQrLtZuG0DrG"
      }
    },
    {
      "cell_type": "markdown",
      "source": [
        "When assessing interpretability in Logistic Regression models you have to inspect:\n",
        "\n",
        "1.   **Coefficient Magnitudes (Weights)** → Examine the magnitude and sign of coefficients to understand the impact of each predictor variable on the log-odds of the outcome. Larger magnitude coefficients suggest a stronger influence on the outcome.\n",
        "2. **Odds Ratios** → Calculate and interpret odds ratios for each predictor variable. Odds ratios provide a clear understanding of how the odds of the outcome change with a one-unit increase in the predictor variable.\n",
        "\n",
        "The interpretation of features depends on the feature types:\n",
        "\n",
        "\n",
        "\n",
        "* **Numerical features** : If you increase the value of the analyzed feature by one unit, the estimated odds change by a factor of exp(βj).\n",
        "* **Binary Categorical features** : Changing the feature from the reference category to the other category changes the estimated odds change by a factor of exp(βj).\n"
      ],
      "metadata": {
        "id": "vg2XCCjA2bOY"
      }
    },
    {
      "cell_type": "markdown",
      "source": [
        "\n",
        "\n",
        "---\n",
        "\n",
        "## **Exercise 2**\n",
        "\n",
        "\n",
        "\n",
        "*   Fit a [**Logistic Regression**](https://scikit-learn.org/stable/modules/generated/sklearn.linear_model.LogisticRegression.html#sklearn.linear_model.LogisticRegression) model on the same dataset as before.\n",
        "\n",
        "* Compute the Correlation Matrix.\n",
        "\n",
        "* Evaluate the model using Precision, Recall and F1-score metrics.\n",
        "\n",
        "* Analyze **Interpretability**:\n",
        "\n",
        "\n",
        "> * Visualize the estimated **weights** and **odds ratios** obtained from logistic regression for each feature.\n",
        "* Put them into a tabular form and interpret the logistic regression model for different types of features. Specifically, analyze the ***bmi*** feature and ***gender_Male*** and ***gender_Female*** features.\n",
        "\n",
        "\n",
        "\n",
        "\n",
        "***Hint:***\n",
        "\n",
        "\n",
        "> For displaying metrics use the **classification_report** function from scikit-learn.\n",
        "\n",
        "\n",
        "\n",
        "\n",
        "\n",
        "\n"
      ],
      "metadata": {
        "id": "IMkm58NP3RPb"
      }
    },
    {
      "cell_type": "markdown",
      "source": [
        "## **Solution:**"
      ],
      "metadata": {
        "id": "eOlUbDrl9QNJ"
      }
    },
    {
      "cell_type": "markdown",
      "source": [
        "### Fit the Logistic Regression model and evaluate it"
      ],
      "metadata": {
        "id": "h2wOyuxYwOgu"
      }
    },
    {
      "cell_type": "code",
      "source": [
        "### Write your solution here"
      ],
      "metadata": {
        "id": "t1zmvV0KwUTL"
      },
      "execution_count": null,
      "outputs": []
    },
    {
      "cell_type": "markdown",
      "source": [
        "### Analyze Interpretability"
      ],
      "metadata": {
        "id": "5NSxxtVpwq4T"
      }
    },
    {
      "cell_type": "code",
      "source": [
        "### Write your solution here"
      ],
      "metadata": {
        "id": "SxmARUxKwu-d"
      },
      "execution_count": null,
      "outputs": []
    },
    {
      "cell_type": "markdown",
      "source": [
        "# **KNN**\n",
        "\n",
        "\n",
        "---\n",
        "\n"
      ],
      "metadata": {
        "id": "AS9rfOb6XTLf"
      }
    },
    {
      "cell_type": "markdown",
      "source": [
        "* In KNN, the prediction for a new data point is determined by the majority class (for classification) or the mean of the closest k neighbors' values (for regression) among the training data points, where *k* is a user-defined parameter.\n",
        "\n",
        "* Finding *k* can be tricky and you typically use techniques like cross-validation, grid search, or random search."
      ],
      "metadata": {
        "id": "AKlF4cR4lTx-"
      }
    },
    {
      "cell_type": "markdown",
      "source": [
        "The interpretation and explanation of KNN does not follow procedures similar to the ones above. This because the KNN is an **instance-based learning algorithm** and so the **interpretation** can be done ***by-example***.\n",
        "\n",
        "To explain a prediction in KNN:\n",
        "\n",
        "\n",
        "\n",
        "1.   Retrieve the *k neighbors* that were used for the prediction.\n",
        "2.   Analyze the k neighbors.\n",
        "\n",
        "Hence, KNN offers a **local explanation** of the prediction as we explain the prediction of an individual instance by its closest example.\n",
        "\n"
      ],
      "metadata": {
        "id": "J7Q_HfpMW7dT"
      }
    },
    {
      "cell_type": "markdown",
      "source": [
        "\n",
        "\n",
        "---\n",
        "\n",
        "## **Exercise 3**\n",
        "\n",
        "\n",
        "* Search for a **resonable** ***k*** parameter iterating over a range (1, 15) using a [GridSearchCV](https://scikit-learn.org/stable/modules/generated/sklearn.model_selection.GridSearchCV.html).\n",
        "\n",
        "* Use the **best k** already found and fit a [**KNN**](https://scikit-learn.org/stable/modules/generated/sklearn.neighbors.KNeighborsClassifier.html) on the same dataset as before.\n",
        "\n",
        "* Evaluate the KNN calculating the **mean accuracy** over test dataset.\n",
        "\n",
        "* Analyze **Interpretability**:\n",
        "\n",
        "\n",
        "> * Consider the instances 100, 150 and 200 of the train dataset.\n",
        "* **Check** the **predicted target** for each instance.\n",
        "* **Retrieve** the relative k-nearest neighbors.\n",
        "* To **explain** the **predicted target** check the predicted targets for each of the k-nearest neighbors.\n",
        "\n",
        "\n",
        "\n",
        "***Hint:***\n",
        "\n",
        "\n",
        "> For calculating the mean accuracy you can use the [score( )](https://scikit-learn.org/stable/modules/generated/sklearn.neighbors.KNeighborsClassifier.html#sklearn.neighbors.KNeighborsClassifier.score) function from scikit-learn.\n",
        "\n",
        "\n",
        "\n",
        "\n",
        "\n",
        "\n"
      ],
      "metadata": {
        "id": "T_DnK6lCZb0a"
      }
    },
    {
      "cell_type": "markdown",
      "source": [
        "## **Solution:**"
      ],
      "metadata": {
        "id": "713m7jq8ZK9Y"
      }
    },
    {
      "cell_type": "markdown",
      "source": [
        "### Search for a reasonable ***K*** parameter and fit the KNN classifier"
      ],
      "metadata": {
        "id": "s8mVL9EhccTj"
      }
    },
    {
      "cell_type": "code",
      "source": [
        "### Write your solution here"
      ],
      "metadata": {
        "id": "8szqjodvwadv"
      },
      "execution_count": null,
      "outputs": []
    },
    {
      "cell_type": "markdown",
      "source": [
        "### Analyze interpretability"
      ],
      "metadata": {
        "id": "I0svxFGeekzr"
      }
    },
    {
      "cell_type": "markdown",
      "source": [
        "\n",
        "\n",
        "---\n",
        "Instance 100\n"
      ],
      "metadata": {
        "id": "cy_x1PbowgiG"
      }
    },
    {
      "cell_type": "code",
      "source": [
        "### Write your solution here"
      ],
      "metadata": {
        "id": "bRrMfABswfp8"
      },
      "execution_count": null,
      "outputs": []
    },
    {
      "cell_type": "markdown",
      "source": [
        "\n",
        "\n",
        "---\n",
        "\n",
        "\n",
        "Instance 150"
      ],
      "metadata": {
        "id": "8_Pcqw9DvHVb"
      }
    },
    {
      "cell_type": "code",
      "source": [
        "### Write your solution here"
      ],
      "metadata": {
        "id": "K4hqPtNhwkF1"
      },
      "execution_count": null,
      "outputs": []
    },
    {
      "cell_type": "markdown",
      "source": [
        "\n",
        "\n",
        "---\n",
        "\n",
        "\n",
        "Instance 200"
      ],
      "metadata": {
        "id": "7YKeau2Iva4D"
      }
    },
    {
      "cell_type": "code",
      "source": [
        "### Write your solution here"
      ],
      "metadata": {
        "id": "F4P6cVQtwlZW"
      },
      "execution_count": null,
      "outputs": []
    }
  ]
}