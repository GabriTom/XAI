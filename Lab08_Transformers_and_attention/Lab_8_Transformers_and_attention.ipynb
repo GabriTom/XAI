{
  "cells": [
    {
      "cell_type": "markdown",
      "id": "976839e8",
      "metadata": {
        "papermill": {
          "duration": 0.013333,
          "end_time": "2022-04-09T14:37:30.852431",
          "exception": false,
          "start_time": "2022-04-09T14:37:30.839098",
          "status": "completed"
        },
        "tags": [],
        "id": "976839e8"
      },
      "source": [
        "\n",
        "# Lab 8: Transformers and Attention-based Explainability\n",
        "\n",
        "In this laboratory, we will discuss the most impactful architecture over the last 5 years: the Transformer model.\n",
        "Since the paper [Attention Is All You Need](https://arxiv.org/abs/1706.03762) by Vaswani et al. had been published in 2017,\n",
        "the Transformer architecture has continued to beat benchmarks in many domains, prominently in Natural Language Processing but also in many related fields (e.g., [Computer Vision](https://arxiv.org/abs/2010.11929)).\n",
        "\n",
        "Here are three examples of the amazing Transformer applications:\n",
        "\n",
        "*   [The Guardian](https://www.theguardian.com/commentisfree/2020/sep/08/robot-wrote-this-article-gpt-3) newspaper article written with GPT2\n",
        "*   [DALL·E 2](https://openai.com/dall-e-2/): text 2 image generator\n",
        "*   [GATO](https://arxiv.org/pdf/2205.06175.pdf): multi-modal multi-task learning model\n",
        "\n",
        "\n",
        "As the hype of the Transformer architecture seems not to come to an end in the next years, it is important to understand how it works, and have implemented it yourself, which we will do in this notebook.\n",
        "\n",
        "<!-- For this notebook we will employ [Pytorch Ligthining](https://pytorch-lightning.readthedocs.io/en/stable/), which is a high-level Pytorch library particularly suited for Transformers  -->\n"
      ]
    },
    {
      "cell_type": "markdown",
      "id": "acbeb1c6",
      "metadata": {
        "papermill": {
          "duration": 0.011303,
          "end_time": "2022-04-09T14:37:30.875464",
          "exception": false,
          "start_time": "2022-04-09T14:37:30.864161",
          "status": "completed"
        },
        "tags": [],
        "id": "acbeb1c6"
      },
      "source": [
        "## Setup\n",
        "This notebook requires some packages besides pytorch-lightning. It may take a while to setup the environment. After that you will also need to **restart** the runtime."
      ]
    },
    {
      "cell_type": "markdown",
      "id": "3788f0d0",
      "metadata": {
        "papermill": {
          "duration": 0.011526,
          "end_time": "2022-04-09T14:37:34.434868",
          "exception": false,
          "start_time": "2022-04-09T14:37:34.423342",
          "status": "completed"
        },
        "tags": [],
        "id": "3788f0d0"
      },
      "source": [
        "\n",
        "Below, we import some standard libraries."
      ]
    },
    {
      "cell_type": "code",
      "execution_count": null,
      "id": "58c0e503",
      "metadata": {
        "execution": {
          "iopub.execute_input": "2022-04-09T14:37:34.458897Z",
          "iopub.status.busy": "2022-04-09T14:37:34.458462Z",
          "iopub.status.idle": "2022-04-09T14:37:37.002927Z",
          "shell.execute_reply": "2022-04-09T14:37:37.002262Z"
        },
        "papermill": {
          "duration": 2.558559,
          "end_time": "2022-04-09T14:37:37.004560",
          "exception": false,
          "start_time": "2022-04-09T14:37:34.446001",
          "status": "completed"
        },
        "tags": [],
        "id": "58c0e503",
        "outputId": "6f45a8f8-8794-4106-c310-9f17b6c50166",
        "colab": {
          "base_uri": "https://localhost:8080/"
        }
      },
      "outputs": [
        {
          "output_type": "stream",
          "name": "stdout",
          "text": [
            "Device: cuda:0\n"
          ]
        }
      ],
      "source": [
        "# Standard libraries\n",
        "import math\n",
        "import os\n",
        "import urllib.request\n",
        "from functools import partial\n",
        "from urllib.error import HTTPError\n",
        "from tqdm.notebook import tqdm\n",
        "import random\n",
        "\n",
        "# Plotting\n",
        "import matplotlib\n",
        "import matplotlib.pyplot as plt\n",
        "import numpy as np\n",
        "import seaborn as sns\n",
        "\n",
        "# PyTorch\n",
        "import torch\n",
        "import torch.nn as nn\n",
        "import torch.nn.functional as F\n",
        "import torch.optim as optim\n",
        "import torch.utils.data as data\n",
        "\n",
        "\n",
        "%matplotlib inline\n",
        "\n",
        "# Path to the folder where the datasets are/should be downloaded (e.g. CIFAR10)\n",
        "DATASET_PATH = \"data/\"\n",
        "# Path to the folder where the pretrained models are saved\n",
        "CHECKPOINT_PATH = \"saved_models/\"\n",
        "\n",
        "# Set seed to ensure that all operations are deterministic for reproducibility\n",
        "torch.manual_seed(0)\n",
        "np.random.seed(0)\n",
        "random.seed(0)\n",
        "torch.backends.cudnn.determinstic = True\n",
        "torch.backends.cudnn.benchmark = False\n",
        "\n",
        "device = torch.device(\"cuda:0\") if torch.cuda.is_available() else torch.device(\"cpu\")\n",
        "print(\"Device:\", device)"
      ]
    },
    {
      "cell_type": "markdown",
      "id": "44446fb8",
      "metadata": {
        "papermill": {
          "duration": 0.011934,
          "end_time": "2022-04-09T14:37:37.376064",
          "exception": false,
          "start_time": "2022-04-09T14:37:37.364130",
          "status": "completed"
        },
        "tags": [],
        "id": "44446fb8"
      },
      "source": [
        "## The Transformer architecture\n",
        "\n",
        "In this notebook, we will implement the Transformer architecture by hand.\n",
        "As the architecture is so popular, there already exists a Pytorch module `nn.Transformer`\n",
        "([documentation](https://pytorch.org/docs/stable/generated/torch.nn.Transformer.html))\n",
        "and a [tutorial](https://pytorch.org/tutorials/beginner/transformer_tutorial.html)\n",
        "on how to use it for next token prediction.\n",
        "However, we will implement it here ourselves, to get through to the smallest details.\n",
        "\n",
        "There are of course many more tutorials out there about attention and Transformers.\n",
        "Below, we list a few that are worth exploring if you are interested in the topic\n",
        "and might want yet another perspective on the topic after this one:\n",
        "\n",
        "* [Transformer: A Novel Neural Network Architecture for Language Understanding\n",
        "(Jakob Uszkoreit, 2017)](https://ai.googleblog.com/2017/08/transformer-novel-neural-network.html) - The original Google blog post about the Transformer paper, focusing on the application in machine translation.\n",
        "* [The Illustrated Transformer (Jay Alammar, 2018)](http://jalammar.github.io/illustrated-transformer/) - A very popular and great blog post intuitively explaining the Transformer architecture with many nice visualizations.\n",
        "The focus is on NLP.\n",
        "* [Attention?\n",
        "Attention!\n",
        "(Lilian Weng, 2018)](https://lilianweng.github.io/lil-log/2018/06/24/attention-attention.html) - A nice blog post summarizing attention mechanisms in many domains including vision.\n",
        "* [Illustrated: Self-Attention (Raimi Karim, 2019)](https://towardsdatascience.com/illustrated-self-attention-2d627e33b20a) - A nice visualization of the steps of self-attention.\n",
        "Recommended going through if the explanation below is too abstract for you.\n",
        "* [The Transformer family (Lilian Weng, 2020)](https://lilianweng.github.io/lil-log/2020/04/07/the-transformer-family.html) - A very detailed blog post reviewing more variants of Transformers besides the original one."
      ]
    },
    {
      "cell_type": "markdown",
      "id": "899fbed7",
      "metadata": {
        "papermill": {
          "duration": 0.011614,
          "end_time": "2022-04-09T14:37:37.399352",
          "exception": false,
          "start_time": "2022-04-09T14:37:37.387738",
          "status": "completed"
        },
        "tags": [],
        "id": "899fbed7"
      },
      "source": [
        "### What is Attention?\n",
        "\n",
        "<center width=\"100%\" style=\"padding:25px\"><img src=\"https://github.com/PyTorchLightning/lightning-tutorials/raw/main/course_UvA-DL/05-transformers-and-MH-attention/attention_example.svg\" width=\"750px\"></center>\n",
        "\n",
        "<!-- The attention mechanism describes a recent new group of layers in neural networks that has attracted\n",
        "a lot of interest in the past few years, especially in sequence tasks. -->\n",
        "<!-- There are a lot of different possible definitions of \"attention\" in the literature,\n",
        "but the one we will use here is the following:  -->\n",
        "<!-- The goal is to take an average over the features of multiple elements.\n",
        "However, instead of weighting each element equally, we want to weight them depending on their actual values. -->\n",
        "<!-- In other words, we want to dynamically decide on which inputs we want to \"attend\" more than others. -->\n",
        "\n",
        "The attention mechanism describes a weighted average of (sequence) elements with the weights dynamically computed based on input queries and elements' keys.\n",
        "This average has to represent:\n",
        "* The numerical representation of the elements of the input sequence (**values**).\n",
        "* The correlations among the elements (for self-attention) or with the output elements (for language models)(**queries**).\n",
        "* The relevant features of each input elements with respect to the task at hand (**keys**).\n",
        "\n",
        "\n",
        "Also, we need to specify a score function $f_{attn}$ that takes the query and a key as input, and output the score/attention weight of the query-key pair.\n",
        "The weights of the average are calculated by a softmax over all score function outputs.\n",
        "Hence,\n",
        "\n",
        "> We assign higher attention scores to those values whose corresponding key is most similar to the query.\n",
        "\n",
        "\n",
        "If we try to describe it with pseudo-math, we can write:\n",
        "\n",
        "$$\n",
        "\\alpha_i = \\frac{\\exp\\left(f_{attn}\\left(\\text{key}_i, \\text{query}\\right)\\right)}{\\sum_j \\exp\\left(f_{attn}\\left(\\text{key}_j, \\text{query}\\right)\\right)}, \\hspace{5mm} \\text{out} = \\sum_i \\alpha_i \\cdot \\text{value}_i\n",
        "$$\n",
        "\n",
        "Visually, we can show the attention over a sequence of words as follows:\n",
        "\n",
        "<!-- For every word, we have one key and one value vector. -->\n",
        "<!-- The query is compared to all keys with a score function to determine the weights. The softmax is not visualized for simplicity.\n",
        "Finally, the value vectors of all words are averaged using the attention weights. -->\n",
        "\n",
        "Most attention mechanisms differ in terms of what queries they use, how the key and value vectors are defined, and what score function is used.\n",
        "* The attention applied within the Encoder and the Decoder of Transformers is called **self-attention**.\n",
        "In self-attention, each sequence element provides a key, value, and query.\n",
        "<!-- For each element, we check the similarity of the all sequence elements' keys, and return a different, averaged value vector for each element. -->\n",
        "* In Language models (therefore also in Transformers) between the Encoder and the decoder we have the standard attention or encoder-decoder attention. We use as queries the output of the model, i.e. the decoded or generated output sequence.\n",
        "\n",
        "\n",
        "![Attention Mechanism](https://miro.medium.com/max/1100/1*_92bnsMJy8Bl539G4v93yg.gif)\n",
        "\n",
        "We will now go into a bit more detail by first looking at the specific implementation of the attention mechanism which in the Transformer is the scaled dot product attention."
      ]
    },
    {
      "cell_type": "markdown",
      "id": "baf076f5",
      "metadata": {
        "lines_to_next_cell": 2,
        "papermill": {
          "duration": 0.011622,
          "end_time": "2022-04-09T14:37:37.422711",
          "exception": false,
          "start_time": "2022-04-09T14:37:37.411089",
          "status": "completed"
        },
        "tags": [],
        "id": "baf076f5"
      },
      "source": [
        "### Scaled Dot Product Attention\n",
        "\n",
        "The core concept behind self-attention is the scaled dot product attention.\n",
        "Our goal is to have an attention mechanism comparing each element in a sequence with any other (in an efficient way).\n",
        "\n",
        "The dot product attention takes as input a set of queries\n",
        "$Q\\in\\mathbb{R}^{T\\times d_k}$, keys $K\\in\\mathbb{R}^{T\\times d_k}$\n",
        "and values $V\\in\\mathbb{R}^{T\\times d_v}$ where $T$ is the sequence length,\n",
        "and $d_k$ and $d_v$ are the hidden dimensionality for queries/keys and values respectively.\n",
        "For simplicity, we neglect the batch dimension for now.\n",
        "The attention value from element $i$ to $j$ is based on its similarity of the query $Q_i$ and key $K_j$,\n",
        "using the dot product as the similarity metric.\n",
        "In math, we calculate the dot product attention as follows:\n",
        "\n",
        "$$\\text{Attention}(Q,K,V)=\\text{softmax}\\left(\\frac{QK^T}{\\sqrt{d_k}}\\right)V$$\n",
        "\n",
        "*  The matrix multiplication $QK^T$ performs the dot product for every possible pair of queries and keys,\n",
        "resulting in a matrix $T\\times T$.\n",
        "*  Each row represents the attention logits for a specific element $i$ to all other elements in the sequence.\n",
        "*  On these, we apply a softmax and multiply with the value vector to obtain an average weighted by the attention.\n",
        "\n",
        "The computation graph is visualized below:\n",
        "\n",
        "<center width=\"100%\"><img src=\"https://github.com/PyTorchLightning/lightning-tutorials/raw/main/course_UvA-DL/05-transformers-and-MH-attention/scaled_dot_product_attn.svg\" width=\"210px\"></center>\n",
        "\n",
        "The scaling factor of $1/\\sqrt{d_k}$ is crucial to maintain an appropriate variance of attention values after initialization.\n",
        "Remember that we intialize our layers (therefore also $Q$ and $K$) to have a variance close to $1$.\n",
        "However, performing a dot product over two vectors with a variance $\\sigma$ results\n",
        "in a scalar having $d_k$-times higher variance:\n",
        "\n",
        "<!-- $$q_i \\sim \\mathcal{N}(0,\\sigma), k_i \\sim \\mathcal{N}(0,\\sigma) \\to \\text{Var}\\left(\\sum_{i=1}^{d_k} q_i\\cdot k_i\\right) = \\sigma\\cdot d_k$$\n",
        " -->\n",
        "\n",
        "> If we do not scale down the variance to $\\sigma$, the softmax over the logits will already saturate to $1$ for one random element and $0$ for all others.\n",
        "The gradients through the softmax will be $≈0$ and we wont learn the parameters appropriately (*vanishing gradient*).\n",
        "\n",
        "The masking block `Mask(opt.)` is used to stack **multiple sequences with different lengths into a batch**.\n",
        "To still benefit from parallelization in PyTorch, we pad the sentences to the same length and mask out the padding tokens during the calculation of the attention values.\n",
        "This is usually done by setting the respective attention logits to a very low (negative) values, e.g. $10^{-14}$.\n",
        "\n",
        "Let's now write a function computing the output features given the triple of queries, keys, and values:"
      ]
    },
    {
      "cell_type": "code",
      "execution_count": null,
      "id": "9070779d",
      "metadata": {
        "execution": {
          "iopub.execute_input": "2022-04-09T14:37:37.447403Z",
          "iopub.status.busy": "2022-04-09T14:37:37.446989Z",
          "iopub.status.idle": "2022-04-09T14:37:37.451657Z",
          "shell.execute_reply": "2022-04-09T14:37:37.451096Z"
        },
        "papermill": {
          "duration": 0.018657,
          "end_time": "2022-04-09T14:37:37.453028",
          "exception": false,
          "start_time": "2022-04-09T14:37:37.434371",
          "status": "completed"
        },
        "tags": [],
        "id": "9070779d"
      },
      "outputs": [],
      "source": [
        "def scaled_dot_product(q, k, v, mask=None):\n",
        "    d_k = q.size()[-1]\n",
        "    attn_logits = torch.matmul(q, k.transpose(-2, -1))\n",
        "    attn_logits = attn_logits / math.sqrt(d_k)\n",
        "    if mask is not None:\n",
        "        attn_logits = attn_logits.masked_fill(mask == 0, -10e14)\n",
        "    attention = F.softmax(attn_logits, dim=-1)\n",
        "\n",
        "    # In order to save the gradient of the attention (we will need it later)\n",
        "    attention.requires_grad_(True)\n",
        "    attention.retain_grad()\n",
        "\n",
        "    output_values = torch.matmul(attention, v)\n",
        "\n",
        "    return output_values, attention\n"
      ]
    },
    {
      "cell_type": "markdown",
      "id": "4a475896",
      "metadata": {
        "papermill": {
          "duration": 0.011788,
          "end_time": "2022-04-09T14:37:37.476729",
          "exception": false,
          "start_time": "2022-04-09T14:37:37.464941",
          "status": "completed"
        },
        "tags": [],
        "id": "4a475896"
      },
      "source": [
        "Note that our code above supports any additional dimensionality in front of the sequence length\n",
        "so that we can also use it for batches.\n",
        "However, for a better understanding, let's generate a few random queries, keys, and value vectors,\n",
        "and calculate the attention outputs:"
      ]
    },
    {
      "cell_type": "code",
      "execution_count": null,
      "id": "f6b4422f",
      "metadata": {
        "execution": {
          "iopub.execute_input": "2022-04-09T14:37:37.501387Z",
          "iopub.status.busy": "2022-04-09T14:37:37.501015Z",
          "iopub.status.idle": "2022-04-09T14:37:37.510585Z",
          "shell.execute_reply": "2022-04-09T14:37:37.510000Z"
        },
        "papermill": {
          "duration": 0.023453,
          "end_time": "2022-04-09T14:37:37.511961",
          "exception": false,
          "start_time": "2022-04-09T14:37:37.488508",
          "status": "completed"
        },
        "tags": [],
        "id": "f6b4422f",
        "outputId": "15799e6f-e1e0-4121-9f2a-25d969db3313",
        "colab": {
          "base_uri": "https://localhost:8080/"
        }
      },
      "outputs": [
        {
          "output_type": "stream",
          "name": "stdout",
          "text": [
            "Q: torch.Size([1, 3, 2])\n",
            "tensor([[[ 1.5410, -0.2934],\n",
            "         [-2.1788,  0.5684],\n",
            "         [-1.0845, -1.3986]]])\n",
            "K: torch.Size([1, 3, 2])\n",
            "tensor([[[ 0.4033,  0.8380],\n",
            "         [-0.7193, -0.4033],\n",
            "         [-0.5966,  0.1820]]])\n",
            "V: torch.Size([1, 3, 1])\n",
            "tensor([[[-0.8567],\n",
            "         [ 1.1006],\n",
            "         [-1.0712]]])\n",
            "Attention: torch.Size([1, 3, 3])\n",
            "tensor([[[0.5662, 0.2156, 0.2182],\n",
            "         [0.1249, 0.4274, 0.4477],\n",
            "         [0.0758, 0.6120, 0.3122]]], requires_grad=True)\n",
            "Output: torch.Size([1, 3, 1])\n",
            "tensor([[[-0.4815],\n",
            "         [-0.1161],\n",
            "         [ 0.2741]]], grad_fn=<UnsafeViewBackward0>)\n"
          ]
        }
      ],
      "source": [
        "b_s, seq_len, d_k, d_v = 1, 3, 2, 1\n",
        "q = torch.randn(b_s, seq_len, d_k)\n",
        "k = torch.randn(b_s, seq_len, d_k)\n",
        "v = torch.randn(b_s, seq_len, d_v)\n",
        "# q = torch.tensor([[-0.8920, -1.5091],\n",
        "#         [ 0.3704,  1.4565],\n",
        "#         [ 0.9398,  0.7748]])\n",
        "# k = torch.tensor([[ 0.1919,  1.2638],\n",
        "#         [-1.2904, -0.7911],\n",
        "#         [-0.0209, -0.7185]])\n",
        "# v = torch.tensor([[ 0.5186, -1.3125],\n",
        "#         [ 0.1920,  0.5428],\n",
        "#         [-2.2188,  0.2590]])\n",
        "print(f\"Q: {q.shape}\\n{q}\\nK: {k.shape}\\n{k}\\nV: {v.shape}\\n{v}\")\n",
        "\n",
        "output_values, attention = scaled_dot_product(q, k, v)\n",
        "\n",
        "print(f\"Attention: {attention.shape}\\n{attention}\")\n",
        "print(f\"Output: {output_values.shape}\\n{output_values}\")\n",
        "\n",
        "\n",
        "# assert (output_values - torch.tensor([[-0.4846,  0.4063],\n",
        "#                                       [ 0.2174, -1.0264],\n",
        "#                                       [-0.0766, -0.8279]]) < 1e-4).all(), \\\n",
        "#     f\"Error in computing the attention\"\n",
        "# assert (attention - torch.tensor([[0.0300, 0.6852, 0.2847],\n",
        "#                                   [0.8302, 0.0678, 0.1019],\n",
        "#                                   [0.7071, 0.0857, 0.2072]]) < 1e-4).all(), \\\n",
        "#     f\"Error in computing the attention\""
      ]
    },
    {
      "cell_type": "markdown",
      "id": "8d4dd42f",
      "metadata": {
        "papermill": {
          "duration": 0.011801,
          "end_time": "2022-04-09T14:37:37.535654",
          "exception": false,
          "start_time": "2022-04-09T14:37:37.523853",
          "status": "completed"
        },
        "tags": [],
        "id": "8d4dd42f"
      },
      "source": [
        "Before continuing, make sure you can follow the calculation of the specific values here, and also check it by hand.\n",
        "It is important to fully understand how the scaled dot product attention is calculated."
      ]
    },
    {
      "cell_type": "markdown",
      "id": "738d26e7",
      "metadata": {
        "lines_to_next_cell": 2,
        "papermill": {
          "duration": 0.013673,
          "end_time": "2022-04-09T14:37:37.561299",
          "exception": false,
          "start_time": "2022-04-09T14:37:37.547626",
          "status": "completed"
        },
        "tags": [],
        "id": "738d26e7"
      },
      "source": [
        "### Multi-Head Attention\n",
        "\n",
        "The scaled dot product attention allows a network to attend over a sequence.\n",
        "However, often there are multiple different aspects a sequence element wants to attend to,\n",
        "and a single weighted average is not a good option for it.\n",
        "This is why we extend the attention mechanisms to **multiple heads**,\n",
        "i.e. multiple different query-key-value triplets on the same features.\n",
        "Specifically, given a query, key, and value matrix:\n",
        "* We transform those into $h$ sub-queries, sub-keys, and sub-values,\n",
        "* We pass through the scaled dot product attention independently.\n",
        "* We concatenate the heads and combine them with a final weight matrix.\n",
        "\n",
        "Mathematically,\n",
        "\n",
        "$$\n",
        "\\begin{split}\n",
        "    \\text{Multihead}(Q,K,V) & = \\text{Concat}(\\text{head}_1,...,\\text{head}_h)W^{O}\\\\\n",
        "    \\text{where } \\text{head}_i & = \\text{Attention}(QW_i^Q,KW_i^K, VW_i^V)\n",
        "\\end{split}\n",
        "$$\n",
        "\n",
        "We refer to this as Multi-Head Attention layer with the learnable parameters\n",
        "$W_{1...h}^{Q}\\in\\mathbb{R}^{D\\times d_k}$,\n",
        "$W_{1...h}^{K}\\in\\mathbb{R}^{D\\times d_k}$,\n",
        "$W_{1...h}^{V}\\in\\mathbb{R}^{D\\times d_v}$,\n",
        "and $W^{O}\\in\\mathbb{R}^{h\\cdot d_k\\times d_{out}}$ ($D$ being the input dimensionality).\n",
        "Expressed in a computational graph:\n",
        "\n",
        "<center width=\"100%\"><img src=\"https://github.com/PyTorchLightning/lightning-tutorials/raw/main/course_UvA-DL/05-transformers-and-MH-attention/multihead_attention.svg\" width=\"230px\"></center>\n",
        "\n",
        "What are the Query, the Key and the Value in a NN where we only have the output of the previous layer?\n",
        "\n",
        "Looking at the computation graph above, a possible implementation is to obtain them from the current feature map $X\\in\\mathbb{R}^{B\\times T\\times d_{\\text{model}}}$\n",
        "($B$ being the batch size, $T$ the sequence length, $d_{\\text{model}}$ the hidden dimensionality of $X$).\n",
        "The consecutive weight matrices $W^{Q}$, $W^{K}$, and $W^{V}$ can transform $X$ to the corresponding Queries, Keys, and Values of the input.\n",
        "\n",
        "Using this approach, let's implement the Multi-Head Attention module below."
      ]
    },
    {
      "cell_type": "code",
      "execution_count": null,
      "id": "fa28f1cf",
      "metadata": {
        "execution": {
          "iopub.execute_input": "2022-04-09T14:37:37.586727Z",
          "iopub.status.busy": "2022-04-09T14:37:37.586295Z",
          "iopub.status.idle": "2022-04-09T14:37:37.594515Z",
          "shell.execute_reply": "2022-04-09T14:37:37.593932Z"
        },
        "lines_to_next_cell": 2,
        "papermill": {
          "duration": 0.022557,
          "end_time": "2022-04-09T14:37:37.595903",
          "exception": false,
          "start_time": "2022-04-09T14:37:37.573346",
          "status": "completed"
        },
        "tags": [],
        "id": "fa28f1cf",
        "colab": {
          "base_uri": "https://localhost:8080/"
        },
        "outputId": "656f6149-6846-45d9-a065-f16ee8af2ca9"
      },
      "outputs": [
        {
          "output_type": "stream",
          "name": "stdout",
          "text": [
            "Input x: tensor([[[0.3360, 0.6676, 0.6393],\n",
            "         [0.2083, 0.5484, 0.1204],\n",
            "         [0.3533, 0.3038, 0.9383],\n",
            "         [0.0499, 0.2048, 0.0107],\n",
            "         [0.5019, 0.5082, 0.3027]]])\n",
            "Input x shape: torch.Size([1, 5, 3])\n",
            "MhA Output tensor([[[ 0.0895,  0.0139, -0.2404, -0.0016],\n",
            "         [ 0.0892,  0.0107, -0.2436,  0.0013],\n",
            "         [ 0.0905,  0.0200, -0.2399, -0.0054],\n",
            "         [ 0.0897,  0.0133, -0.2458,  0.0004],\n",
            "         [ 0.0893,  0.0123, -0.2416, -0.0006]]], grad_fn=<ViewBackward0>)\n",
            "torch.Size([1, 2, 5, 5])\n"
          ]
        }
      ],
      "source": [
        "class MultiheadAttention(nn.Module):\n",
        "    def __init__(self, input_dim, embed_dim, num_heads):\n",
        "        super().__init__()\n",
        "        assert embed_dim % num_heads == 0, \"Embedding dimension must be 0 modulo number of heads.\"\n",
        "\n",
        "        self.embed_dim = embed_dim # dimension of concatenated heads\n",
        "        self.num_heads = num_heads\n",
        "        self.head_dim = embed_dim // num_heads\n",
        "\n",
        "        # Stack all weight matrices 1...h together for efficiency\n",
        "        # Note that in many implementations you see \"bias=False\" which is optional\n",
        "        self.qkv_proj = nn.Linear(input_dim, 3 * embed_dim)\n",
        "        self.o_proj = nn.Linear(embed_dim, embed_dim)\n",
        "\n",
        "        self._reset_parameters()\n",
        "\n",
        "    def _reset_parameters(self):\n",
        "        # Original Transformer initialization, see PyTorch documentation\n",
        "        nn.init.xavier_uniform_(self.qkv_proj.weight)\n",
        "        self.qkv_proj.bias.data.fill_(0)\n",
        "        nn.init.xavier_uniform_(self.o_proj.weight)\n",
        "        self.o_proj.bias.data.fill_(0)\n",
        "\n",
        "    def forward(self, x, mask=None, return_attention=False):\n",
        "        batch_size, seq_length, input_dim = x.size()\n",
        "        qkv = self.qkv_proj(x)\n",
        "\n",
        "        # Extract Q, K, V from linear projection of the input\n",
        "        qkv = qkv.reshape(batch_size, seq_length, self.num_heads, 3 * self.head_dim)\n",
        "        qkv = qkv.permute(0, 2, 1, 3)  # [Batch, Head, SeqLen, Dims]\n",
        "        q, k, v = qkv.chunk(3, dim=-1)\n",
        "        # print(f\"Query, key, value shape: {q.shape} {k.shape}\")\n",
        "\n",
        "        # Apply Dot Product Attention\n",
        "        values, attention = scaled_dot_product(q, k, v, mask=mask)\n",
        "\n",
        "        # Concatenate heads\n",
        "        values = values.permute(0, 2, 1, 3)  # [Batch, SeqLen, Head, Dims]\n",
        "        values = values.reshape(batch_size, seq_length, self.embed_dim)\n",
        "\n",
        "        # Output projection\n",
        "        o = self.o_proj(values)\n",
        "\n",
        "        if return_attention:\n",
        "            return o, attention\n",
        "        else:\n",
        "            return o\n",
        "\n",
        "input_d = 3\n",
        "seq_l = 5\n",
        "embed_d = 4\n",
        "n_heads = 2\n",
        "b_size = 1\n",
        "\n",
        "mh_att = MultiheadAttention(input_d, embed_d, n_heads)\n",
        "\n",
        "# x = torch.rand(b_size, seq_l, input_d)\n",
        "x = torch.tensor([[[0.3360, 0.6676, 0.6393],\n",
        "         [0.2083, 0.5484, 0.1204],\n",
        "         [0.3533, 0.3038, 0.9383],\n",
        "         [0.0499, 0.2048, 0.0107],\n",
        "         [0.5019, 0.5082, 0.3027]]])\n",
        "print(f\"Input x: {x}\")\n",
        "print(f\"Input x shape: {x.shape}\")\n",
        "\n",
        "att_output, attention = mh_att(x, return_attention=True)\n",
        "print(f\"MhA Output {att_output}\")\n",
        "assert att_output.shape == torch.Size([1, 5, 4]), \"Error in computing multi-head attention\"\n",
        "print(attention.shape)"
      ]
    },
    {
      "cell_type": "markdown",
      "id": "c83e0f14",
      "metadata": {
        "papermill": {
          "duration": 0.011887,
          "end_time": "2022-04-09T14:37:37.619972",
          "exception": false,
          "start_time": "2022-04-09T14:37:37.608085",
          "status": "completed"
        },
        "tags": [],
        "id": "c83e0f14"
      },
      "source": [
        "#### Attention is permutation equivariant\n",
        "One crucial characteristic of the multi-head attention is that it is permutation-equivariant with respect to its inputs.\n",
        "This means that if we switch two input elements in the sequence, e.g. $X_1\\leftrightarrow X_2$\n",
        "(neglecting the batch dimension for now), the output is exactly the same besides the elements 1 and 2 switched.\n",
        "Hence, **the multi-head attention is looking at the input not as a sequence, but as a set of elements**.\n",
        "This property makes the multi-head attention block and the Transformer architecture so powerful and widely applicable!\n",
        "But what if the order of the input is actually important for solving the task, like language modeling?\n",
        "The answer is to encode the position in the input features, which we will take a closer look at later\n",
        "(topic _Positional encodings_ below).\n"
      ]
    },
    {
      "cell_type": "markdown",
      "id": "0c2468bc",
      "metadata": {
        "lines_to_next_cell": 2,
        "papermill": {
          "duration": 0.012032,
          "end_time": "2022-04-09T14:37:37.645572",
          "exception": false,
          "start_time": "2022-04-09T14:37:37.633540",
          "status": "completed"
        },
        "tags": [],
        "id": "0c2468bc"
      },
      "source": [
        "### Transformer Encoder\n",
        "\n",
        "Next, we will look at how to apply the multi-head attention inside the Transformer architecture.\n",
        "Originally, the Transformer model was designed for machine translation.\n",
        "Hence, it got an encoder-decoder structure where the encoder takes as input the sentence in the original language and generates an attention-based representation.\n",
        "The decoder, instead, attends over the encoded information and generates the translated sentence in an autoregressive manner, as in a standard RNN.\n",
        "\n",
        "While this structure is extremely useful for Sequence-to-Sequence tasks, it is not always necessary and.\n",
        "Many advances in NLP have been made using pure encoder-based Transformer models (e.g. [BERT](https://arxiv.org/abs/1810.04805)-family,\n",
        "the [Vision Transformer](https://arxiv.org/abs/2010.11929), and more). Therefore, we will focus here only on the encoder part.\n",
        "If you have understood the encoder architecture, the decoder is a very small step to implement as well.\n",
        "The full Transformer architecture looks as follows:\n",
        "\n",
        "<center width=\"100%\"><img src=\"https://github.com/PyTorchLightning/lightning-tutorials/raw/main/course_UvA-DL/05-transformers-and-MH-attention/transformer_architecture.svg\" width=\"400px\"></center>\n",
        "\n",
        "The encoder consists of $N$ identical blocks that are applied in sequence.\n",
        "Taking as input $x$, it is first passed through a Multi-Head Attention block as we have implemented above.\n",
        "The output is added to the original input using a residual connection,\n",
        "and we apply a consecutive Layer Normalization on the sum.\n",
        "Overall, it calculates $\\text{LayerNorm}(x+\\text{Multihead}(x,x,x))$\n",
        "($x$ being $Q$, $K$ and $V$ input to the attention layer).\n",
        "\n",
        "The **residual connection** is crucial in the Transformer architecture to:\n",
        "\n",
        "1. Avoid vanishing gradients, as in ResNet, but valid for all deep architectures (Some models contain more than 24 blocks in the encoder)\n",
        "2. Retain the information about the original sequence (remember that Self-Attention do not necessairly consider the input as a sequence)\n",
        "\n",
        "<!-- Remember that the Multi-Head Attention layer ignores the position of elements in a sequence,\n",
        "and can only learn it based on the input features.\n",
        "Removing the residual connections would mean that this information is lost after the first attention layer\n",
        "(after initialization), and with a randomly initialized query and key vector,\n",
        "the output vectors for position $i$ has no relation to its original input.\n",
        "All outputs of the attention are likely to represent similar/same information,\n",
        "and there is no chance for the model to distinguish which information came from which input element.\n",
        "An alternative option to residual connection would be to fix at least one head to focus on its original input,\n",
        "but this is very inefficient and does not have the benefit of the improved gradient flow. -->\n",
        "\n",
        "The **Layer Normalization** also plays an important role in the Transformer architecture as it enables faster training and provides small regularization.\n",
        "Additionally, it ensures that the features are in a similar magnitude among the elements in the sequence.\n",
        "We are not using Batch Normalization because it depends on the batch size which is often small with Transformers.\n",
        "<!-- (they require a lot of GPU memory), and BatchNorm has shown to perform particularly bad in language\n",
        "as the features of words tend to have a much higher variance (there are many, very rare words\n",
        "which need to be considered for a good distribution estimate). -->\n",
        "\n",
        "Additionally to the Multi-Head Attention, a small fully connected **Feed-Forward Network (FFN)** is added to the model,\n",
        "which is applied to each position separately and identically.\n",
        "Specifically, the model uses a Linear$\\to$ReLU$\\to$Linear MLP.\n",
        "The full transformation including the residual connection can be expressed as:\n",
        "\n",
        "$$\n",
        "\\begin{split}\n",
        "    \\text{FFN}(x) & = \\max(0, xW_1+b_1)W_2 + b_2\\\\\n",
        "    \\text{output} & = \\text{LayerNorm}(x + \\text{FFN}(x))\n",
        "\\end{split}\n",
        "$$\n",
        "\n",
        "This MLP adds extra complexity to the model and allows transformations on each sequence element separately.\n",
        "You can imagine as this allows the model to \"post-process\" the new information added\n",
        "by the previous Multi-Head Attention, and prepare it for the next attention block.\n",
        "Usually, the inner dimensionality of the MLP is 2-8$\\times$ larger than $d_{\\text{model}}$,\n",
        "i.e. the dimensionality of the original input $x$.\n",
        "The general advantage of a wider layer instead of a narrow, multi-layer MLP is the faster, parallelizable execution.\n",
        "\n",
        "Finally, after looking at all parts of the encoder architecture, we can start implementing it below.\n",
        "We first start by implementing a single encoder block.\n",
        "*  Additionally to the layers described above, we will add **Dropout layers** in the MLP and on the output of the MLP and Multi-Head Attention for regularization.\n",
        "*  Also, we will assume now on a constant `input_dim = embed_dim` throughout the Transformer and therefore we will instantiate the attention as `MultiheadAttention(input_dim, input_dim, num_heads)`. The dimensionality of the first input will be addressed later."
      ]
    },
    {
      "cell_type": "code",
      "execution_count": null,
      "id": "c55bfef0",
      "metadata": {
        "execution": {
          "iopub.execute_input": "2022-04-09T14:37:37.670726Z",
          "iopub.status.busy": "2022-04-09T14:37:37.670245Z",
          "iopub.status.idle": "2022-04-09T14:37:37.676639Z",
          "shell.execute_reply": "2022-04-09T14:37:37.676067Z"
        },
        "lines_to_next_cell": 2,
        "papermill": {
          "duration": 0.020505,
          "end_time": "2022-04-09T14:37:37.678049",
          "exception": false,
          "start_time": "2022-04-09T14:37:37.657544",
          "status": "completed"
        },
        "tags": [],
        "id": "c55bfef0"
      },
      "outputs": [],
      "source": [
        "class EncoderBlock(nn.Module):\n",
        "    def __init__(self, input_dim, num_heads, dim_feedforward, dropout=0.0):\n",
        "        \"\"\"\n",
        "        Args:\n",
        "            input_dim: Dimensionality of the input\n",
        "            num_heads: Number of heads to use in the attention block\n",
        "            dim_feedforward: Dimensionality of the hidden layer in the MLP\n",
        "            dropout: Dropout probability to use in the dropout layers\n",
        "        \"\"\"\n",
        "        super().__init__()\n",
        "\n",
        "        # Attention layer\n",
        "        self.self_attn = MultiheadAttention(input_dim, input_dim, num_heads)\n",
        "\n",
        "        # Two-layer MLP\n",
        "        self.MLP = nn.Sequential(\n",
        "            nn.Linear(input_dim, dim_feedforward),\n",
        "            nn.Dropout(dropout),\n",
        "            nn.ReLU(inplace=True),\n",
        "            nn.Linear(dim_feedforward, input_dim),\n",
        "        )\n",
        "\n",
        "        # Layers to apply in between the main layers (Layer Norm and Dropout)\n",
        "        self.norm1 = nn.LayerNorm(input_dim)\n",
        "        self.norm2 = nn.LayerNorm(input_dim)\n",
        "        self.dropout = nn.Dropout(dropout)\n",
        "\n",
        "    def forward(self, x, mask=None, return_attention=False):\n",
        "        # Attention part\n",
        "        attn_out, attention = self.self_attn(x, mask, return_attention=True)\n",
        "\n",
        "        x = x + self.dropout(attn_out)\n",
        "        x = self.norm1(x)\n",
        "\n",
        "        # MLP part\n",
        "        mlp_out = self.MLP(x)\n",
        "        x = x + self.dropout(mlp_out)\n",
        "        x = self.norm2(x)\n",
        "\n",
        "        if return_attention:\n",
        "            return x, attention\n",
        "        return x\n"
      ]
    },
    {
      "cell_type": "markdown",
      "id": "0fea27f4",
      "metadata": {
        "lines_to_next_cell": 2,
        "papermill": {
          "duration": 0.011884,
          "end_time": "2022-04-09T14:37:37.702098",
          "exception": false,
          "start_time": "2022-04-09T14:37:37.690214",
          "status": "completed"
        },
        "tags": [],
        "id": "0fea27f4"
      },
      "source": [
        "Based on this block, we can implement a module for the full **Transformer encoder**.\n",
        "Additionally to a `forward` function that iterates through the sequence of encoder blocks, we also provide a function called `get_attention_maps`.\n",
        "The idea of this function is to return the attention probabilities for all Multi-Head Attention blocks in the encoder.\n",
        "They helps us in understanding, and partially, explaining the model.\n",
        "Attention scores may not necessarily reflect the true interpretation of the model (it is disputed in literature, check [Attention is not Explanation](https://arxiv.org/abs/1902.10186)\n",
        "and [Attention is not not Explanation](https://arxiv.org/abs/1908.04626))."
      ]
    },
    {
      "cell_type": "code",
      "execution_count": null,
      "id": "59e4943c",
      "metadata": {
        "execution": {
          "iopub.execute_input": "2022-04-09T14:37:37.727879Z",
          "iopub.status.busy": "2022-04-09T14:37:37.726612Z",
          "iopub.status.idle": "2022-04-09T14:37:37.733398Z",
          "shell.execute_reply": "2022-04-09T14:37:37.732829Z"
        },
        "lines_to_next_cell": 2,
        "papermill": {
          "duration": 0.020849,
          "end_time": "2022-04-09T14:37:37.734822",
          "exception": false,
          "start_time": "2022-04-09T14:37:37.713973",
          "status": "completed"
        },
        "tags": [],
        "id": "59e4943c"
      },
      "outputs": [],
      "source": [
        "class TransformerEncoder(nn.Module):\n",
        "    def __init__(self, num_layers, **block_args):\n",
        "        super().__init__()\n",
        "        self.layers = nn.ModuleList([EncoderBlock(**block_args) for _ in range(num_layers)])\n",
        "\n",
        "    def forward(self, x, mask=None):\n",
        "        for layer in self.layers:\n",
        "            x = layer(x, mask=mask)\n",
        "        return x\n",
        "\n",
        "    def get_attention_maps(self, x, mask=None, return_outputs=False):\n",
        "        attn_maps = []\n",
        "        for layer in self.layers:\n",
        "            x, attn_map = layer(x, mask, return_attention=True)\n",
        "            attn_maps.append(attn_map)\n",
        "        if return_outputs:\n",
        "            return x, attn_maps\n",
        "        return attn_maps"
      ]
    },
    {
      "cell_type": "markdown",
      "id": "a5d9e15f",
      "metadata": {
        "lines_to_next_cell": 2,
        "papermill": {
          "duration": 0.011928,
          "end_time": "2022-04-09T14:37:37.758957",
          "exception": false,
          "start_time": "2022-04-09T14:37:37.747029",
          "status": "completed"
        },
        "tags": [],
        "id": "a5d9e15f"
      },
      "source": [
        "### Positional encoding\n",
        "\n",
        "We have discussed before that the Multi-Head Attention block is permutation-equivariant.\n",
        "In tasks like language understanding, however, the position is important for interpreting the input words.\n",
        "The position information is therefore added in the input features by means of feature patterns that the network can identify and potentially generalize to larger sequences.\n",
        "The specific pattern chosen by Vaswani et al.\n",
        "are sine and cosine functions of different frequencies, as follows:\n",
        "\n",
        "$$\n",
        "PE_{(pos,i)} = \\begin{cases}\n",
        "    \\sin\\left(\\frac{pos}{10000^{i/d_{\\text{model}}}}\\right) & \\text{if}\\hspace{3mm} i \\text{ mod } 2=0\\\\\n",
        "    \\cos\\left(\\frac{pos}{10000^{(i-1)/d_{\\text{model}}}}\\right) & \\text{otherwise}\\\\\n",
        "\\end{cases}\n",
        "$$\n",
        "\n",
        "$PE_{(pos,i)}$ represents the position encoding at position $pos$ in the sequence, and hidden dimensionality $i$.\n",
        "These values, concatenated for all hidden dimensions, are added to the original input features\n",
        "(in the Transformer visualization above, see \"Positional encoding\"), and constitute the position information.\n",
        "We distinguish between even ($i \\text{ mod } 2=0$) and uneven ($i \\text{ mod } 2=1$)\n",
        "hidden dimensionalities where we apply a sine/cosine respectively.\n",
        "The intuition behind this encoding is that you can represent $PE_{(pos+k,:)}$ as a linear function\n",
        "of $PE_{(pos,:)}$, which might allow the model to easily attend to relative positions.\n",
        "The wavelengths in different dimensions range from $2\\pi$ to $10000\\cdot 2\\pi$.\n",
        "\n",
        "The positional encoding is implemented below."
      ]
    },
    {
      "cell_type": "code",
      "execution_count": null,
      "id": "97458a86",
      "metadata": {
        "execution": {
          "iopub.execute_input": "2022-04-09T14:37:37.784031Z",
          "iopub.status.busy": "2022-04-09T14:37:37.783642Z",
          "iopub.status.idle": "2022-04-09T14:37:37.789832Z",
          "shell.execute_reply": "2022-04-09T14:37:37.789242Z"
        },
        "papermill": {
          "duration": 0.02026,
          "end_time": "2022-04-09T14:37:37.791228",
          "exception": false,
          "start_time": "2022-04-09T14:37:37.770968",
          "status": "completed"
        },
        "tags": [],
        "id": "97458a86"
      },
      "outputs": [],
      "source": [
        "class PositionalEncoding(nn.Module):\n",
        "    def __init__(self, d_model, max_len=5000):\n",
        "        \"\"\"\n",
        "        Args\n",
        "            d_model: Hidden dimensionality of the input.\n",
        "            max_len: Maximum length of a sequence to expect.\n",
        "        \"\"\"\n",
        "        super().__init__()\n",
        "\n",
        "        # Create matrix of [SeqLen, HiddenDim] representing the positional encoding for max_len inputs\n",
        "        pe = torch.zeros(max_len, d_model)\n",
        "        position = torch.arange(0, max_len, dtype=torch.float).unsqueeze(1)\n",
        "        div_term = torch.exp(torch.arange(0, d_model, 2).float() * (-math.log(10000.0) / d_model))\n",
        "        pe[:, 0::2] = torch.sin(position * div_term)\n",
        "        pe[:, 1::2] = torch.cos(position * div_term)\n",
        "        pe = pe.unsqueeze(0)\n",
        "\n",
        "        # register_buffer => Tensor which is not a parameter, but should be part of the modules state.\n",
        "        # Used for tensors that need to be on the same device as the module.\n",
        "        # persistent=False tells PyTorch to not add the buffer to the state dict (e.g. when we save the model)\n",
        "        self.register_buffer(\"pe\", pe, persistent=False)\n",
        "\n",
        "    def forward(self, x):\n",
        "        x = x + self.pe[:, : x.size(1)]\n",
        "        return x"
      ]
    },
    {
      "cell_type": "markdown",
      "id": "61da655f",
      "metadata": {
        "papermill": {
          "duration": 0.012048,
          "end_time": "2022-04-09T14:37:37.815452",
          "exception": false,
          "start_time": "2022-04-09T14:37:37.803404",
          "status": "completed"
        },
        "tags": [],
        "id": "61da655f"
      },
      "source": [
        "To understand the positional encoding, we can visualize it below.\n",
        "We will generate an image of the positional encoding over hidden dimensionality and position in a sequence.\n",
        "Each pixel, therefore, represents the change of the input feature we perform to encode the specific position.\n",
        "Let's do it below."
      ]
    },
    {
      "cell_type": "code",
      "execution_count": null,
      "id": "35e0dece",
      "metadata": {
        "execution": {
          "iopub.execute_input": "2022-04-09T14:37:37.840839Z",
          "iopub.status.busy": "2022-04-09T14:37:37.840293Z",
          "iopub.status.idle": "2022-04-09T14:37:38.380487Z",
          "shell.execute_reply": "2022-04-09T14:37:38.379879Z"
        },
        "papermill": {
          "duration": 0.554884,
          "end_time": "2022-04-09T14:37:38.382455",
          "exception": false,
          "start_time": "2022-04-09T14:37:37.827571",
          "status": "completed"
        },
        "tags": [],
        "id": "35e0dece",
        "outputId": "70a9eba8-17a6-4558-9510-f37a347ea643",
        "colab": {
          "base_uri": "https://localhost:8080/",
          "height": 333
        }
      },
      "outputs": [
        {
          "output_type": "display_data",
          "data": {
            "text/plain": [
              "<Figure size 800x300 with 2 Axes>"
            ],
            "image/png": "[encoded data removed]"
          },
          "metadata": {}
        }
      ],
      "source": [
        "encod_block = PositionalEncoding(d_model=48, max_len=96)\n",
        "pe = encod_block.pe.squeeze().T.cpu().numpy()\n",
        "\n",
        "fig, ax = plt.subplots(nrows=1, ncols=1, figsize=(8, 3))\n",
        "pos = ax.imshow(pe, cmap=\"RdGy\", extent=(1, pe.shape[1] + 1, pe.shape[0] + 1, 1))\n",
        "fig.colorbar(pos, ax=ax)\n",
        "ax.set_xlabel(\"Position in sequence\")\n",
        "ax.set_ylabel(\"Hidden dimension\")\n",
        "ax.set_title(\"Positional encoding over hidden dimensions\")\n",
        "ax.set_xticks([1] + [i * 10 for i in range(1, 1 + pe.shape[1] // 10)])\n",
        "ax.set_yticks([1] + [i * 10 for i in range(1, 1 + pe.shape[0] // 10)])\n",
        "plt.show()"
      ]
    },
    {
      "cell_type": "markdown",
      "id": "9dbe84c2",
      "metadata": {
        "lines_to_next_cell": 2,
        "papermill": {
          "duration": 0.016824,
          "end_time": "2022-04-09T14:37:40.272544",
          "exception": false,
          "start_time": "2022-04-09T14:37:40.255720",
          "status": "completed"
        },
        "tags": [],
        "id": "9dbe84c2"
      },
      "source": [
        "### Transformer Encoder Classifier\n",
        "\n",
        "Finally, we can implement a template for a classifier based on the Transformer encoder.\n",
        "\n",
        "Additionally to the Transformer architecture, we add:\n",
        "* a small input network (maps input dimensions to model dimensions)\n",
        "* the positional encoding\n",
        "* an output network (transforming output encodings to predictions).\n",
        "\n",
        "Notice that the output network will take in input a 3D tensor `<batch_samples, seq_len, model_dim>` and produces in output another 2D tensor `<batch_samples, seq_len>` where each output value represents the prediction of the corresponding reversed number.\n",
        "\n",
        "If we would need a classifier over the whole sequence, instead, the common approach is to add an additional `[CLS]` token to the sequence, representing the classifier token and then get the prediction only from that output token.\n"
      ]
    },
    {
      "cell_type": "code",
      "execution_count": null,
      "id": "fba3970c",
      "metadata": {
        "execution": {
          "iopub.execute_input": "2022-04-09T14:37:40.307736Z",
          "iopub.status.busy": "2022-04-09T14:37:40.307446Z",
          "iopub.status.idle": "2022-04-09T14:37:40.319189Z",
          "shell.execute_reply": "2022-04-09T14:37:40.318619Z"
        },
        "lines_to_next_cell": 2,
        "papermill": {
          "duration": 0.031287,
          "end_time": "2022-04-09T14:37:40.320713",
          "exception": false,
          "start_time": "2022-04-09T14:37:40.289426",
          "status": "completed"
        },
        "tags": [],
        "id": "fba3970c"
      },
      "outputs": [],
      "source": [
        "class TransformerPredictor(nn.Module):\n",
        "    def __init__(\n",
        "        self,\n",
        "        input_dim,\n",
        "        model_dim,\n",
        "        num_classes,\n",
        "        num_heads,\n",
        "        num_layers,\n",
        "        dropout=0.0,\n",
        "        input_dropout=0.0,\n",
        "    ):\n",
        "        \"\"\"\n",
        "        Args:\n",
        "            input_dim: Hidden dimensionality of the input\n",
        "            model_dim: Hidden dimensionality to use inside the Transformer\n",
        "            num_classes: Number of classes to predict per sequence element\n",
        "            num_heads: Number of heads to use in the Multi-Head Attention blocks\n",
        "            num_layers: Number of encoder blocks to use.\n",
        "            lr: Learning rate in the optimizer\n",
        "            warmup: Number of warmup steps. Usually between 50 and 500\n",
        "            max_iters: Number of maximum iterations the model is trained for. This is needed for the CosineWarmup scheduler\n",
        "            dropout: Dropout to apply inside the model\n",
        "            input_dropout: Dropout to apply on the input features\n",
        "        \"\"\"\n",
        "        super().__init__()\n",
        "        self.input_dim = input_dim\n",
        "        self.model_dim = model_dim\n",
        "        self.num_classes = num_classes\n",
        "        self.num_heads = num_heads\n",
        "        self.num_layers = num_layers\n",
        "        self.dropout = dropout\n",
        "        self.input_dropout = input_dropout\n",
        "\n",
        "        # Learn an Generic Input Encoder Input dim -> Model dim\n",
        "        self.input_net = nn.Sequential(\n",
        "            nn.Dropout(self.input_dropout),\n",
        "            nn.Linear(self.input_dim, self.model_dim)\n",
        "        )\n",
        "\n",
        "        # Positional encoding for sequences\n",
        "        self.positional_encoding = PositionalEncoding(d_model=self.model_dim)\n",
        "\n",
        "        # Transformer\n",
        "        self.transformer = TransformerEncoder(\n",
        "            num_layers=self.num_layers,\n",
        "            input_dim=self.model_dim,\n",
        "            dim_feedforward=2 * self.model_dim,\n",
        "            num_heads=self.num_heads,\n",
        "            dropout=self.dropout,\n",
        "        )\n",
        "        # Output classifier per sequence element\n",
        "        self.output_net = nn.Sequential(\n",
        "            nn.Linear(self.model_dim, self.model_dim),\n",
        "            nn.LayerNorm(self.model_dim),\n",
        "            nn.ReLU(inplace=True),\n",
        "            nn.Dropout(self.dropout),\n",
        "            nn.Linear(self.model_dim, self.num_classes),\n",
        "        )\n",
        "\n",
        "    def forward(self, x, mask=None, add_positional_encoding=True):\n",
        "        \"\"\"\n",
        "        Args:\n",
        "            x: Input features of shape [Batch, SeqLen, input_dim]\n",
        "            mask: Mask to apply on the attention outputs (optional)\n",
        "            add_positional_encoding: If True, we add the positional encoding to the input.\n",
        "                                      Might not be desired for some tasks.\n",
        "        \"\"\"\n",
        "        x = self.input_net(x)\n",
        "        if add_positional_encoding:\n",
        "            x = self.positional_encoding(x)\n",
        "        x = self.transformer(x, mask=mask)\n",
        "        x = self.output_net(x)\n",
        "        return x\n",
        "\n",
        "    def get_attention_maps(self, x, mask=None, add_positional_encoding=True,\n",
        "                           return_outputs=False):\n",
        "        \"\"\"Function for extracting the attention matrices of the whole Transformer for a single batch.\n",
        "\n",
        "        Input arguments same as the forward pass.\n",
        "        \"\"\"\n",
        "        x = self.input_net(x)\n",
        "        if add_positional_encoding:\n",
        "            x = self.positional_encoding(x)\n",
        "        transf_outputs, attn_maps = self.transformer.get_attention_maps(x, mask, return_outputs=True)\n",
        "\n",
        "        if return_outputs:\n",
        "            transf_outputs = self.output_net(transf_outputs)\n",
        "            return transf_outputs, attn_maps\n",
        "        return attn_maps"
      ]
    },
    {
      "cell_type": "markdown",
      "id": "e2f853d7",
      "metadata": {
        "lines_to_next_cell": 2,
        "papermill": {
          "duration": 0.017029,
          "end_time": "2022-04-09T14:37:40.355127",
          "exception": false,
          "start_time": "2022-04-09T14:37:40.338098",
          "status": "completed"
        },
        "tags": [],
        "id": "e2f853d7"
      },
      "source": [
        "## Experiment: Sequence to Sequence\n",
        "\n",
        "After having finished the implementation of the Transformer architecture, we can start experimenting.\n",
        "\n",
        "A Seq-2-Seq task represents a task where the input _and_ the output is a sequence,\n",
        "not necessarily of the same length.\n",
        "Popular tasks in this domain include machine translation and summarization.\n",
        "For this, we usually have a Transformer encoder for interpreting the input sequence,\n",
        "and a decoder for generating the output in an autoregressive manner.\n",
        "Here, however, we will go back to a much simpler example task and use only the encoder, since the output length is fixed.\n",
        "Given a sequence of $N$ numbers between $0$ and $M$, the task is to reverse the input sequence.\n",
        "In Numpy notation, if our input is $x$, the output should be $x$[::-1].\n",
        "Although this task sounds very simple, RNNs can have issues with such because the task requires long-term dependencies.\n",
        "Transformers are built to support such, and hence, we expect it to perform very well.\n",
        "\n",
        "First, let's create a dataset class below."
      ]
    },
    {
      "cell_type": "code",
      "execution_count": null,
      "id": "678b995e",
      "metadata": {
        "execution": {
          "iopub.execute_input": "2022-04-09T14:37:40.390306Z",
          "iopub.status.busy": "2022-04-09T14:37:40.389769Z",
          "iopub.status.idle": "2022-04-09T14:37:40.394655Z",
          "shell.execute_reply": "2022-04-09T14:37:40.394092Z"
        },
        "papermill": {
          "duration": 0.023865,
          "end_time": "2022-04-09T14:37:40.396024",
          "exception": false,
          "start_time": "2022-04-09T14:37:40.372159",
          "status": "completed"
        },
        "tags": [],
        "id": "678b995e"
      },
      "outputs": [],
      "source": [
        "class ReverseDataset(data.Dataset):\n",
        "    def __init__(self, num_categories, seq_len, size):\n",
        "        super().__init__()\n",
        "        self.num_categories = num_categories\n",
        "        self.seq_len = seq_len\n",
        "        self.size = size\n",
        "\n",
        "        self.data = torch.randint(self.num_categories, size=(self.size, self.seq_len))\n",
        "\n",
        "    def __len__(self):\n",
        "        return self.size\n",
        "\n",
        "    def __getitem__(self, idx):\n",
        "        inp_data = self.data[idx]\n",
        "        labels = torch.flip(inp_data, dims=(0,))\n",
        "        return inp_data, labels"
      ]
    },
    {
      "cell_type": "markdown",
      "id": "d5c57b9a",
      "metadata": {
        "papermill": {
          "duration": 0.017261,
          "end_time": "2022-04-09T14:37:40.430322",
          "exception": false,
          "start_time": "2022-04-09T14:37:40.413061",
          "status": "completed"
        },
        "tags": [],
        "id": "d5c57b9a"
      },
      "source": [
        "We create an arbitrary number of random sequences of numbers between 0 and `num_categories-1`.\n",
        "The label is simply the tensor flipped over the sequence dimension.\n",
        "We can create the corresponding data loaders below."
      ]
    },
    {
      "cell_type": "code",
      "execution_count": null,
      "id": "7d155c78",
      "metadata": {
        "execution": {
          "iopub.execute_input": "2022-04-09T14:37:40.465826Z",
          "iopub.status.busy": "2022-04-09T14:37:40.465300Z",
          "iopub.status.idle": "2022-04-09T14:37:40.483277Z",
          "shell.execute_reply": "2022-04-09T14:37:40.482703Z"
        },
        "papermill": {
          "duration": 0.037365,
          "end_time": "2022-04-09T14:37:40.484763",
          "exception": false,
          "start_time": "2022-04-09T14:37:40.447398",
          "status": "completed"
        },
        "tags": [],
        "id": "7d155c78"
      },
      "outputs": [],
      "source": [
        "dataset = partial(ReverseDataset, 10, 16)\n",
        "train_dl = data.DataLoader(dataset(50000), batch_size=128, shuffle=True, drop_last=True, pin_memory=True)\n",
        "val_dl = data.DataLoader(dataset(1000), batch_size=128)\n",
        "test_dl = data.DataLoader(dataset(10000), batch_size=128)"
      ]
    },
    {
      "cell_type": "markdown",
      "id": "108b3cc8",
      "metadata": {
        "papermill": {
          "duration": 0.017281,
          "end_time": "2022-04-09T14:37:40.519172",
          "exception": false,
          "start_time": "2022-04-09T14:37:40.501891",
          "status": "completed"
        },
        "tags": [],
        "id": "108b3cc8"
      },
      "source": [
        "Let's look at an arbitrary sample of the dataset:"
      ]
    },
    {
      "cell_type": "code",
      "execution_count": null,
      "id": "54622080",
      "metadata": {
        "execution": {
          "iopub.execute_input": "2022-04-09T14:37:40.554479Z",
          "iopub.status.busy": "2022-04-09T14:37:40.553970Z",
          "iopub.status.idle": "2022-04-09T14:37:40.558389Z",
          "shell.execute_reply": "2022-04-09T14:37:40.557790Z"
        },
        "papermill": {
          "duration": 0.023559,
          "end_time": "2022-04-09T14:37:40.559783",
          "exception": false,
          "start_time": "2022-04-09T14:37:40.536224",
          "status": "completed"
        },
        "tags": [],
        "id": "54622080",
        "outputId": "f8f673f1-779d-4600-9993-070d3d70bb3c",
        "colab": {
          "base_uri": "https://localhost:8080/"
        }
      },
      "outputs": [
        {
          "output_type": "stream",
          "name": "stdout",
          "text": [
            "Input data: tensor([2, 1, 4, 9, 1, 1, 0, 3, 0, 6, 7, 6, 9, 1, 6, 4])\n",
            "Labels:     tensor([4, 6, 1, 9, 6, 7, 6, 0, 3, 0, 1, 1, 9, 4, 1, 2])\n"
          ]
        }
      ],
      "source": [
        "inp_data, labels = train_dl.dataset[0]\n",
        "print(\"Input data:\", inp_data)\n",
        "print(\"Labels:    \", labels)"
      ]
    },
    {
      "cell_type": "markdown",
      "id": "73604b92",
      "metadata": {
        "lines_to_next_cell": 2,
        "papermill": {
          "duration": 0.017109,
          "end_time": "2022-04-09T14:37:40.594221",
          "exception": false,
          "start_time": "2022-04-09T14:37:40.577112",
          "status": "completed"
        },
        "tags": [],
        "id": "73604b92"
      },
      "source": [
        "During training, we pass the input sequence through the Transformer encoder and predict the output for each input token.\n",
        "We use the standard Cross-Entropy loss to perform this.\n",
        "Every number is represented as a one-hot vector.\n",
        "Remember that representing the categories as single scalars decreases the expressiveness of the model extremely\n",
        "as $0$ and $1$ are not closer related than $0$ and $9$ in our example.\n",
        "An alternative to a one-hot vector is using a learned embedding vector as it is provided by the PyTorch module `nn.Embedding`.\n",
        "However, using a one-hot vector with an additional linear layer as in our case has the same effect\n",
        "as an embedding layer (`self.input_net` maps one-hot vector to a dense vector,\n",
        "where each row of the weight matrix represents the embedding for a specific category).\n",
        "\n",
        "In the following we will implement the training and evaluation step required for fitting the model"
      ]
    },
    {
      "cell_type": "code",
      "execution_count": null,
      "id": "3157b207",
      "metadata": {
        "execution": {
          "iopub.execute_input": "2022-04-09T14:37:40.629517Z",
          "iopub.status.busy": "2022-04-09T14:37:40.629034Z",
          "iopub.status.idle": "2022-04-09T14:37:40.635426Z",
          "shell.execute_reply": "2022-04-09T14:37:40.634853Z"
        },
        "lines_to_next_cell": 2,
        "papermill": {
          "duration": 0.025464,
          "end_time": "2022-04-09T14:37:40.636801",
          "exception": false,
          "start_time": "2022-04-09T14:37:40.611337",
          "status": "completed"
        },
        "tags": [],
        "id": "3157b207"
      },
      "outputs": [],
      "source": [
        "def train_step(model, x, y, optim):\n",
        "    model.train()\n",
        "\n",
        "    # Fetch data and transform categories to one-hot vectors\n",
        "    inp_data = F.one_hot(x, num_classes=model.num_classes).float()\n",
        "    inp_data, y = inp_data.to(device), y.to(device)\n",
        "\n",
        "\n",
        "    # Perform prediction and calculate loss and accuracy\n",
        "    preds = model(inp_data, add_positional_encoding=True)\n",
        "    loss = F.cross_entropy(preds.view(-1, preds.size(-1)), y.view(-1))\n",
        "    acc = (preds.argmax(dim=-1) == y).float().mean()\n",
        "\n",
        "    # Backpropagate and update weights\n",
        "    loss.backward()\n",
        "    optim.step()\n",
        "    model.zero_grad()\n",
        "\n",
        "    return loss, acc\n",
        "\n",
        "def eval_step(model, x, y):\n",
        "    with torch.no_grad():\n",
        "        model.eval()\n",
        "\n",
        "        # Fetch data and transform categories to one-hot vectors\n",
        "        inp_data = F.one_hot(x, num_classes=model.num_classes).float()\n",
        "        inp_data, y = inp_data.to(device), y.to(device)\n",
        "\n",
        "        # Perform prediction and calculate loss and accuracy\n",
        "        preds = model(inp_data, add_positional_encoding=True)\n",
        "        loss = F.cross_entropy(preds.view(-1, preds.size(-1)), y.view(-1))\n",
        "        acc = (preds.argmax(dim=-1) == y).float().mean()\n",
        "\n",
        "    return loss, acc\n"
      ]
    },
    {
      "cell_type": "markdown",
      "id": "1eca170b",
      "metadata": {
        "lines_to_next_cell": 2,
        "papermill": {
          "duration": 0.017272,
          "end_time": "2022-04-09T14:37:40.673633",
          "exception": false,
          "start_time": "2022-04-09T14:37:40.656361",
          "status": "completed"
        },
        "tags": [],
        "id": "1eca170b"
      },
      "source": [
        "Finally, we can create a training function similar to the one we have seen in previous laboratories. We running for $N$ epochs printing the training and validation loss and saving our best model based on the validation.\n",
        "Afterward, we test our models on the test set."
      ]
    },
    {
      "cell_type": "code",
      "execution_count": null,
      "id": "237c583b",
      "metadata": {
        "execution": {
          "iopub.execute_input": "2022-04-09T14:37:40.709513Z",
          "iopub.status.busy": "2022-04-09T14:37:40.708933Z",
          "iopub.status.idle": "2022-04-09T14:37:40.715633Z",
          "shell.execute_reply": "2022-04-09T14:37:40.715064Z"
        },
        "papermill": {
          "duration": 0.026011,
          "end_time": "2022-04-09T14:37:40.717000",
          "exception": false,
          "start_time": "2022-04-09T14:37:40.690989",
          "status": "completed"
        },
        "tags": [],
        "id": "237c583b"
      },
      "outputs": [],
      "source": [
        "def train_model(model, train_loader, val_loader, test_loader,\n",
        "                optim, epochs=5):\n",
        "    best_acc = 0.\n",
        "    pbar = tqdm(range(epochs))\n",
        "    for e in range(epochs):\n",
        "        # Train model\n",
        "        train_loss, train_acc = 0., 0.\n",
        "        for x, y in train_loader:\n",
        "            loss, acc = train_step(model, x, y, optim)\n",
        "            train_loss += loss\n",
        "            train_acc += acc\n",
        "\n",
        "        # Validate model\n",
        "        val_loss, val_acc = 0., 0.\n",
        "        for x, y in val_loader:\n",
        "            loss, acc = eval_step(model, x, y)\n",
        "            val_loss += loss\n",
        "            val_acc += acc\n",
        "\n",
        "        # Saving best model for early stopping\n",
        "        if val_acc/len(val_loader) > best_acc:\n",
        "            torch.save(model.state_dict(), \"best_model.pt\")\n",
        "            best_acc = val_acc/len(val_loader)\n",
        "\n",
        "        pbar.update()\n",
        "        pbar.set_description(f\"Train Acc: {train_acc/len(train_loader)* 100:.2f} \"\n",
        "                            f\"Train Loss: {train_loss/len(train_loader):.2f} \"\n",
        "                            f\"Val Acc: {val_acc/len(val_loader)* 100 :.2f}  \"\n",
        "                            f\"Val loss: {val_loss/len(val_loader):.2f} \")\n",
        "\n",
        "    pbar.close()\n",
        "    # Load best model for early stopping\n",
        "    model.load_state_dict(torch.load(\"best_model.pt\"))\n",
        "\n",
        "    # Test model\n",
        "    test_loss, test_acc = 0., 0.\n",
        "    for x, y in test_loader:\n",
        "        loss, acc = eval_step(model, x, y)\n",
        "        test_loss += loss\n",
        "        test_acc += acc\n",
        "\n",
        "    print(f\"Test accuracy: {test_acc/len(test_loader)*100 :.2f}\")\n",
        "\n",
        "\n",
        "    return model"
      ]
    },
    {
      "cell_type": "markdown",
      "id": "170c6143",
      "metadata": {
        "papermill": {
          "duration": 0.017478,
          "end_time": "2022-04-09T14:37:40.752397",
          "exception": false,
          "start_time": "2022-04-09T14:37:40.734919",
          "status": "completed"
        },
        "tags": [],
        "id": "170c6143"
      },
      "source": [
        "Finally, we can train the model.\n",
        "In this setup, we will use a single encoder block and a single head in the Multi-Head Attention.\n",
        "This is chosen because of the simplicity of the task, and in this case, the attention can actually be interpreted\n",
        "as an \"explanation\" of the predictions (compared to the other papers above dealing with deep Transformers)."
      ]
    },
    {
      "cell_type": "code",
      "execution_count": null,
      "id": "da3e1d49",
      "metadata": {
        "execution": {
          "iopub.execute_input": "2022-04-09T14:37:40.788473Z",
          "iopub.status.busy": "2022-04-09T14:37:40.787980Z",
          "iopub.status.idle": "2022-04-09T14:37:44.274530Z",
          "shell.execute_reply": "2022-04-09T14:37:44.273926Z"
        },
        "papermill": {
          "duration": 3.505945,
          "end_time": "2022-04-09T14:37:44.275998",
          "exception": false,
          "start_time": "2022-04-09T14:37:40.770053",
          "status": "completed"
        },
        "tags": [],
        "id": "da3e1d49",
        "outputId": "77ca9477-25c6-4a4c-8236-a941be95542f",
        "colab": {
          "referenced_widgets": [
            "aed84e30f30f4b34bf090be81491a548",
            "93de1c4814b246e49b358d41f33cf23f",
            "c435ade8b4c744378106245bffca825f",
            "fa17203f767c48259cd84f81cf22a092",
            "adda691e17124b5b98ad595f1489c30c",
            "e79af4c86f3549dd9e3175ad5e47466f",
            "22b0b1daffba495ab4e76833641d8aee",
            "40a5b181ed0b428e96f8803f87891c58",
            "bbbe1dbda9514b0f9d30c904be3374c2",
            "4238b398ef0142d2aebe6c2737a59068",
            "8876c172c9864fc9b1091496dc67a773"
          ],
          "base_uri": "https://localhost:8080/",
          "height": 67
        },
        "collapsed": true
      },
      "outputs": [
        {
          "output_type": "display_data",
          "data": {
            "text/plain": [
              "  0%|          | 0/5 [00:00<?, ?it/s]"
            ],
            "application/vnd.jupyter.widget-view+json": {
              "version_major": 2,
              "version_minor": 0,
              "model_id": "aed84e30f30f4b34bf090be81491a548"
            }
          },
          "metadata": {}
        },
        {
          "output_type": "stream",
          "name": "stdout",
          "text": [
            "Test accuracy: 100.00\n"
          ]
        }
      ],
      "source": [
        "reverse_model = TransformerPredictor(\n",
        "    input_dim=train_dl.dataset.num_categories,\n",
        "    model_dim=32,\n",
        "    num_heads=1,\n",
        "    num_classes=train_dl.dataset.num_categories,\n",
        "    num_layers=1,\n",
        "    dropout=0.0,\n",
        ")\n",
        "reverse_model = reverse_model.to(device)\n",
        "optimizer = optim.AdamW(reverse_model.parameters(), lr=0.001)\n",
        "\n",
        "reverse_model = train_model(reverse_model, train_dl, val_dl, test_dl, optimizer)"
      ]
    },
    {
      "cell_type": "markdown",
      "id": "bbab7649",
      "metadata": {
        "papermill": {
          "duration": 0.017964,
          "end_time": "2022-04-09T14:37:44.392392",
          "exception": false,
          "start_time": "2022-04-09T14:37:44.374428",
          "status": "completed"
        },
        "tags": [],
        "id": "bbab7649"
      },
      "source": [
        "As we would have expected, the Transformer can correctly solve the task.\n",
        "However, how does the attention in the Multi-Head Attention block looks like for an arbitrary input?\n",
        "Let's try to visualize it below."
      ]
    },
    {
      "cell_type": "code",
      "execution_count": null,
      "id": "c8d2704d",
      "metadata": {
        "execution": {
          "iopub.execute_input": "2022-04-09T14:37:44.429196Z",
          "iopub.status.busy": "2022-04-09T14:37:44.428820Z",
          "iopub.status.idle": "2022-04-09T14:37:44.436248Z",
          "shell.execute_reply": "2022-04-09T14:37:44.435661Z"
        },
        "papermill": {
          "duration": 0.027384,
          "end_time": "2022-04-09T14:37:44.437643",
          "exception": false,
          "start_time": "2022-04-09T14:37:44.410259",
          "status": "completed"
        },
        "tags": [],
        "id": "c8d2704d"
      },
      "outputs": [],
      "source": [
        "data_input, labels = next(iter(val_dl))\n",
        "inp_data = F.one_hot(data_input, num_classes=reverse_model.num_classes).float()\n",
        "inp_data = inp_data.to(device)\n",
        "attention_maps = reverse_model.get_attention_maps(inp_data)"
      ]
    },
    {
      "cell_type": "markdown",
      "id": "a0f1e662",
      "metadata": {
        "papermill": {
          "duration": 0.017949,
          "end_time": "2022-04-09T14:37:44.473368",
          "exception": false,
          "start_time": "2022-04-09T14:37:44.455419",
          "status": "completed"
        },
        "tags": [],
        "id": "a0f1e662"
      },
      "source": [
        "The object `attention_maps` is a list of length $N$ where $N$ is the number of layers.\n",
        "Each element is a tensor of shape [Batch, Heads, SeqLen, SeqLen], which we can verify below."
      ]
    },
    {
      "cell_type": "code",
      "execution_count": null,
      "id": "59364e79",
      "metadata": {
        "execution": {
          "iopub.execute_input": "2022-04-09T14:37:44.510010Z",
          "iopub.status.busy": "2022-04-09T14:37:44.509466Z",
          "iopub.status.idle": "2022-04-09T14:37:44.514032Z",
          "shell.execute_reply": "2022-04-09T14:37:44.513456Z"
        },
        "papermill": {
          "duration": 0.024284,
          "end_time": "2022-04-09T14:37:44.515442",
          "exception": false,
          "start_time": "2022-04-09T14:37:44.491158",
          "status": "completed"
        },
        "tags": [],
        "id": "59364e79"
      },
      "outputs": [],
      "source": [
        "attention_maps[0].shape"
      ]
    },
    {
      "cell_type": "markdown",
      "id": "d9ce1e83",
      "metadata": {
        "lines_to_next_cell": 2,
        "papermill": {
          "duration": 0.017929,
          "end_time": "2022-04-09T14:37:44.551386",
          "exception": false,
          "start_time": "2022-04-09T14:37:44.533457",
          "status": "completed"
        },
        "tags": [],
        "id": "d9ce1e83"
      },
      "source": [
        "Next, we will write a plotting function that takes as input the sequences, attention maps, and an index\n",
        "indicating for which batch element we want to visualize the attention map.\n",
        "We will create a plot where over the rows we have different layers, while over columns we show the different heads.\n",
        "Remember that the softmax has been applied for each row separately."
      ]
    },
    {
      "cell_type": "code",
      "execution_count": null,
      "id": "40c1181d",
      "metadata": {
        "execution": {
          "iopub.execute_input": "2022-04-09T14:37:44.588212Z",
          "iopub.status.busy": "2022-04-09T14:37:44.587738Z",
          "iopub.status.idle": "2022-04-09T14:37:44.595498Z",
          "shell.execute_reply": "2022-04-09T14:37:44.594933Z"
        },
        "papermill": {
          "duration": 0.027654,
          "end_time": "2022-04-09T14:37:44.596896",
          "exception": false,
          "start_time": "2022-04-09T14:37:44.569242",
          "status": "completed"
        },
        "tags": [],
        "id": "40c1181d"
      },
      "outputs": [],
      "source": [
        "def plot_attention_maps(input_data, attn_maps, idx=0):\n",
        "    if input_data is not None:\n",
        "        input_data = input_data[idx].detach().cpu().numpy()\n",
        "    else:\n",
        "        input_data = np.arange(attn_maps[0][idx].shape[-1])\n",
        "    attn_maps = [m[idx].detach().cpu().numpy() for m in attn_maps]\n",
        "\n",
        "    num_heads = attn_maps[0].shape[0]\n",
        "    num_layers = len(attn_maps)\n",
        "    seq_len = input_data.shape[0]\n",
        "    fig_size = 4 if num_heads == 1 else 3\n",
        "    fig, ax = plt.subplots(num_layers, num_heads, figsize=(num_heads * fig_size, num_layers * fig_size))\n",
        "    if num_layers == 1:\n",
        "        ax = [ax]\n",
        "    if num_heads == 1:\n",
        "        ax = [[a] for a in ax]\n",
        "    for row in range(num_layers):\n",
        "        for column in range(num_heads):\n",
        "            ax[row][column].imshow(attn_maps[row][column], origin=\"lower\", vmin=0)\n",
        "            ax[row][column].set_xticks(list(range(seq_len)))\n",
        "            ax[row][column].set_xticklabels(input_data.tolist())\n",
        "            ax[row][column].set_yticks(list(range(seq_len)))\n",
        "            ax[row][column].set_yticklabels(input_data.tolist())\n",
        "            ax[row][column].set_title(\"Layer %i, Head %i\" % (row + 1, column + 1))\n",
        "    fig.subplots_adjust(hspace=0.5)\n",
        "    plt.show()"
      ]
    },
    {
      "cell_type": "markdown",
      "id": "b918b716",
      "metadata": {
        "papermill": {
          "duration": 0.020232,
          "end_time": "2022-04-09T14:37:44.634993",
          "exception": false,
          "start_time": "2022-04-09T14:37:44.614761",
          "status": "completed"
        },
        "tags": [],
        "id": "b918b716"
      },
      "source": [
        "Finally, we can plot the attention maps of our trained Transformer on the reverse task:"
      ]
    },
    {
      "cell_type": "code",
      "execution_count": null,
      "id": "655c60eb",
      "metadata": {
        "execution": {
          "iopub.execute_input": "2022-04-09T14:37:44.672583Z",
          "iopub.status.busy": "2022-04-09T14:37:44.672183Z",
          "iopub.status.idle": "2022-04-09T14:37:44.958647Z",
          "shell.execute_reply": "2022-04-09T14:37:44.958104Z"
        },
        "papermill": {
          "duration": 0.306872,
          "end_time": "2022-04-09T14:37:44.960097",
          "exception": false,
          "start_time": "2022-04-09T14:37:44.653225",
          "status": "completed"
        },
        "tags": [],
        "id": "655c60eb",
        "colab": {
          "base_uri": "https://localhost:8080/",
          "height": 391
        },
        "outputId": "cf70f84d-589c-4d4b-da98-3b1068033af4"
      },
      "outputs": [
        {
          "output_type": "display_data",
          "data": {
            "text/plain": [
              "<Figure size 400x400 with 1 Axes>"
            ],
            "image/png": "[encoded data removed]"
          },
          "metadata": {}
        }
      ],
      "source": [
        "plot_attention_maps(data_input, attention_maps, idx=5)"
      ]
    },
    {
      "cell_type": "markdown",
      "id": "9d4769e6",
      "metadata": {
        "papermill": {
          "duration": 0.019048,
          "end_time": "2022-04-09T14:37:44.998918",
          "exception": false,
          "start_time": "2022-04-09T14:37:44.979870",
          "status": "completed"
        },
        "tags": [],
        "id": "9d4769e6"
      },
      "source": [
        "The model has learned to attend to the token that is on the flipped index of itself.\n",
        "Hence, it actually does what we intended it to do.\n",
        "We see that it however also pays some attention to values close to the flipped index.\n",
        "This is because the model doesn't need the perfect, hard attention to solve this problem,\n",
        "but is fine with this approximate, noisy attention map.\n",
        "The close-by indices are caused by the similarity of the positional encoding,\n",
        "which we also intended with the positional encoding."
      ]
    },
    {
      "cell_type": "markdown",
      "source": [
        "## Now let's perform some more advanced attention-based explanation!\n",
        "\n",
        "Retrain your model with now 4 heads and 3 layers.\n",
        "What happens to the visualization?\n",
        "\n",
        "Compute and visualize with the previous function:\n",
        "- Standard attention explanation for 1st and last layer\n",
        "- Rollout\n",
        "- Transformer Attention (Attention x Gradient)\n",
        "\n",
        "*Note: don't forget to aggregate over the heads!*"
      ],
      "metadata": {
        "id": "rRv4hRTqGroX"
      },
      "id": "rRv4hRTqGroX"
    },
    {
      "cell_type": "code",
      "source": [
        "### Retraining with 2 attention heads and 3 layers\n",
        "reverse_model = TransformerPredictor(\n",
        "    input_dim=train_dl.dataset.num_categories,\n",
        "    model_dim=32,\n",
        "    num_heads=4,\n",
        "    num_classes=train_dl.dataset.num_categories,\n",
        "    num_layers=4,\n",
        "    dropout=0.0,\n",
        ")\n",
        "reverse_model = reverse_model.to(device)\n",
        "optimizer = optim.AdamW(reverse_model.parameters(), lr=0.001)\n",
        "\n",
        "reverse_model = train_model(reverse_model, train_dl, val_dl, test_dl, optimizer)"
      ],
      "metadata": {
        "id": "EeyF0HB9GqWt",
        "colab": {
          "base_uri": "https://localhost:8080/",
          "height": 67,
          "referenced_widgets": [
            "1a7130abf6f24a95b8beef24d4974f21",
            "c1e3cdd8a9b8430fac4c1983008316f3",
            "ed2903a6b72b4abfb8c4b25602f0e373",
            "29481c0d1033466d973ac8bd1374b87b",
            "4e6df2934a3143b7a526a64b74107ba8",
            "15ba1fe3999d41e68e4cd8b099e91b6c",
            "ce52a98c666b4314a35551c5de8bc8c6",
            "9958c72154524b7cba0315ee304c866b",
            "8b52e31f2e994bb69127ad60079dbb91",
            "0e088b63303d46ae95be32535becf208",
            "2674ab20af4e4ab49d52fe290ccf95e9"
          ]
        },
        "collapsed": true,
        "outputId": "962a7e34-bae4-4bb6-ba56-1f0aa11da005"
      },
      "id": "EeyF0HB9GqWt",
      "execution_count": null,
      "outputs": [
        {
          "output_type": "display_data",
          "data": {
            "text/plain": [
              "  0%|          | 0/5 [00:00<?, ?it/s]"
            ],
            "application/vnd.jupyter.widget-view+json": {
              "version_major": 2,
              "version_minor": 0,
              "model_id": "1a7130abf6f24a95b8beef24d4974f21"
            }
          },
          "metadata": {}
        },
        {
          "output_type": "stream",
          "name": "stdout",
          "text": [
            "Test accuracy: 100.00\n"
          ]
        }
      ]
    },
    {
      "cell_type": "code",
      "source": [
        "data_input, labels = next(iter(val_dl))\n",
        "inp_data = F.one_hot(data_input, num_classes=reverse_model.num_classes).float()\n",
        "inp_data, labels = inp_data.to(device), labels.to(device)\n",
        "attention_maps = reverse_model.get_attention_maps(inp_data)\n",
        "\n",
        "# Plot the matrix of attention maps\n",
        "plot_attention_maps(data_input, attention_maps, idx=5)"
      ],
      "metadata": {
        "colab": {
          "base_uri": "https://localhost:8080/",
          "height": 1000
        },
        "id": "C4yMGdFmcYKB",
        "outputId": "f630031f-bbca-48a2-8684-cacc9b30009c"
      },
      "id": "C4yMGdFmcYKB",
      "execution_count": null,
      "outputs": [
        {
          "output_type": "display_data",
          "data": {
            "text/plain": [
              "<Figure size 1200x1200 with 16 Axes>"
            ],
            "image/png": "[encoded data removed]"
          },
          "metadata": {}
        }
      ]
    },
    {
      "cell_type": "code",
      "source": [
        "# Plot STANDARD ATTENTION FIRST LAYER: aggregated attentions over the first layer\n",
        "standard_attention_first = attention_maps[0].mean(dim=-3) # batch_size x heads x seq_len x seq_len\n",
        "\n",
        "plot_attention_maps(data_input, [standard_attention_first.unsqueeze(dim=-3)], idx=5) # the function still requires list of attention"
      ],
      "metadata": {
        "colab": {
          "base_uri": "https://localhost:8080/",
          "height": 391
        },
        "id": "rPp7Cv1zcny-",
        "outputId": "edb59697-2ddd-444a-9748-b2b38e378243"
      },
      "id": "rPp7Cv1zcny-",
      "execution_count": null,
      "outputs": [
        {
          "output_type": "display_data",
          "data": {
            "text/plain": [
              "<Figure size 400x400 with 1 Axes>"
            ],
            "image/png": "[encoded data removed]"
          },
          "metadata": {}
        }
      ]
    },
    {
      "cell_type": "code",
      "source": [
        "# Plot STANDARD ATTENTION LAST: aggregated attentions over the last layer\n",
        "standard_attention_last = attention_maps[-1].mean(dim=-3) # batch_size x heads x seq_len x seq_len\n",
        "\n",
        "plot_attention_maps(data_input, [standard_attention_last.unsqueeze(dim=-3)], idx=5) # the function still requires list of attention with head dimension"
      ],
      "metadata": {
        "colab": {
          "base_uri": "https://localhost:8080/",
          "height": 391
        },
        "id": "hbGzliDHdh02",
        "outputId": "95cd00c3-616a-43a2-8f07-fb8ca11bfd19"
      },
      "id": "hbGzliDHdh02",
      "execution_count": null,
      "outputs": [
        {
          "output_type": "display_data",
          "data": {
            "text/plain": [
              "<Figure size 400x400 with 1 Axes>"
            ],
            "image/png": "[encoded data removed]"
          },
          "metadata": {}
        }
      ]
    },
    {
      "cell_type": "code",
      "source": [
        "def get_rollout_attention(attentions):\n",
        "    \"\"\"Factorize attentions over the layers after aggregating the heads\"\"\"\n",
        "\n",
        "    cumulated_attention = None\n",
        "    for i, attention in enumerate(attentions):\n",
        "        # aggregated the attention heads of the current layer\n",
        "        aggregated_attention = attention.mean(dim=-3)\n",
        "        if i == 0:\n",
        "            cumulated_attention = aggregated_attention # initialize cumulated_attention\n",
        "        else:\n",
        "            # factorize attention over the layers\n",
        "            cumulated_attention = cumulated_attention * aggregated_attention\n",
        "\n",
        "        # print(f\"Iteration: {i}\")\n",
        "        # plot_attention_maps(data_input, [aggregated_attention.unsqueeze(dim=-3)], idx=5) # the function still requires list of attention with head dimension\n",
        "        # plot_attention_maps(data_input, [cumulated_attention.unsqueeze(dim=-3)], idx=5) # the function still requires list of attention with head dimension\n",
        "\n",
        "    return cumulated_attention\n",
        "\n",
        "\n",
        "# Plot ROLLOUT ATTENTION\n",
        "rollout_attention = get_rollout_attention(attention_maps)\n",
        "\n",
        "plot_attention_maps(data_input, [rollout_attention.unsqueeze(dim=-3)], idx=5) # the function still requires list of attention with head dimension"
      ],
      "metadata": {
        "colab": {
          "base_uri": "https://localhost:8080/",
          "height": 391
        },
        "id": "2xDCkfmje6C7",
        "outputId": "8a8f5d5f-8e9c-4716-e2db-7efcd0d6cd85"
      },
      "id": "2xDCkfmje6C7",
      "execution_count": null,
      "outputs": [
        {
          "output_type": "display_data",
          "data": {
            "text/plain": [
              "<Figure size 400x400 with 1 Axes>"
            ],
            "image/png": "[encoded data removed]"
          },
          "metadata": {}
        }
      ]
    },
    {
      "cell_type": "code",
      "source": [
        "def get_gradient_x_attention(attentions):\n",
        "    \"\"\"Factorize aggregated attentions and aggregated gradients over the\n",
        "        attention matricies for all layers \"\"\"\n",
        "\n",
        "    cumulated_attention = None\n",
        "    for i, attention in enumerate(attentions):\n",
        "        # aggregated the attention heads of the current layer\n",
        "        gradients = attention.grad\n",
        "        gradient_x_attention = torch.relu((attention * gradients)).mean(dim=-3)\n",
        "        if i == 0:\n",
        "            cumulated_attention = gradient_x_attention # initialize cumulated_attention\n",
        "        else:\n",
        "            # factorize attention over the layers\n",
        "            cumulated_attention = cumulated_attention * gradient_x_attention\n",
        "\n",
        "        # print(f\"Iteration: {i}\")\n",
        "        # plot_attention_maps(data_input, [gradient_x_attention.unsqueeze(dim=-3)], idx=5) # the function still requires list of attention with head dimension\n",
        "        # plot_attention_maps(data_input, [cumulated_attention.unsqueeze(dim=-3)], idx=5) # the function still requires list of attention with head dimension\n",
        "\n",
        "    return cumulated_attention\n",
        "\n",
        "# require get_attention_maps to return also the outputs to compute the gradients\n",
        "outputs, attention_maps = reverse_model.get_attention_maps(inp_data, return_outputs=True)\n",
        "\n",
        "idx = 5\n",
        "loss = F.cross_entropy(outputs[idx], labels[idx])\n",
        "loss.backward()\n",
        "\n",
        "# Plot GRADIENT X ATTENTION\n",
        "gradient_attention = get_gradient_x_attention(attention_maps)\n",
        "\n",
        "plot_attention_maps(data_input, [gradient_attention.unsqueeze(dim=-3)], idx=idx) # the function still requires list of attention with head dimension"
      ],
      "metadata": {
        "colab": {
          "base_uri": "https://localhost:8080/",
          "height": 391
        },
        "id": "PHM3dZFxgpHB",
        "outputId": "2bb153c0-5101-40c5-cb12-678bfb1bd517"
      },
      "id": "PHM3dZFxgpHB",
      "execution_count": null,
      "outputs": [
        {
          "output_type": "display_data",
          "data": {
            "text/plain": [
              "<Figure size 400x400 with 1 Axes>"
            ],
            "image/png": "[encoded data removed]"
          },
          "metadata": {}
        }
      ]
    },
    {
      "cell_type": "markdown",
      "id": "c1c016b9",
      "metadata": {
        "papermill": {
          "duration": 0.042832,
          "end_time": "2022-04-09T14:38:40.841468",
          "exception": false,
          "start_time": "2022-04-09T14:38:40.798636",
          "status": "completed"
        },
        "tags": [],
        "id": "c1c016b9"
      },
      "source": [
        "## Conclusion\n",
        "\n",
        "In this tutorial, we took a closer look at Transformer which is a very important, recent architecture that can be applied to many tasks and datasets. Although it is best known for its success in NLP, there is so much more to it.\n",
        "In particular we have seen:\n",
        "* The Multi-Head Attention layer which uses a scaled dot product between\n",
        "queries and keys to find correlations and similarities between input elements.\n",
        "* The architecture which is based on the Multi-Head Attention layer and applies multiple of them in a ResNet-like block.\n",
        "* The property of being permutation-equivariant (if we do not provide any positional encodings), which allows it to generalize to many settings.\n",
        "\n",
        "* How it can be applied to a simple sequence-to-sequence tasks.\n",
        "* How to visualize the attention matrices\n",
        "* How to compute attention-based explanation  \n"
      ]
    }
  ],
  "metadata": {
    "jupytext": {
      "cell_metadata_filter": "id,colab,colab_type,-all",
      "formats": "ipynb,py:percent",
      "main_language": "python"
    },
    "language_info": {
      "name": "python"
    },
    "papermill": {
      "default_parameters": {},
      "duration": 72.589227,
      "end_time": "2022-04-09T14:38:41.893966",
      "environment_variables": {},
      "exception": null,
      "input_path": "course_UvA-DL/05-transformers-and-MH-attention/Transformers_MHAttention.ipynb",
      "output_path": ".notebooks/course_UvA-DL/05-transformers-and-MH-attention.ipynb",
      "parameters": {},
      "start_time": "2022-04-09T14:37:29.304739",
      "version": "2.3.4"
    },
    "colab": {
      "provenance": [],
      "gpuType": "T4"
    },
    "kernelspec": {
      "name": "python3",
      "display_name": "Python 3"
    },
    "widgets": {
      "application/vnd.jupyter.widget-state+json": {
        "aed84e30f30f4b34bf090be81491a548": {
          "model_module": "@jupyter-widgets/controls",
          "model_name": "HBoxModel",
          "model_module_version": "1.5.0",
          "state": {
            "_dom_classes": [],
            "_model_module": "@jupyter-widgets/controls",
            "_model_module_version": "1.5.0",
            "_model_name": "HBoxModel",
            "_view_count": null,
            "_view_module": "@jupyter-widgets/controls",
            "_view_module_version": "1.5.0",
            "_view_name": "HBoxView",
            "box_style": "",
            "children": [
              "IPY_MODEL_93de1c4814b246e49b358d41f33cf23f",
              "IPY_MODEL_c435ade8b4c744378106245bffca825f",
              "IPY_MODEL_fa17203f767c48259cd84f81cf22a092"
            ],
            "layout": "IPY_MODEL_adda691e17124b5b98ad595f1489c30c"
          }
        },
        "93de1c4814b246e49b358d41f33cf23f": {
          "model_module": "@jupyter-widgets/controls",
          "model_name": "HTMLModel",
          "model_module_version": "1.5.0",
          "state": {
            "_dom_classes": [],
            "_model_module": "@jupyter-widgets/controls",
            "_model_module_version": "1.5.0",
            "_model_name": "HTMLModel",
            "_view_count": null,
            "_view_module": "@jupyter-widgets/controls",
            "_view_module_version": "1.5.0",
            "_view_name": "HTMLView",
            "description": "",
            "description_tooltip": null,
            "layout": "IPY_MODEL_e79af4c86f3549dd9e3175ad5e47466f",
            "placeholder": "​",
            "style": "IPY_MODEL_22b0b1daffba495ab4e76833641d8aee",
            "value": "Train Acc: 100.00 Train Loss: 0.00 Val Acc: 100.00  Val loss: 0.00 : 100%"
          }
        },
        "c435ade8b4c744378106245bffca825f": {
          "model_module": "@jupyter-widgets/controls",
          "model_name": "FloatProgressModel",
          "model_module_version": "1.5.0",
          "state": {
            "_dom_classes": [],
            "_model_module": "@jupyter-widgets/controls",
            "_model_module_version": "1.5.0",
            "_model_name": "FloatProgressModel",
            "_view_count": null,
            "_view_module": "@jupyter-widgets/controls",
            "_view_module_version": "1.5.0",
            "_view_name": "ProgressView",
            "bar_style": "success",
            "description": "",
            "description_tooltip": null,
            "layout": "IPY_MODEL_40a5b181ed0b428e96f8803f87891c58",
            "max": 5,
            "min": 0,
            "orientation": "horizontal",
            "style": "IPY_MODEL_bbbe1dbda9514b0f9d30c904be3374c2",
            "value": 5
          }
        },
        "fa17203f767c48259cd84f81cf22a092": {
          "model_module": "@jupyter-widgets/controls",
          "model_name": "HTMLModel",
          "model_module_version": "1.5.0",
          "state": {
            "_dom_classes": [],
            "_model_module": "@jupyter-widgets/controls",
            "_model_module_version": "1.5.0",
            "_model_name": "HTMLModel",
            "_view_count": null,
            "_view_module": "@jupyter-widgets/controls",
            "_view_module_version": "1.5.0",
            "_view_name": "HTMLView",
            "description": "",
            "description_tooltip": null,
            "layout": "IPY_MODEL_4238b398ef0142d2aebe6c2737a59068",
            "placeholder": "​",
            "style": "IPY_MODEL_8876c172c9864fc9b1091496dc67a773",
            "value": " 5/5 [00:16&lt;00:00,  2.85s/it]"
          }
        },
        "adda691e17124b5b98ad595f1489c30c": {
          "model_module": "@jupyter-widgets/base",
          "model_name": "LayoutModel",
          "model_module_version": "1.2.0",
          "state": {
            "_model_module": "@jupyter-widgets/base",
            "_model_module_version": "1.2.0",
            "_model_name": "LayoutModel",
            "_view_count": null,
            "_view_module": "@jupyter-widgets/base",
            "_view_module_version": "1.2.0",
            "_view_name": "LayoutView",
            "align_content": null,
            "align_items": null,
            "align_self": null,
            "border": null,
            "bottom": null,
            "display": null,
            "flex": null,
            "flex_flow": null,
            "grid_area": null,
            "grid_auto_columns": null,
            "grid_auto_flow": null,
            "grid_auto_rows": null,
            "grid_column": null,
            "grid_gap": null,
            "grid_row": null,
            "grid_template_areas": null,
            "grid_template_columns": null,
            "grid_template_rows": null,
            "height": null,
            "justify_content": null,
            "justify_items": null,
            "left": null,
            "margin": null,
            "max_height": null,
            "max_width": null,
            "min_height": null,
            "min_width": null,
            "object_fit": null,
            "object_position": null,
            "order": null,
            "overflow": null,
            "overflow_x": null,
            "overflow_y": null,
            "padding": null,
            "right": null,
            "top": null,
            "visibility": null,
            "width": null
          }
        },
        "e79af4c86f3549dd9e3175ad5e47466f": {
          "model_module": "@jupyter-widgets/base",
          "model_name": "LayoutModel",
          "model_module_version": "1.2.0",
          "state": {
            "_model_module": "@jupyter-widgets/base",
            "_model_module_version": "1.2.0",
            "_model_name": "LayoutModel",
            "_view_count": null,
            "_view_module": "@jupyter-widgets/base",
            "_view_module_version": "1.2.0",
            "_view_name": "LayoutView",
            "align_content": null,
            "align_items": null,
            "align_self": null,
            "border": null,
            "bottom": null,
            "display": null,
            "flex": null,
            "flex_flow": null,
            "grid_area": null,
            "grid_auto_columns": null,
            "grid_auto_flow": null,
            "grid_auto_rows": null,
            "grid_column": null,
            "grid_gap": null,
            "grid_row": null,
            "grid_template_areas": null,
            "grid_template_columns": null,
            "grid_template_rows": null,
            "height": null,
            "justify_content": null,
            "justify_items": null,
            "left": null,
            "margin": null,
            "max_height": null,
            "max_width": null,
            "min_height": null,
            "min_width": null,
            "object_fit": null,
            "object_position": null,
            "order": null,
            "overflow": null,
            "overflow_x": null,
            "overflow_y": null,
            "padding": null,
            "right": null,
            "top": null,
            "visibility": null,
            "width": null
          }
        },
        "22b0b1daffba495ab4e76833641d8aee": {
          "model_module": "@jupyter-widgets/controls",
          "model_name": "DescriptionStyleModel",
          "model_module_version": "1.5.0",
          "state": {
            "_model_module": "@jupyter-widgets/controls",
            "_model_module_version": "1.5.0",
            "_model_name": "DescriptionStyleModel",
            "_view_count": null,
            "_view_module": "@jupyter-widgets/base",
            "_view_module_version": "1.2.0",
            "_view_name": "StyleView",
            "description_width": ""
          }
        },
        "40a5b181ed0b428e96f8803f87891c58": {
          "model_module": "@jupyter-widgets/base",
          "model_name": "LayoutModel",
          "model_module_version": "1.2.0",
          "state": {
            "_model_module": "@jupyter-widgets/base",
            "_model_module_version": "1.2.0",
            "_model_name": "LayoutModel",
            "_view_count": null,
            "_view_module": "@jupyter-widgets/base",
            "_view_module_version": "1.2.0",
            "_view_name": "LayoutView",
            "align_content": null,
            "align_items": null,
            "align_self": null,
            "border": null,
            "bottom": null,
            "display": null,
            "flex": null,
            "flex_flow": null,
            "grid_area": null,
            "grid_auto_columns": null,
            "grid_auto_flow": null,
            "grid_auto_rows": null,
            "grid_column": null,
            "grid_gap": null,
            "grid_row": null,
            "grid_template_areas": null,
            "grid_template_columns": null,
            "grid_template_rows": null,
            "height": null,
            "justify_content": null,
            "justify_items": null,
            "left": null,
            "margin": null,
            "max_height": null,
            "max_width": null,
            "min_height": null,
            "min_width": null,
            "object_fit": null,
            "object_position": null,
            "order": null,
            "overflow": null,
            "overflow_x": null,
            "overflow_y": null,
            "padding": null,
            "right": null,
            "top": null,
            "visibility": null,
            "width": null
          }
        },
        "bbbe1dbda9514b0f9d30c904be3374c2": {
          "model_module": "@jupyter-widgets/controls",
          "model_name": "ProgressStyleModel",
          "model_module_version": "1.5.0",
          "state": {
            "_model_module": "@jupyter-widgets/controls",
            "_model_module_version": "1.5.0",
            "_model_name": "ProgressStyleModel",
            "_view_count": null,
            "_view_module": "@jupyter-widgets/base",
            "_view_module_version": "1.2.0",
            "_view_name": "StyleView",
            "bar_color": null,
            "description_width": ""
          }
        },
        "4238b398ef0142d2aebe6c2737a59068": {
          "model_module": "@jupyter-widgets/base",
          "model_name": "LayoutModel",
          "model_module_version": "1.2.0",
          "state": {
            "_model_module": "@jupyter-widgets/base",
            "_model_module_version": "1.2.0",
            "_model_name": "LayoutModel",
            "_view_count": null,
            "_view_module": "@jupyter-widgets/base",
            "_view_module_version": "1.2.0",
            "_view_name": "LayoutView",
            "align_content": null,
            "align_items": null,
            "align_self": null,
            "border": null,
            "bottom": null,
            "display": null,
            "flex": null,
            "flex_flow": null,
            "grid_area": null,
            "grid_auto_columns": null,
            "grid_auto_flow": null,
            "grid_auto_rows": null,
            "grid_column": null,
            "grid_gap": null,
            "grid_row": null,
            "grid_template_areas": null,
            "grid_template_columns": null,
            "grid_template_rows": null,
            "height": null,
            "justify_content": null,
            "justify_items": null,
            "left": null,
            "margin": null,
            "max_height": null,
            "max_width": null,
            "min_height": null,
            "min_width": null,
            "object_fit": null,
            "object_position": null,
            "order": null,
            "overflow": null,
            "overflow_x": null,
            "overflow_y": null,
            "padding": null,
            "right": null,
            "top": null,
            "visibility": null,
            "width": null
          }
        },
        "8876c172c9864fc9b1091496dc67a773": {
          "model_module": "@jupyter-widgets/controls",
          "model_name": "DescriptionStyleModel",
          "model_module_version": "1.5.0",
          "state": {
            "_model_module": "@jupyter-widgets/controls",
            "_model_module_version": "1.5.0",
            "_model_name": "DescriptionStyleModel",
            "_view_count": null,
            "_view_module": "@jupyter-widgets/base",
            "_view_module_version": "1.2.0",
            "_view_name": "StyleView",
            "description_width": ""
          }
        },
        "1a7130abf6f24a95b8beef24d4974f21": {
          "model_module": "@jupyter-widgets/controls",
          "model_name": "HBoxModel",
          "model_module_version": "1.5.0",
          "state": {
            "_dom_classes": [],
            "_model_module": "@jupyter-widgets/controls",
            "_model_module_version": "1.5.0",
            "_model_name": "HBoxModel",
            "_view_count": null,
            "_view_module": "@jupyter-widgets/controls",
            "_view_module_version": "1.5.0",
            "_view_name": "HBoxView",
            "box_style": "",
            "children": [
              "IPY_MODEL_c1e3cdd8a9b8430fac4c1983008316f3",
              "IPY_MODEL_ed2903a6b72b4abfb8c4b25602f0e373",
              "IPY_MODEL_29481c0d1033466d973ac8bd1374b87b"
            ],
            "layout": "IPY_MODEL_4e6df2934a3143b7a526a64b74107ba8"
          }
        },
        "c1e3cdd8a9b8430fac4c1983008316f3": {
          "model_module": "@jupyter-widgets/controls",
          "model_name": "HTMLModel",
          "model_module_version": "1.5.0",
          "state": {
            "_dom_classes": [],
            "_model_module": "@jupyter-widgets/controls",
            "_model_module_version": "1.5.0",
            "_model_name": "HTMLModel",
            "_view_count": null,
            "_view_module": "@jupyter-widgets/controls",
            "_view_module_version": "1.5.0",
            "_view_name": "HTMLView",
            "description": "",
            "description_tooltip": null,
            "layout": "IPY_MODEL_15ba1fe3999d41e68e4cd8b099e91b6c",
            "placeholder": "​",
            "style": "IPY_MODEL_ce52a98c666b4314a35551c5de8bc8c6",
            "value": "Train Acc: 100.00 Train Loss: 0.00 Val Acc: 100.00  Val loss: 0.00 : 100%"
          }
        },
        "ed2903a6b72b4abfb8c4b25602f0e373": {
          "model_module": "@jupyter-widgets/controls",
          "model_name": "FloatProgressModel",
          "model_module_version": "1.5.0",
          "state": {
            "_dom_classes": [],
            "_model_module": "@jupyter-widgets/controls",
            "_model_module_version": "1.5.0",
            "_model_name": "FloatProgressModel",
            "_view_count": null,
            "_view_module": "@jupyter-widgets/controls",
            "_view_module_version": "1.5.0",
            "_view_name": "ProgressView",
            "bar_style": "success",
            "description": "",
            "description_tooltip": null,
            "layout": "IPY_MODEL_9958c72154524b7cba0315ee304c866b",
            "max": 5,
            "min": 0,
            "orientation": "horizontal",
            "style": "IPY_MODEL_8b52e31f2e994bb69127ad60079dbb91",
            "value": 5
          }
        },
        "29481c0d1033466d973ac8bd1374b87b": {
          "model_module": "@jupyter-widgets/controls",
          "model_name": "HTMLModel",
          "model_module_version": "1.5.0",
          "state": {
            "_dom_classes": [],
            "_model_module": "@jupyter-widgets/controls",
            "_model_module_version": "1.5.0",
            "_model_name": "HTMLModel",
            "_view_count": null,
            "_view_module": "@jupyter-widgets/controls",
            "_view_module_version": "1.5.0",
            "_view_name": "HTMLView",
            "description": "",
            "description_tooltip": null,
            "layout": "IPY_MODEL_0e088b63303d46ae95be32535becf208",
            "placeholder": "​",
            "style": "IPY_MODEL_2674ab20af4e4ab49d52fe290ccf95e9",
            "value": " 5/5 [00:21&lt;00:00,  4.27s/it]"
          }
        },
        "4e6df2934a3143b7a526a64b74107ba8": {
          "model_module": "@jupyter-widgets/base",
          "model_name": "LayoutModel",
          "model_module_version": "1.2.0",
          "state": {
            "_model_module": "@jupyter-widgets/base",
            "_model_module_version": "1.2.0",
            "_model_name": "LayoutModel",
            "_view_count": null,
            "_view_module": "@jupyter-widgets/base",
            "_view_module_version": "1.2.0",
            "_view_name": "LayoutView",
            "align_content": null,
            "align_items": null,
            "align_self": null,
            "border": null,
            "bottom": null,
            "display": null,
            "flex": null,
            "flex_flow": null,
            "grid_area": null,
            "grid_auto_columns": null,
            "grid_auto_flow": null,
            "grid_auto_rows": null,
            "grid_column": null,
            "grid_gap": null,
            "grid_row": null,
            "grid_template_areas": null,
            "grid_template_columns": null,
            "grid_template_rows": null,
            "height": null,
            "justify_content": null,
            "justify_items": null,
            "left": null,
            "margin": null,
            "max_height": null,
            "max_width": null,
            "min_height": null,
            "min_width": null,
            "object_fit": null,
            "object_position": null,
            "order": null,
            "overflow": null,
            "overflow_x": null,
            "overflow_y": null,
            "padding": null,
            "right": null,
            "top": null,
            "visibility": null,
            "width": null
          }
        },
        "15ba1fe3999d41e68e4cd8b099e91b6c": {
          "model_module": "@jupyter-widgets/base",
          "model_name": "LayoutModel",
          "model_module_version": "1.2.0",
          "state": {
            "_model_module": "@jupyter-widgets/base",
            "_model_module_version": "1.2.0",
            "_model_name": "LayoutModel",
            "_view_count": null,
            "_view_module": "@jupyter-widgets/base",
            "_view_module_version": "1.2.0",
            "_view_name": "LayoutView",
            "align_content": null,
            "align_items": null,
            "align_self": null,
            "border": null,
            "bottom": null,
            "display": null,
            "flex": null,
            "flex_flow": null,
            "grid_area": null,
            "grid_auto_columns": null,
            "grid_auto_flow": null,
            "grid_auto_rows": null,
            "grid_column": null,
            "grid_gap": null,
            "grid_row": null,
            "grid_template_areas": null,
            "grid_template_columns": null,
            "grid_template_rows": null,
            "height": null,
            "justify_content": null,
            "justify_items": null,
            "left": null,
            "margin": null,
            "max_height": null,
            "max_width": null,
            "min_height": null,
            "min_width": null,
            "object_fit": null,
            "object_position": null,
            "order": null,
            "overflow": null,
            "overflow_x": null,
            "overflow_y": null,
            "padding": null,
            "right": null,
            "top": null,
            "visibility": null,
            "width": null
          }
        },
        "ce52a98c666b4314a35551c5de8bc8c6": {
          "model_module": "@jupyter-widgets/controls",
          "model_name": "DescriptionStyleModel",
          "model_module_version": "1.5.0",
          "state": {
            "_model_module": "@jupyter-widgets/controls",
            "_model_module_version": "1.5.0",
            "_model_name": "DescriptionStyleModel",
            "_view_count": null,
            "_view_module": "@jupyter-widgets/base",
            "_view_module_version": "1.2.0",
            "_view_name": "StyleView",
            "description_width": ""
          }
        },
        "9958c72154524b7cba0315ee304c866b": {
          "model_module": "@jupyter-widgets/base",
          "model_name": "LayoutModel",
          "model_module_version": "1.2.0",
          "state": {
            "_model_module": "@jupyter-widgets/base",
            "_model_module_version": "1.2.0",
            "_model_name": "LayoutModel",
            "_view_count": null,
            "_view_module": "@jupyter-widgets/base",
            "_view_module_version": "1.2.0",
            "_view_name": "LayoutView",
            "align_content": null,
            "align_items": null,
            "align_self": null,
            "border": null,
            "bottom": null,
            "display": null,
            "flex": null,
            "flex_flow": null,
            "grid_area": null,
            "grid_auto_columns": null,
            "grid_auto_flow": null,
            "grid_auto_rows": null,
            "grid_column": null,
            "grid_gap": null,
            "grid_row": null,
            "grid_template_areas": null,
            "grid_template_columns": null,
            "grid_template_rows": null,
            "height": null,
            "justify_content": null,
            "justify_items": null,
            "left": null,
            "margin": null,
            "max_height": null,
            "max_width": null,
            "min_height": null,
            "min_width": null,
            "object_fit": null,
            "object_position": null,
            "order": null,
            "overflow": null,
            "overflow_x": null,
            "overflow_y": null,
            "padding": null,
            "right": null,
            "top": null,
            "visibility": null,
            "width": null
          }
        },
        "8b52e31f2e994bb69127ad60079dbb91": {
          "model_module": "@jupyter-widgets/controls",
          "model_name": "ProgressStyleModel",
          "model_module_version": "1.5.0",
          "state": {
            "_model_module": "@jupyter-widgets/controls",
            "_model_module_version": "1.5.0",
            "_model_name": "ProgressStyleModel",
            "_view_count": null,
            "_view_module": "@jupyter-widgets/base",
            "_view_module_version": "1.2.0",
            "_view_name": "StyleView",
            "bar_color": null,
            "description_width": ""
          }
        },
        "0e088b63303d46ae95be32535becf208": {
          "model_module": "@jupyter-widgets/base",
          "model_name": "LayoutModel",
          "model_module_version": "1.2.0",
          "state": {
            "_model_module": "@jupyter-widgets/base",
            "_model_module_version": "1.2.0",
            "_model_name": "LayoutModel",
            "_view_count": null,
            "_view_module": "@jupyter-widgets/base",
            "_view_module_version": "1.2.0",
            "_view_name": "LayoutView",
            "align_content": null,
            "align_items": null,
            "align_self": null,
            "border": null,
            "bottom": null,
            "display": null,
            "flex": null,
            "flex_flow": null,
            "grid_area": null,
            "grid_auto_columns": null,
            "grid_auto_flow": null,
            "grid_auto_rows": null,
            "grid_column": null,
            "grid_gap": null,
            "grid_row": null,
            "grid_template_areas": null,
            "grid_template_columns": null,
            "grid_template_rows": null,
            "height": null,
            "justify_content": null,
            "justify_items": null,
            "left": null,
            "margin": null,
            "max_height": null,
            "max_width": null,
            "min_height": null,
            "min_width": null,
            "object_fit": null,
            "object_position": null,
            "order": null,
            "overflow": null,
            "overflow_x": null,
            "overflow_y": null,
            "padding": null,
            "right": null,
            "top": null,
            "visibility": null,
            "width": null
          }
        },
        "2674ab20af4e4ab49d52fe290ccf95e9": {
          "model_module": "@jupyter-widgets/controls",
          "model_name": "DescriptionStyleModel",
          "model_module_version": "1.5.0",
          "state": {
            "_model_module": "@jupyter-widgets/controls",
            "_model_module_version": "1.5.0",
            "_model_name": "DescriptionStyleModel",
            "_view_count": null,
            "_view_module": "@jupyter-widgets/base",
            "_view_module_version": "1.2.0",
            "_view_name": "StyleView",
            "description_width": ""
          }
        }
      }
    },
    "accelerator": "GPU"
  },
  "nbformat": 4,
  "nbformat_minor": 5
}